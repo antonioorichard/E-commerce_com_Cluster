{
 "cells": [
  {
   "cell_type": "markdown",
   "id": "f3714115",
   "metadata": {},
   "source": [
    "# 0.0 Imports"
   ]
  },
  {
   "cell_type": "code",
   "execution_count": 104,
   "id": "d4d143f8",
   "metadata": {},
   "outputs": [],
   "source": [
    "import umap.umap_        as umap\n",
    "import numpy             as np\n",
    "import pandas            as pd\n",
    "import seaborn           as sns\n",
    "import re\n",
    "\n",
    "\n",
    "from matplotlib         import pyplot           as plt \n",
    "%matplotlib inline\n",
    "from plotly             import express          as px\n",
    "\n",
    "from sklearn            import cluster as c \n",
    "from sklearn            import metrics as m\n",
    "from sklearn            import decomposition    as dd\n",
    "from sklearn.manifold   import TSNE\n",
    "from sklearn            import ensemble         as en\n",
    "from sklearn            import preprocessing    as pp\n",
    "from sklearn            import manifold         as mn\n",
    "from sklearn            import metrics          as m\n",
    "from sklearn            import mixture          as mx\n",
    "from scipy.cluster      import hierarchy        as hc \n"
   ]
  },
  {
   "cell_type": "markdown",
   "id": "d67a003a",
   "metadata": {},
   "source": [
    "## 0.1 Load Dataset "
   ]
  },
  {
   "cell_type": "code",
   "execution_count": 105,
   "id": "38bce971",
   "metadata": {},
   "outputs": [],
   "source": [
    "#load dataset\n",
    "df_raw = pd.read_csv('Ecommerce.csv')\n",
    "\n",
    "#drop extra column\n",
    "df_raw = df_raw.drop(columns=['Unnamed: 8'], axis=1)"
   ]
  },
  {
   "cell_type": "code",
   "execution_count": 106,
   "id": "78251692",
   "metadata": {},
   "outputs": [
    {
     "data": {
      "text/html": [
       "<div>\n",
       "<style scoped>\n",
       "    .dataframe tbody tr th:only-of-type {\n",
       "        vertical-align: middle;\n",
       "    }\n",
       "\n",
       "    .dataframe tbody tr th {\n",
       "        vertical-align: top;\n",
       "    }\n",
       "\n",
       "    .dataframe thead th {\n",
       "        text-align: right;\n",
       "    }\n",
       "</style>\n",
       "<table border=\"1\" class=\"dataframe\">\n",
       "  <thead>\n",
       "    <tr style=\"text-align: right;\">\n",
       "      <th></th>\n",
       "      <th>InvoiceNo</th>\n",
       "      <th>StockCode</th>\n",
       "      <th>Description</th>\n",
       "      <th>Quantity</th>\n",
       "      <th>InvoiceDate</th>\n",
       "      <th>UnitPrice</th>\n",
       "      <th>CustomerID</th>\n",
       "      <th>Country</th>\n",
       "    </tr>\n",
       "  </thead>\n",
       "  <tbody>\n",
       "    <tr>\n",
       "      <th>0</th>\n",
       "      <td>536365</td>\n",
       "      <td>85123A</td>\n",
       "      <td>WHITE HANGING HEART T-LIGHT HOLDER</td>\n",
       "      <td>6</td>\n",
       "      <td>29-Nov-16</td>\n",
       "      <td>2.55</td>\n",
       "      <td>17850.0</td>\n",
       "      <td>United Kingdom</td>\n",
       "    </tr>\n",
       "    <tr>\n",
       "      <th>1</th>\n",
       "      <td>536365</td>\n",
       "      <td>71053</td>\n",
       "      <td>WHITE METAL LANTERN</td>\n",
       "      <td>6</td>\n",
       "      <td>29-Nov-16</td>\n",
       "      <td>3.39</td>\n",
       "      <td>17850.0</td>\n",
       "      <td>United Kingdom</td>\n",
       "    </tr>\n",
       "    <tr>\n",
       "      <th>2</th>\n",
       "      <td>536365</td>\n",
       "      <td>84406B</td>\n",
       "      <td>CREAM CUPID HEARTS COAT HANGER</td>\n",
       "      <td>8</td>\n",
       "      <td>29-Nov-16</td>\n",
       "      <td>2.75</td>\n",
       "      <td>17850.0</td>\n",
       "      <td>United Kingdom</td>\n",
       "    </tr>\n",
       "    <tr>\n",
       "      <th>3</th>\n",
       "      <td>536365</td>\n",
       "      <td>84029G</td>\n",
       "      <td>KNITTED UNION FLAG HOT WATER BOTTLE</td>\n",
       "      <td>6</td>\n",
       "      <td>29-Nov-16</td>\n",
       "      <td>3.39</td>\n",
       "      <td>17850.0</td>\n",
       "      <td>United Kingdom</td>\n",
       "    </tr>\n",
       "    <tr>\n",
       "      <th>4</th>\n",
       "      <td>536365</td>\n",
       "      <td>84029E</td>\n",
       "      <td>RED WOOLLY HOTTIE WHITE HEART.</td>\n",
       "      <td>6</td>\n",
       "      <td>29-Nov-16</td>\n",
       "      <td>3.39</td>\n",
       "      <td>17850.0</td>\n",
       "      <td>United Kingdom</td>\n",
       "    </tr>\n",
       "  </tbody>\n",
       "</table>\n",
       "</div>"
      ],
      "text/plain": [
       "  InvoiceNo StockCode                          Description  Quantity  \\\n",
       "0    536365    85123A   WHITE HANGING HEART T-LIGHT HOLDER         6   \n",
       "1    536365     71053                  WHITE METAL LANTERN         6   \n",
       "2    536365    84406B       CREAM CUPID HEARTS COAT HANGER         8   \n",
       "3    536365    84029G  KNITTED UNION FLAG HOT WATER BOTTLE         6   \n",
       "4    536365    84029E       RED WOOLLY HOTTIE WHITE HEART.         6   \n",
       "\n",
       "  InvoiceDate  UnitPrice  CustomerID         Country  \n",
       "0   29-Nov-16       2.55     17850.0  United Kingdom  \n",
       "1   29-Nov-16       3.39     17850.0  United Kingdom  \n",
       "2   29-Nov-16       2.75     17850.0  United Kingdom  \n",
       "3   29-Nov-16       3.39     17850.0  United Kingdom  \n",
       "4   29-Nov-16       3.39     17850.0  United Kingdom  "
      ]
     },
     "execution_count": 106,
     "metadata": {},
     "output_type": "execute_result"
    }
   ],
   "source": [
    "df_raw.head()"
   ]
  },
  {
   "cell_type": "markdown",
   "id": "ba751505",
   "metadata": {},
   "source": [
    "# 1.0 Description data"
   ]
  },
  {
   "cell_type": "code",
   "execution_count": 107,
   "id": "f437a23c",
   "metadata": {},
   "outputs": [],
   "source": [
    "df1 = df_raw.copy()"
   ]
  },
  {
   "cell_type": "markdown",
   "id": "9a33a5f7",
   "metadata": {},
   "source": [
    "## 1.1 Rename columns"
   ]
  },
  {
   "cell_type": "code",
   "execution_count": 108,
   "id": "9a3eadf6",
   "metadata": {},
   "outputs": [
    {
     "data": {
      "text/plain": [
       "Index(['InvoiceNo', 'StockCode', 'Description', 'Quantity', 'InvoiceDate',\n",
       "       'UnitPrice', 'CustomerID', 'Country'],\n",
       "      dtype='object')"
      ]
     },
     "execution_count": 108,
     "metadata": {},
     "output_type": "execute_result"
    }
   ],
   "source": [
    "df1.columns "
   ]
  },
  {
   "cell_type": "code",
   "execution_count": 109,
   "id": "6901e379",
   "metadata": {},
   "outputs": [],
   "source": [
    "cols_new = ['invoice_no', 'stock_code', 'description', 'quantity', 'invoice_date','unit_price', 'customer_id', 'country']\n",
    "df1.columns = cols_new"
   ]
  },
  {
   "cell_type": "markdown",
   "id": "7c4f2bec",
   "metadata": {},
   "source": [
    "## 1.2 Data Dimensions"
   ]
  },
  {
   "cell_type": "code",
   "execution_count": 110,
   "id": "9bf64a70",
   "metadata": {},
   "outputs": [
    {
     "name": "stdout",
     "output_type": "stream",
     "text": [
      "Number of rows: 541909\n",
      "Number of columns: 8\n"
     ]
    }
   ],
   "source": [
    "print('Number of rows: {}'.format(df1.shape[0]))\n",
    "print('Number of columns: {}'.format(df1.shape[1]))"
   ]
  },
  {
   "cell_type": "markdown",
   "id": "3e3a8dda",
   "metadata": {},
   "source": [
    "## 1.3 Data Types"
   ]
  },
  {
   "cell_type": "code",
   "execution_count": 111,
   "id": "2457155c",
   "metadata": {},
   "outputs": [
    {
     "data": {
      "text/plain": [
       "invoice_no       object\n",
       "stock_code       object\n",
       "description      object\n",
       "quantity          int64\n",
       "invoice_date     object\n",
       "unit_price      float64\n",
       "customer_id     float64\n",
       "country          object\n",
       "dtype: object"
      ]
     },
     "execution_count": 111,
     "metadata": {},
     "output_type": "execute_result"
    }
   ],
   "source": [
    "df1.dtypes"
   ]
  },
  {
   "cell_type": "markdown",
   "id": "8d908f60",
   "metadata": {},
   "source": [
    "## 1.4 Check NA"
   ]
  },
  {
   "cell_type": "code",
   "execution_count": 112,
   "id": "28a4f8cb",
   "metadata": {},
   "outputs": [
    {
     "data": {
      "text/plain": [
       "invoice_no           0\n",
       "stock_code           0\n",
       "description       1454\n",
       "quantity             0\n",
       "invoice_date         0\n",
       "unit_price           0\n",
       "customer_id     135080\n",
       "country              0\n",
       "dtype: int64"
      ]
     },
     "execution_count": 112,
     "metadata": {},
     "output_type": "execute_result"
    }
   ],
   "source": [
    "df1.isnull().sum()"
   ]
  },
  {
   "cell_type": "markdown",
   "id": "6f595cb7",
   "metadata": {},
   "source": [
    "## 1.5 Replace NA"
   ]
  },
  {
   "cell_type": "code",
   "execution_count": 115,
   "id": "0e3fe796",
   "metadata": {},
   "outputs": [],
   "source": [
    "df_missing = df1.loc[df1['customer_id'].isna(), :]\n",
    "df_not_missing = df1.loc[~df1['customer_id'].isna(), :]"
   ]
  },
  {
   "cell_type": "code",
   "execution_count": 116,
   "id": "e55180ec",
   "metadata": {},
   "outputs": [
    {
     "data": {
      "text/html": [
       "<div>\n",
       "<style scoped>\n",
       "    .dataframe tbody tr th:only-of-type {\n",
       "        vertical-align: middle;\n",
       "    }\n",
       "\n",
       "    .dataframe tbody tr th {\n",
       "        vertical-align: top;\n",
       "    }\n",
       "\n",
       "    .dataframe thead th {\n",
       "        text-align: right;\n",
       "    }\n",
       "</style>\n",
       "<table border=\"1\" class=\"dataframe\">\n",
       "  <thead>\n",
       "    <tr style=\"text-align: right;\">\n",
       "      <th></th>\n",
       "      <th>invoice_no</th>\n",
       "      <th>stock_code</th>\n",
       "      <th>description</th>\n",
       "      <th>quantity</th>\n",
       "      <th>invoice_date</th>\n",
       "      <th>unit_price</th>\n",
       "      <th>country</th>\n",
       "      <th>customer_id</th>\n",
       "    </tr>\n",
       "  </thead>\n",
       "  <tbody>\n",
       "    <tr>\n",
       "      <th>0</th>\n",
       "      <td>536365</td>\n",
       "      <td>85123A</td>\n",
       "      <td>WHITE HANGING HEART T-LIGHT HOLDER</td>\n",
       "      <td>6</td>\n",
       "      <td>29-Nov-16</td>\n",
       "      <td>2.55</td>\n",
       "      <td>United Kingdom</td>\n",
       "      <td>17850.0</td>\n",
       "    </tr>\n",
       "    <tr>\n",
       "      <th>1</th>\n",
       "      <td>536365</td>\n",
       "      <td>71053</td>\n",
       "      <td>WHITE METAL LANTERN</td>\n",
       "      <td>6</td>\n",
       "      <td>29-Nov-16</td>\n",
       "      <td>3.39</td>\n",
       "      <td>United Kingdom</td>\n",
       "      <td>17850.0</td>\n",
       "    </tr>\n",
       "    <tr>\n",
       "      <th>2</th>\n",
       "      <td>536365</td>\n",
       "      <td>84406B</td>\n",
       "      <td>CREAM CUPID HEARTS COAT HANGER</td>\n",
       "      <td>8</td>\n",
       "      <td>29-Nov-16</td>\n",
       "      <td>2.75</td>\n",
       "      <td>United Kingdom</td>\n",
       "      <td>17850.0</td>\n",
       "    </tr>\n",
       "    <tr>\n",
       "      <th>3</th>\n",
       "      <td>536365</td>\n",
       "      <td>84029G</td>\n",
       "      <td>KNITTED UNION FLAG HOT WATER BOTTLE</td>\n",
       "      <td>6</td>\n",
       "      <td>29-Nov-16</td>\n",
       "      <td>3.39</td>\n",
       "      <td>United Kingdom</td>\n",
       "      <td>17850.0</td>\n",
       "    </tr>\n",
       "    <tr>\n",
       "      <th>4</th>\n",
       "      <td>536365</td>\n",
       "      <td>84029E</td>\n",
       "      <td>RED WOOLLY HOTTIE WHITE HEART.</td>\n",
       "      <td>6</td>\n",
       "      <td>29-Nov-16</td>\n",
       "      <td>3.39</td>\n",
       "      <td>United Kingdom</td>\n",
       "      <td>17850.0</td>\n",
       "    </tr>\n",
       "  </tbody>\n",
       "</table>\n",
       "</div>"
      ],
      "text/plain": [
       "  invoice_no stock_code                          description  quantity  \\\n",
       "0     536365     85123A   WHITE HANGING HEART T-LIGHT HOLDER         6   \n",
       "1     536365      71053                  WHITE METAL LANTERN         6   \n",
       "2     536365     84406B       CREAM CUPID HEARTS COAT HANGER         8   \n",
       "3     536365     84029G  KNITTED UNION FLAG HOT WATER BOTTLE         6   \n",
       "4     536365     84029E       RED WOOLLY HOTTIE WHITE HEART.         6   \n",
       "\n",
       "  invoice_date  unit_price         country  customer_id  \n",
       "0    29-Nov-16        2.55  United Kingdom      17850.0  \n",
       "1    29-Nov-16        3.39  United Kingdom      17850.0  \n",
       "2    29-Nov-16        2.75  United Kingdom      17850.0  \n",
       "3    29-Nov-16        3.39  United Kingdom      17850.0  \n",
       "4    29-Nov-16        3.39  United Kingdom      17850.0  "
      ]
     },
     "execution_count": 116,
     "metadata": {},
     "output_type": "execute_result"
    }
   ],
   "source": [
    "#create reference\n",
    "df_backup = pd.DataFrame(df_missing['invoice_no']).drop_duplicates()\n",
    "df_backup['customer_id'] = np.arange(19000, 19000 + len(df_backup), 1)\n",
    "\n",
    "#merge original with reference dataframe\n",
    "df1 = pd.merge(df1, df_backup, on='invoice_no', how='left')\n",
    "\n",
    "#coalesce \n",
    "df1['customer_id'] = df1['customer_id_x'].combine_first(df1['customer_id_y'])\n",
    "\n",
    "#drop extra columns\n",
    "df1 = df1.drop(columns=['customer_id_x', 'customer_id_y'], axis=1)\n",
    "df1.head()"
   ]
  },
  {
   "cell_type": "code",
   "execution_count": 117,
   "id": "c3e0d682",
   "metadata": {},
   "outputs": [
    {
     "data": {
      "text/plain": [
       "invoice_no         0\n",
       "stock_code         0\n",
       "description     1454\n",
       "quantity           0\n",
       "invoice_date       0\n",
       "unit_price         0\n",
       "country            0\n",
       "customer_id        0\n",
       "dtype: int64"
      ]
     },
     "execution_count": 117,
     "metadata": {},
     "output_type": "execute_result"
    }
   ],
   "source": [
    "df1.isna().sum()"
   ]
  },
  {
   "cell_type": "markdown",
   "id": "5516baf2",
   "metadata": {},
   "source": [
    "## 1.6 Change dtypes"
   ]
  },
  {
   "cell_type": "code",
   "execution_count": 118,
   "id": "941fdb01",
   "metadata": {},
   "outputs": [
    {
     "data": {
      "text/plain": [
       "invoice_no              object\n",
       "stock_code              object\n",
       "description             object\n",
       "quantity                 int64\n",
       "invoice_date    datetime64[ns]\n",
       "unit_price             float64\n",
       "country                 object\n",
       "customer_id              int32\n",
       "dtype: object"
      ]
     },
     "execution_count": 118,
     "metadata": {},
     "output_type": "execute_result"
    }
   ],
   "source": [
    "#invoice date\n",
    "df1['invoice_date'] = pd.to_datetime(df1['invoice_date'], format= '%d-%b-%y') \n",
    "\n",
    "#customer id\n",
    "df1['customer_id'] = df1['customer_id'].astype(int)\n",
    "df1.dtypes"
   ]
  },
  {
   "cell_type": "markdown",
   "id": "407e8914",
   "metadata": {},
   "source": [
    "## 1.7 Descriptive Statistics"
   ]
  },
  {
   "cell_type": "code",
   "execution_count": 119,
   "id": "2375a4ba",
   "metadata": {},
   "outputs": [],
   "source": [
    "num_attributes = df1.select_dtypes(include=['int64', 'int32', 'float64'])\n",
    "cat_attributes = df1.select_dtypes(exclude=['int64', 'int32', 'float64', 'datetime64[ns]'])"
   ]
  },
  {
   "cell_type": "markdown",
   "id": "375a7f86",
   "metadata": {},
   "source": [
    "### 1.7.1 Numerical Attributes"
   ]
  },
  {
   "cell_type": "code",
   "execution_count": 120,
   "id": "b9365c42",
   "metadata": {},
   "outputs": [
    {
     "data": {
      "text/html": [
       "<div>\n",
       "<style scoped>\n",
       "    .dataframe tbody tr th:only-of-type {\n",
       "        vertical-align: middle;\n",
       "    }\n",
       "\n",
       "    .dataframe tbody tr th {\n",
       "        vertical-align: top;\n",
       "    }\n",
       "\n",
       "    .dataframe thead th {\n",
       "        text-align: right;\n",
       "    }\n",
       "</style>\n",
       "<table border=\"1\" class=\"dataframe\">\n",
       "  <thead>\n",
       "    <tr style=\"text-align: right;\">\n",
       "      <th></th>\n",
       "      <th>attributes</th>\n",
       "      <th>min</th>\n",
       "      <th>max</th>\n",
       "      <th>range</th>\n",
       "      <th>mean</th>\n",
       "      <th>median</th>\n",
       "      <th>std</th>\n",
       "      <th>skew</th>\n",
       "      <th>kurtosis</th>\n",
       "    </tr>\n",
       "  </thead>\n",
       "  <tbody>\n",
       "    <tr>\n",
       "      <th>0</th>\n",
       "      <td>quantity</td>\n",
       "      <td>-80995.00</td>\n",
       "      <td>80995.0</td>\n",
       "      <td>161990.00</td>\n",
       "      <td>9.552250</td>\n",
       "      <td>3.00</td>\n",
       "      <td>218.080957</td>\n",
       "      <td>-0.264076</td>\n",
       "      <td>119769.160031</td>\n",
       "    </tr>\n",
       "    <tr>\n",
       "      <th>1</th>\n",
       "      <td>unit_price</td>\n",
       "      <td>-11062.06</td>\n",
       "      <td>38970.0</td>\n",
       "      <td>50032.06</td>\n",
       "      <td>4.611114</td>\n",
       "      <td>2.08</td>\n",
       "      <td>96.759764</td>\n",
       "      <td>186.506972</td>\n",
       "      <td>59005.719097</td>\n",
       "    </tr>\n",
       "  </tbody>\n",
       "</table>\n",
       "</div>"
      ],
      "text/plain": [
       "   attributes       min      max      range      mean  median         std  \\\n",
       "0    quantity -80995.00  80995.0  161990.00  9.552250    3.00  218.080957   \n",
       "1  unit_price -11062.06  38970.0   50032.06  4.611114    2.08   96.759764   \n",
       "\n",
       "         skew       kurtosis  \n",
       "0   -0.264076  119769.160031  \n",
       "1  186.506972   59005.719097  "
      ]
     },
     "execution_count": 120,
     "metadata": {},
     "output_type": "execute_result"
    }
   ],
   "source": [
    "#central tendency - mean, median\n",
    "ct1 = pd.DataFrame(num_attributes.apply(np.mean)).T\n",
    "ct2 = pd.DataFrame(num_attributes.apply(np.median)).T\n",
    "\n",
    "#dispersion \n",
    "d1 = pd.DataFrame(num_attributes.apply(np.std)).T\n",
    "d2 = pd.DataFrame(num_attributes.apply(np.min)).T\n",
    "d3 = pd.DataFrame(num_attributes.apply(np.max)).T\n",
    "d4 = pd.DataFrame(num_attributes.apply(lambda x: x.max() - x.min())).T\n",
    "d5 = pd.DataFrame(num_attributes.apply(lambda x: x.skew())).T\n",
    "d6 = pd.DataFrame(num_attributes.apply(lambda x: x.kurtosis())).T\n",
    "\n",
    "#concatenate\n",
    "m1 = pd.concat([d2 ,d3, d4, ct1, ct2, d1, d5, d6]).T.reset_index()\n",
    "m1 = m1.drop([2])\n",
    "m1.columns = ['attributes', 'min', 'max', 'range', 'mean', 'median', 'std', 'skew', 'kurtosis' ]\n",
    "m1"
   ]
  },
  {
   "cell_type": "markdown",
   "id": "f3ddb2ec",
   "metadata": {},
   "source": [
    "\n",
    "- need investige negative quantity, could be return \n",
    "- unit price equal zero, could be sale"
   ]
  },
  {
   "cell_type": "markdown",
   "id": "9c3dbe80",
   "metadata": {},
   "source": [
    "### 7.1.2 Categorical Attributes"
   ]
  },
  {
   "cell_type": "code",
   "execution_count": 121,
   "id": "7f988dbd",
   "metadata": {
    "scrolled": true
   },
   "outputs": [
    {
     "data": {
      "text/html": [
       "<div>\n",
       "<style scoped>\n",
       "    .dataframe tbody tr th:only-of-type {\n",
       "        vertical-align: middle;\n",
       "    }\n",
       "\n",
       "    .dataframe tbody tr th {\n",
       "        vertical-align: top;\n",
       "    }\n",
       "\n",
       "    .dataframe thead th {\n",
       "        text-align: right;\n",
       "    }\n",
       "</style>\n",
       "<table border=\"1\" class=\"dataframe\">\n",
       "  <thead>\n",
       "    <tr style=\"text-align: right;\">\n",
       "      <th></th>\n",
       "      <th>invoice_no</th>\n",
       "      <th>stock_code</th>\n",
       "      <th>description</th>\n",
       "      <th>country</th>\n",
       "    </tr>\n",
       "  </thead>\n",
       "  <tbody>\n",
       "    <tr>\n",
       "      <th>0</th>\n",
       "      <td>536365</td>\n",
       "      <td>85123A</td>\n",
       "      <td>WHITE HANGING HEART T-LIGHT HOLDER</td>\n",
       "      <td>United Kingdom</td>\n",
       "    </tr>\n",
       "    <tr>\n",
       "      <th>1</th>\n",
       "      <td>536365</td>\n",
       "      <td>71053</td>\n",
       "      <td>WHITE METAL LANTERN</td>\n",
       "      <td>United Kingdom</td>\n",
       "    </tr>\n",
       "    <tr>\n",
       "      <th>2</th>\n",
       "      <td>536365</td>\n",
       "      <td>84406B</td>\n",
       "      <td>CREAM CUPID HEARTS COAT HANGER</td>\n",
       "      <td>United Kingdom</td>\n",
       "    </tr>\n",
       "    <tr>\n",
       "      <th>3</th>\n",
       "      <td>536365</td>\n",
       "      <td>84029G</td>\n",
       "      <td>KNITTED UNION FLAG HOT WATER BOTTLE</td>\n",
       "      <td>United Kingdom</td>\n",
       "    </tr>\n",
       "    <tr>\n",
       "      <th>4</th>\n",
       "      <td>536365</td>\n",
       "      <td>84029E</td>\n",
       "      <td>RED WOOLLY HOTTIE WHITE HEART.</td>\n",
       "      <td>United Kingdom</td>\n",
       "    </tr>\n",
       "  </tbody>\n",
       "</table>\n",
       "</div>"
      ],
      "text/plain": [
       "  invoice_no stock_code                          description         country\n",
       "0     536365     85123A   WHITE HANGING HEART T-LIGHT HOLDER  United Kingdom\n",
       "1     536365      71053                  WHITE METAL LANTERN  United Kingdom\n",
       "2     536365     84406B       CREAM CUPID HEARTS COAT HANGER  United Kingdom\n",
       "3     536365     84029G  KNITTED UNION FLAG HOT WATER BOTTLE  United Kingdom\n",
       "4     536365     84029E       RED WOOLLY HOTTIE WHITE HEART.  United Kingdom"
      ]
     },
     "execution_count": 121,
     "metadata": {},
     "output_type": "execute_result"
    }
   ],
   "source": [
    "cat_attributes.head()"
   ]
  },
  {
   "cell_type": "markdown",
   "id": "c6de2113",
   "metadata": {},
   "source": [
    "##### Invoice number "
   ]
  },
  {
   "cell_type": "code",
   "execution_count": 122,
   "id": "403ec8ff",
   "metadata": {},
   "outputs": [
    {
     "name": "stdout",
     "output_type": "stream",
     "text": [
      "Total number of invoices: 9291\n",
      "Total number of negative quantity: 9288\n"
     ]
    }
   ],
   "source": [
    "df_letter_invoices = df1.loc[df1['invoice_no'].apply(lambda x: bool(re.search('[^0-9]+', x))), :]\n",
    "\n",
    "#check if the number of invoices that contains letters are igual with negative quantity\n",
    "print('Total number of invoices: {}'.format(len(df_letter_invoices)))\n",
    "print('Total number of negative quantity: {}'.format(len(df_letter_invoices[df_letter_invoices['quantity'] < 0])))"
   ]
  },
  {
   "cell_type": "markdown",
   "id": "b4fd6ef3",
   "metadata": {},
   "source": [
    "##### Stock code"
   ]
  },
  {
   "cell_type": "code",
   "execution_count": 123,
   "id": "d2327865",
   "metadata": {},
   "outputs": [
    {
     "data": {
      "text/plain": [
       "array(['POST', 'D', 'DOT', 'M', 'S', 'AMAZONFEE', 'm', 'DCGSSBOY',\n",
       "       'DCGSSGIRL', 'PADS', 'B', 'CRUK'], dtype=object)"
      ]
     },
     "execution_count": 123,
     "metadata": {},
     "output_type": "execute_result"
    }
   ],
   "source": [
    "cat_attributes.loc[cat_attributes['stock_code'].apply(lambda x: bool(re.search('^[a-zA-Z]+$', x))), 'stock_code'].unique()"
   ]
  },
  {
   "cell_type": "code",
   "execution_count": 124,
   "id": "981022ef",
   "metadata": {},
   "outputs": [
    {
     "data": {
      "text/html": [
       "<div>\n",
       "<style scoped>\n",
       "    .dataframe tbody tr th:only-of-type {\n",
       "        vertical-align: middle;\n",
       "    }\n",
       "\n",
       "    .dataframe tbody tr th {\n",
       "        vertical-align: top;\n",
       "    }\n",
       "\n",
       "    .dataframe thead th {\n",
       "        text-align: right;\n",
       "    }\n",
       "</style>\n",
       "<table border=\"1\" class=\"dataframe\">\n",
       "  <thead>\n",
       "    <tr style=\"text-align: right;\">\n",
       "      <th></th>\n",
       "      <th>invoice_no</th>\n",
       "      <th>stock_code</th>\n",
       "      <th>description</th>\n",
       "      <th>quantity</th>\n",
       "      <th>invoice_date</th>\n",
       "      <th>unit_price</th>\n",
       "      <th>country</th>\n",
       "      <th>customer_id</th>\n",
       "    </tr>\n",
       "  </thead>\n",
       "  <tbody>\n",
       "    <tr>\n",
       "      <th>45</th>\n",
       "      <td>536370</td>\n",
       "      <td>POST</td>\n",
       "      <td>POSTAGE</td>\n",
       "      <td>3</td>\n",
       "      <td>2016-11-29</td>\n",
       "      <td>18.00</td>\n",
       "      <td>France</td>\n",
       "      <td>12583</td>\n",
       "    </tr>\n",
       "    <tr>\n",
       "      <th>141</th>\n",
       "      <td>C536379</td>\n",
       "      <td>D</td>\n",
       "      <td>Discount</td>\n",
       "      <td>-1</td>\n",
       "      <td>2016-11-29</td>\n",
       "      <td>27.50</td>\n",
       "      <td>United Kingdom</td>\n",
       "      <td>14527</td>\n",
       "    </tr>\n",
       "    <tr>\n",
       "      <th>386</th>\n",
       "      <td>536403</td>\n",
       "      <td>POST</td>\n",
       "      <td>POSTAGE</td>\n",
       "      <td>1</td>\n",
       "      <td>2016-11-29</td>\n",
       "      <td>15.00</td>\n",
       "      <td>Netherlands</td>\n",
       "      <td>12791</td>\n",
       "    </tr>\n",
       "    <tr>\n",
       "      <th>1123</th>\n",
       "      <td>536527</td>\n",
       "      <td>POST</td>\n",
       "      <td>POSTAGE</td>\n",
       "      <td>1</td>\n",
       "      <td>2016-11-29</td>\n",
       "      <td>18.00</td>\n",
       "      <td>Germany</td>\n",
       "      <td>12662</td>\n",
       "    </tr>\n",
       "    <tr>\n",
       "      <th>1814</th>\n",
       "      <td>536544</td>\n",
       "      <td>DOT</td>\n",
       "      <td>DOTCOM POSTAGE</td>\n",
       "      <td>1</td>\n",
       "      <td>2016-11-29</td>\n",
       "      <td>569.77</td>\n",
       "      <td>United Kingdom</td>\n",
       "      <td>19001</td>\n",
       "    </tr>\n",
       "  </tbody>\n",
       "</table>\n",
       "</div>"
      ],
      "text/plain": [
       "     invoice_no stock_code     description  quantity invoice_date  unit_price  \\\n",
       "45       536370       POST         POSTAGE         3   2016-11-29       18.00   \n",
       "141     C536379          D        Discount        -1   2016-11-29       27.50   \n",
       "386      536403       POST         POSTAGE         1   2016-11-29       15.00   \n",
       "1123     536527       POST         POSTAGE         1   2016-11-29       18.00   \n",
       "1814     536544        DOT  DOTCOM POSTAGE         1   2016-11-29      569.77   \n",
       "\n",
       "             country  customer_id  \n",
       "45            France        12583  \n",
       "141   United Kingdom        14527  \n",
       "386      Netherlands        12791  \n",
       "1123         Germany        12662  \n",
       "1814  United Kingdom        19001  "
      ]
     },
     "execution_count": 124,
     "metadata": {},
     "output_type": "execute_result"
    }
   ],
   "source": [
    "df1.loc[cat_attributes['stock_code'].apply(lambda x: bool(re.search('^[a-zA-Z]+$', x))), :].head()"
   ]
  },
  {
   "cell_type": "markdown",
   "id": "3e053c97",
   "metadata": {},
   "source": [
    "##### Country"
   ]
  },
  {
   "cell_type": "code",
   "execution_count": 125,
   "id": "e9aad8d7",
   "metadata": {},
   "outputs": [
    {
     "data": {
      "text/plain": [
       "United Kingdom    0.914320\n",
       "Germany           0.017521\n",
       "France            0.015790\n",
       "EIRE              0.015124\n",
       "Spain             0.004674\n",
       "Name: country, dtype: float64"
      ]
     },
     "execution_count": 125,
     "metadata": {},
     "output_type": "execute_result"
    }
   ],
   "source": [
    "df1['country'].value_counts(normalize=True).head()"
   ]
  },
  {
   "cell_type": "code",
   "execution_count": 126,
   "id": "bb4ff5c4",
   "metadata": {},
   "outputs": [
    {
     "data": {
      "text/html": [
       "<div>\n",
       "<style scoped>\n",
       "    .dataframe tbody tr th:only-of-type {\n",
       "        vertical-align: middle;\n",
       "    }\n",
       "\n",
       "    .dataframe tbody tr th {\n",
       "        vertical-align: top;\n",
       "    }\n",
       "\n",
       "    .dataframe thead th {\n",
       "        text-align: right;\n",
       "    }\n",
       "</style>\n",
       "<table border=\"1\" class=\"dataframe\">\n",
       "  <thead>\n",
       "    <tr style=\"text-align: right;\">\n",
       "      <th></th>\n",
       "      <th>country</th>\n",
       "      <th>customer_id</th>\n",
       "    </tr>\n",
       "  </thead>\n",
       "  <tbody>\n",
       "    <tr>\n",
       "      <th>36</th>\n",
       "      <td>United Kingdom</td>\n",
       "      <td>7587</td>\n",
       "    </tr>\n",
       "    <tr>\n",
       "      <th>14</th>\n",
       "      <td>Germany</td>\n",
       "      <td>95</td>\n",
       "    </tr>\n",
       "    <tr>\n",
       "      <th>13</th>\n",
       "      <td>France</td>\n",
       "      <td>90</td>\n",
       "    </tr>\n",
       "    <tr>\n",
       "      <th>10</th>\n",
       "      <td>EIRE</td>\n",
       "      <td>44</td>\n",
       "    </tr>\n",
       "    <tr>\n",
       "      <th>31</th>\n",
       "      <td>Spain</td>\n",
       "      <td>31</td>\n",
       "    </tr>\n",
       "  </tbody>\n",
       "</table>\n",
       "</div>"
      ],
      "text/plain": [
       "           country  customer_id\n",
       "36  United Kingdom         7587\n",
       "14         Germany           95\n",
       "13          France           90\n",
       "10            EIRE           44\n",
       "31           Spain           31"
      ]
     },
     "execution_count": 126,
     "metadata": {},
     "output_type": "execute_result"
    }
   ],
   "source": [
    "df1[['customer_id', 'country']].drop_duplicates().groupby('country').count().reset_index().sort_values('customer_id', ascending=False).head()"
   ]
  },
  {
   "cell_type": "markdown",
   "id": "a572e46e",
   "metadata": {},
   "source": [
    "# 2.0 Filter Variables"
   ]
  },
  {
   "cell_type": "code",
   "execution_count": 127,
   "id": "66d6124d",
   "metadata": {},
   "outputs": [],
   "source": [
    "df2 = df1.copy()"
   ]
  },
  {
   "cell_type": "code",
   "execution_count": 130,
   "id": "d65b1387",
   "metadata": {},
   "outputs": [],
   "source": [
    "#unit price > 0.0\n",
    "df2 = df2.loc[df2['unit_price'] > 0.04, :]\n",
    "\n",
    "#stock code different of ['POST', 'D', 'M', 'PADS', 'DOT', 'CRUK']\n",
    "df2 = df2[~df2['stock_code'].isin(['POST', 'D', 'DOT', 'M', 'S', 'AMAZONFEE', 'm', 'DCGSSBOY','DCGSSGIRL', 'PADS', 'B', 'CRUK'])]\n",
    "\n",
    "#description\n",
    "df2 = df2.drop(columns='description', axis=1)\n",
    "\n",
    "#map \n",
    "df2 = df2[~df2['country'].isin(['European Community', 'Unspecified'])]\n",
    "\n",
    "#bad users\n",
    "df2 = df2[~df2['customer_id'].isin([16446])] #user com numero muito grande de retornos \n",
    "\n",
    "#quantity - dividing in return and purchase \n",
    "df2_returns = df2.loc[df2['quantity'] < 0, :]\n",
    "df2_purchases = df2.loc[df2['quantity'] >= 0, :]"
   ]
  },
  {
   "cell_type": "markdown",
   "id": "f9863da5",
   "metadata": {},
   "source": [
    "# 3.0 Feature Engineering"
   ]
  },
  {
   "cell_type": "code",
   "execution_count": 132,
   "id": "26d6651d",
   "metadata": {},
   "outputs": [],
   "source": [
    "df3 = df2.copy()"
   ]
  },
  {
   "cell_type": "markdown",
   "id": "90e7d754",
   "metadata": {},
   "source": [
    "## 3.1 Feature Creation "
   ]
  },
  {
   "cell_type": "code",
   "execution_count": 133,
   "id": "e9dd8387",
   "metadata": {},
   "outputs": [],
   "source": [
    "df_ref = df3.drop(['invoice_no', 'stock_code', 'quantity', 'invoice_date','unit_price', \n",
    "                   'country'], axis=1).drop_duplicates(ignore_index=True)"
   ]
  },
  {
   "cell_type": "markdown",
   "id": "3744d2b2",
   "metadata": {},
   "source": [
    "### 3.1.1 Gross Revenue"
   ]
  },
  {
   "cell_type": "code",
   "execution_count": 134,
   "id": "83f71b7e",
   "metadata": {},
   "outputs": [
    {
     "name": "stderr",
     "output_type": "stream",
     "text": [
      "C:\\Users\\aline\\anaconda3\\lib\\site-packages\\pandas\\core\\indexing.py:1597: SettingWithCopyWarning: \n",
      "A value is trying to be set on a copy of a slice from a DataFrame.\n",
      "Try using .loc[row_indexer,col_indexer] = value instead\n",
      "\n",
      "See the caveats in the documentation: https://pandas.pydata.org/pandas-docs/stable/user_guide/indexing.html#returning-a-view-versus-a-copy\n",
      "  self.obj[key] = value\n",
      "C:\\Users\\aline\\anaconda3\\lib\\site-packages\\pandas\\core\\indexing.py:1676: SettingWithCopyWarning: \n",
      "A value is trying to be set on a copy of a slice from a DataFrame.\n",
      "Try using .loc[row_indexer,col_indexer] = value instead\n",
      "\n",
      "See the caveats in the documentation: https://pandas.pydata.org/pandas-docs/stable/user_guide/indexing.html#returning-a-view-versus-a-copy\n",
      "  self._setitem_single_column(ilocs[0], value, pi)\n"
     ]
    }
   ],
   "source": [
    "# Gross Revenue\n",
    "df2_purchases.loc[:, 'gross_revenue'] = df2_purchases.loc[:, 'quantity'] * df2_purchases.loc[:, 'unit_price']\n",
    "\n",
    "#Monetary\n",
    "df_monetary = df2_purchases.loc[:, ['customer_id', 'gross_revenue']].groupby('customer_id').sum().reset_index()\n",
    "df_ref = pd.merge(df_ref, df_monetary, on='customer_id', how='left')"
   ]
  },
  {
   "cell_type": "markdown",
   "id": "51c08b01",
   "metadata": {},
   "source": [
    "### 3.1.2 Recency - Days from last purchase"
   ]
  },
  {
   "cell_type": "code",
   "execution_count": 135,
   "id": "0dd5e3a2",
   "metadata": {},
   "outputs": [],
   "source": [
    "# Recency - Last day purchase\n",
    "df_recency = df2_purchases.loc[:, ['customer_id', 'invoice_date']].groupby('customer_id').max().reset_index()\n",
    "df_recency['recency_days'] = (df2.invoice_date.max() - df_recency.invoice_date).dt.days\n",
    "df_recency = df_recency[['customer_id', 'recency_days']].copy()\n",
    "df_ref = pd.merge(df_ref, df_recency, on='customer_id', how='left')"
   ]
  },
  {
   "cell_type": "markdown",
   "id": "d3fa72f0",
   "metadata": {},
   "source": [
    "### 3.1.3 Quantity purchased "
   ]
  },
  {
   "cell_type": "code",
   "execution_count": 136,
   "id": "172125bf",
   "metadata": {},
   "outputs": [],
   "source": [
    "# Numero de vezes que foi ao mercado\n",
    "df_freq = df2_purchases.loc[:, ['customer_id', 'invoice_no']].drop_duplicates().groupby('customer_id').count().reset_index().rename(columns={'invoice_no':'qtde_invoices'})\n",
    "df_ref = pd.merge(df_ref, df_freq, on='customer_id', how='left')"
   ]
  },
  {
   "cell_type": "markdown",
   "id": "8d250e0a",
   "metadata": {},
   "source": [
    "### 3.1.4 Quantity total of items purchased "
   ]
  },
  {
   "cell_type": "code",
   "execution_count": 137,
   "id": "6123713f",
   "metadata": {},
   "outputs": [],
   "source": [
    "#quantidade de items comprados durante todo esse tempo \n",
    "df_freq = df2_purchases.loc[:, ['customer_id', 'quantity']].groupby('customer_id').sum().reset_index().rename(columns={'quantity':'qtde_items'})\n",
    "df_ref = pd.merge(df_ref, df_freq, on='customer_id', how='left')"
   ]
  },
  {
   "cell_type": "markdown",
   "id": "3ee78a52",
   "metadata": {},
   "source": [
    "### 3.1.5 Quantity of products purchased"
   ]
  },
  {
   "cell_type": "code",
   "execution_count": 138,
   "id": "1d946f9d",
   "metadata": {},
   "outputs": [],
   "source": [
    "df_freq = df2_purchases.loc[:, ['customer_id', 'stock_code']].groupby('customer_id').count().reset_index().rename(columns={'stock_code':'qtde_products'})\n",
    "df_ref = pd.merge(df_ref, df_freq, on='customer_id', how='left')"
   ]
  },
  {
   "cell_type": "markdown",
   "id": "b781e791",
   "metadata": {},
   "source": [
    "### 3.1.5 Average Ticket Value "
   ]
  },
  {
   "cell_type": "code",
   "execution_count": 139,
   "id": "98199255",
   "metadata": {},
   "outputs": [],
   "source": [
    "# average ticket\n",
    "df_avg_ticket = df2_purchases.loc[:, ['customer_id', 'gross_revenue']].groupby('customer_id').mean().reset_index().rename(columns={'gross_revenue':'avg_ticket'})\n",
    "df_ref = pd.merge(df_ref, df_avg_ticket, on='customer_id', how='left')"
   ]
  },
  {
   "cell_type": "markdown",
   "id": "acc18553",
   "metadata": {},
   "source": [
    "### Frequency Purchase"
   ]
  },
  {
   "cell_type": "code",
   "execution_count": 140,
   "id": "0799b862",
   "metadata": {},
   "outputs": [],
   "source": [
    "df_aux = ( df2_purchases[['invoice_no', 'customer_id', 'invoice_date']].drop_duplicates()\n",
    "                                                  .groupby('customer_id')\n",
    "                                                  .agg(max_ = ('invoice_date', 'max'),\n",
    "                                                      min_ = ('invoice_date', 'min'),\n",
    "                                                      days_ = ('invoice_date', lambda x: ((x.max() - x.min()).days) + 1),\n",
    "                                                      buys_ = ('invoice_no', 'count')) ).reset_index()\n",
    "\n",
    "#Frequency\n",
    "df_aux['frequency'] = df_aux[['buys_', 'days_']].apply(lambda x: x['buys_'] / x['days_'] if x['days_'] !=0 else 0, axis=1)\n",
    "df_ref = pd.merge(df_ref, df_aux[['customer_id', 'frequency']], on='customer_id', how='left')"
   ]
  },
  {
   "cell_type": "markdown",
   "id": "31384bd6",
   "metadata": {},
   "source": [
    "### Number of Returns"
   ]
  },
  {
   "cell_type": "code",
   "execution_count": 141,
   "id": "1de73f3f",
   "metadata": {},
   "outputs": [],
   "source": [
    "df_returns = df2_returns[['customer_id', 'quantity']].groupby('customer_id').sum().reset_index().rename(columns={'quantity':'qtde_returns'})\n",
    "df_returns['qtde_returns'] = df_returns['qtde_returns'] * -1\n",
    "df_ref = pd.merge(df_ref, df_returns, on='customer_id', how='left')\n",
    "df_ref.loc[df_ref['qtde_returns'].isna(), 'qtde_returns'] = 0"
   ]
  },
  {
   "cell_type": "markdown",
   "id": "ecbe1b35",
   "metadata": {},
   "source": [
    "### Basket Size - Quantidade de items por cesta (Quantity)"
   ]
  },
  {
   "cell_type": "code",
   "execution_count": 142,
   "id": "34e9fb00",
   "metadata": {},
   "outputs": [],
   "source": [
    "df_aux = ( df2_purchases.loc[:, ['customer_id', 'invoice_no', 'quantity']].groupby('customer_id')\n",
    "                                                                          .agg(n_purchase = ('invoice_no', 'nunique'),\n",
    "                                                                               n_products = ('quantity', 'sum')).reset_index() )\n",
    "\n",
    "df_aux['avg_basket_size'] = df_aux['n_products'] / df_aux['n_purchase']\n",
    "df_ref = pd.merge(df_ref, df_aux[['customer_id', 'avg_basket_size']], on='customer_id', how='left')"
   ]
  },
  {
   "cell_type": "markdown",
   "id": "cf2837fb",
   "metadata": {},
   "source": [
    "### Unique Basket Size - Quantidade de Itens por Cesta (Stock_code)"
   ]
  },
  {
   "cell_type": "code",
   "execution_count": 143,
   "id": "331c6ef8",
   "metadata": {},
   "outputs": [
    {
     "data": {
      "text/plain": [
       "customer_id                0\n",
       "gross_revenue             91\n",
       "recency_days              91\n",
       "qtde_invoices             91\n",
       "qtde_items                91\n",
       "qtde_products             91\n",
       "avg_ticket                91\n",
       "frequency                 91\n",
       "qtde_returns               0\n",
       "avg_basket_size           91\n",
       "avg_unique_basket_size    91\n",
       "dtype: int64"
      ]
     },
     "execution_count": 143,
     "metadata": {},
     "output_type": "execute_result"
    }
   ],
   "source": [
    "df_aux = ( df2_purchases.loc[:, ['customer_id', 'invoice_no', 'stock_code']].groupby('customer_id')\n",
    "                                                                          .agg(n_purchase = ('invoice_no', 'nunique'),\n",
    "                                                                               n_products = ('stock_code', 'nunique')).reset_index() )\n",
    "\n",
    "df_aux['avg_unique_basket_size'] = df_aux['n_products'] / df_aux['n_purchase']\n",
    "df_ref = pd.merge(df_ref, df_aux[['customer_id', 'avg_unique_basket_size']], on='customer_id', how='left')\n",
    "df_ref.isna().sum()"
   ]
  },
  {
   "cell_type": "markdown",
   "id": "8556d515",
   "metadata": {},
   "source": [
    "# 4.0 EDA (Exploratory Data Analysis)"
   ]
  },
  {
   "cell_type": "code",
   "execution_count": 144,
   "id": "358dd5b4",
   "metadata": {},
   "outputs": [
    {
     "data": {
      "text/plain": [
       "customer_id               0\n",
       "gross_revenue             0\n",
       "recency_days              0\n",
       "qtde_invoices             0\n",
       "qtde_items                0\n",
       "qtde_products             0\n",
       "avg_ticket                0\n",
       "frequency                 0\n",
       "qtde_returns              0\n",
       "avg_basket_size           0\n",
       "avg_unique_basket_size    0\n",
       "dtype: int64"
      ]
     },
     "execution_count": 144,
     "metadata": {},
     "output_type": "execute_result"
    }
   ],
   "source": [
    "df4 = df_ref.dropna()\n",
    "df4.isna().sum()"
   ]
  },
  {
   "cell_type": "code",
   "execution_count": 145,
   "id": "6db29c95",
   "metadata": {},
   "outputs": [
    {
     "data": {
      "text/html": [
       "<div>\n",
       "<style scoped>\n",
       "    .dataframe tbody tr th:only-of-type {\n",
       "        vertical-align: middle;\n",
       "    }\n",
       "\n",
       "    .dataframe tbody tr th {\n",
       "        vertical-align: top;\n",
       "    }\n",
       "\n",
       "    .dataframe thead th {\n",
       "        text-align: right;\n",
       "    }\n",
       "</style>\n",
       "<table border=\"1\" class=\"dataframe\">\n",
       "  <thead>\n",
       "    <tr style=\"text-align: right;\">\n",
       "      <th></th>\n",
       "      <th>customer_id</th>\n",
       "      <th>gross_revenue</th>\n",
       "      <th>recency_days</th>\n",
       "      <th>qtde_invoices</th>\n",
       "      <th>qtde_items</th>\n",
       "      <th>qtde_products</th>\n",
       "      <th>avg_ticket</th>\n",
       "      <th>frequency</th>\n",
       "      <th>qtde_returns</th>\n",
       "      <th>avg_basket_size</th>\n",
       "      <th>avg_unique_basket_size</th>\n",
       "    </tr>\n",
       "  </thead>\n",
       "  <tbody>\n",
       "    <tr>\n",
       "      <th>0</th>\n",
       "      <td>17850</td>\n",
       "      <td>5391.21</td>\n",
       "      <td>372.0</td>\n",
       "      <td>34.0</td>\n",
       "      <td>1733.0</td>\n",
       "      <td>297.0</td>\n",
       "      <td>18.152222</td>\n",
       "      <td>17.000000</td>\n",
       "      <td>40.0</td>\n",
       "      <td>50.970588</td>\n",
       "      <td>0.617647</td>\n",
       "    </tr>\n",
       "    <tr>\n",
       "      <th>1</th>\n",
       "      <td>13047</td>\n",
       "      <td>3232.59</td>\n",
       "      <td>56.0</td>\n",
       "      <td>9.0</td>\n",
       "      <td>1390.0</td>\n",
       "      <td>171.0</td>\n",
       "      <td>18.904035</td>\n",
       "      <td>0.028302</td>\n",
       "      <td>35.0</td>\n",
       "      <td>154.444444</td>\n",
       "      <td>11.666667</td>\n",
       "    </tr>\n",
       "    <tr>\n",
       "      <th>2</th>\n",
       "      <td>12583</td>\n",
       "      <td>6705.38</td>\n",
       "      <td>2.0</td>\n",
       "      <td>15.0</td>\n",
       "      <td>5028.0</td>\n",
       "      <td>232.0</td>\n",
       "      <td>28.902500</td>\n",
       "      <td>0.040323</td>\n",
       "      <td>50.0</td>\n",
       "      <td>335.200000</td>\n",
       "      <td>7.600000</td>\n",
       "    </tr>\n",
       "    <tr>\n",
       "      <th>3</th>\n",
       "      <td>13748</td>\n",
       "      <td>948.25</td>\n",
       "      <td>95.0</td>\n",
       "      <td>5.0</td>\n",
       "      <td>439.0</td>\n",
       "      <td>28.0</td>\n",
       "      <td>33.866071</td>\n",
       "      <td>0.017921</td>\n",
       "      <td>0.0</td>\n",
       "      <td>87.800000</td>\n",
       "      <td>4.800000</td>\n",
       "    </tr>\n",
       "    <tr>\n",
       "      <th>4</th>\n",
       "      <td>15100</td>\n",
       "      <td>876.00</td>\n",
       "      <td>333.0</td>\n",
       "      <td>3.0</td>\n",
       "      <td>80.0</td>\n",
       "      <td>3.0</td>\n",
       "      <td>292.000000</td>\n",
       "      <td>0.073171</td>\n",
       "      <td>22.0</td>\n",
       "      <td>26.666667</td>\n",
       "      <td>0.333333</td>\n",
       "    </tr>\n",
       "  </tbody>\n",
       "</table>\n",
       "</div>"
      ],
      "text/plain": [
       "   customer_id  gross_revenue  recency_days  qtde_invoices  qtde_items  \\\n",
       "0        17850        5391.21         372.0           34.0      1733.0   \n",
       "1        13047        3232.59          56.0            9.0      1390.0   \n",
       "2        12583        6705.38           2.0           15.0      5028.0   \n",
       "3        13748         948.25          95.0            5.0       439.0   \n",
       "4        15100         876.00         333.0            3.0        80.0   \n",
       "\n",
       "   qtde_products  avg_ticket  frequency  qtde_returns  avg_basket_size  \\\n",
       "0          297.0   18.152222  17.000000          40.0        50.970588   \n",
       "1          171.0   18.904035   0.028302          35.0       154.444444   \n",
       "2          232.0   28.902500   0.040323          50.0       335.200000   \n",
       "3           28.0   33.866071   0.017921           0.0        87.800000   \n",
       "4            3.0  292.000000   0.073171          22.0        26.666667   \n",
       "\n",
       "   avg_unique_basket_size  \n",
       "0                0.617647  \n",
       "1               11.666667  \n",
       "2                7.600000  \n",
       "3                4.800000  \n",
       "4                0.333333  "
      ]
     },
     "execution_count": 145,
     "metadata": {},
     "output_type": "execute_result"
    }
   ],
   "source": [
    "df4.head()"
   ]
  },
  {
   "cell_type": "markdown",
   "id": "cf2e3981",
   "metadata": {},
   "source": [
    "### 4.1 Univariate Analysis"
   ]
  },
  {
   "cell_type": "code",
   "execution_count": 146,
   "id": "e6e94905",
   "metadata": {},
   "outputs": [
    {
     "data": {
      "text/html": [
       "<div>\n",
       "<style scoped>\n",
       "    .dataframe tbody tr th:only-of-type {\n",
       "        vertical-align: middle;\n",
       "    }\n",
       "\n",
       "    .dataframe tbody tr th {\n",
       "        vertical-align: top;\n",
       "    }\n",
       "\n",
       "    .dataframe thead th {\n",
       "        text-align: right;\n",
       "    }\n",
       "</style>\n",
       "<table border=\"1\" class=\"dataframe\">\n",
       "  <thead>\n",
       "    <tr style=\"text-align: right;\">\n",
       "      <th></th>\n",
       "      <th>attributes</th>\n",
       "      <th>min</th>\n",
       "      <th>max</th>\n",
       "      <th>range</th>\n",
       "      <th>mean</th>\n",
       "      <th>median</th>\n",
       "      <th>std</th>\n",
       "      <th>CV</th>\n",
       "    </tr>\n",
       "  </thead>\n",
       "  <tbody>\n",
       "    <tr>\n",
       "      <th>1</th>\n",
       "      <td>gross_revenue</td>\n",
       "      <td>0.42</td>\n",
       "      <td>279138.02</td>\n",
       "      <td>279137.60</td>\n",
       "      <td>1774.24</td>\n",
       "      <td>613.20</td>\n",
       "      <td>7581.44</td>\n",
       "      <td>4.27</td>\n",
       "    </tr>\n",
       "    <tr>\n",
       "      <th>2</th>\n",
       "      <td>recency_days</td>\n",
       "      <td>0.00</td>\n",
       "      <td>373.00</td>\n",
       "      <td>373.00</td>\n",
       "      <td>116.93</td>\n",
       "      <td>71.00</td>\n",
       "      <td>111.64</td>\n",
       "      <td>0.95</td>\n",
       "    </tr>\n",
       "    <tr>\n",
       "      <th>3</th>\n",
       "      <td>qtde_invoices</td>\n",
       "      <td>1.00</td>\n",
       "      <td>206.00</td>\n",
       "      <td>205.00</td>\n",
       "      <td>3.47</td>\n",
       "      <td>1.00</td>\n",
       "      <td>6.81</td>\n",
       "      <td>1.96</td>\n",
       "    </tr>\n",
       "    <tr>\n",
       "      <th>4</th>\n",
       "      <td>qtde_items</td>\n",
       "      <td>1.00</td>\n",
       "      <td>196844.00</td>\n",
       "      <td>196843.00</td>\n",
       "      <td>962.92</td>\n",
       "      <td>316.00</td>\n",
       "      <td>4296.37</td>\n",
       "      <td>4.46</td>\n",
       "    </tr>\n",
       "    <tr>\n",
       "      <th>5</th>\n",
       "      <td>qtde_products</td>\n",
       "      <td>1.00</td>\n",
       "      <td>7837.00</td>\n",
       "      <td>7836.00</td>\n",
       "      <td>92.60</td>\n",
       "      <td>41.00</td>\n",
       "      <td>210.52</td>\n",
       "      <td>2.27</td>\n",
       "    </tr>\n",
       "    <tr>\n",
       "      <th>6</th>\n",
       "      <td>avg_ticket</td>\n",
       "      <td>0.42</td>\n",
       "      <td>77183.60</td>\n",
       "      <td>77183.18</td>\n",
       "      <td>44.75</td>\n",
       "      <td>15.86</td>\n",
       "      <td>1043.71</td>\n",
       "      <td>23.32</td>\n",
       "    </tr>\n",
       "    <tr>\n",
       "      <th>7</th>\n",
       "      <td>frequency</td>\n",
       "      <td>0.01</td>\n",
       "      <td>17.00</td>\n",
       "      <td>16.99</td>\n",
       "      <td>0.55</td>\n",
       "      <td>1.00</td>\n",
       "      <td>0.55</td>\n",
       "      <td>1.01</td>\n",
       "    </tr>\n",
       "    <tr>\n",
       "      <th>8</th>\n",
       "      <td>qtde_returns</td>\n",
       "      <td>0.00</td>\n",
       "      <td>74215.00</td>\n",
       "      <td>74215.00</td>\n",
       "      <td>31.27</td>\n",
       "      <td>0.00</td>\n",
       "      <td>1004.23</td>\n",
       "      <td>32.12</td>\n",
       "    </tr>\n",
       "    <tr>\n",
       "      <th>9</th>\n",
       "      <td>avg_basket_size</td>\n",
       "      <td>1.00</td>\n",
       "      <td>74215.00</td>\n",
       "      <td>74214.00</td>\n",
       "      <td>260.61</td>\n",
       "      <td>151.25</td>\n",
       "      <td>1073.89</td>\n",
       "      <td>4.12</td>\n",
       "    </tr>\n",
       "    <tr>\n",
       "      <th>10</th>\n",
       "      <td>avg_unique_basket_size</td>\n",
       "      <td>0.20</td>\n",
       "      <td>1109.00</td>\n",
       "      <td>1108.80</td>\n",
       "      <td>37.25</td>\n",
       "      <td>15.00</td>\n",
       "      <td>76.88</td>\n",
       "      <td>2.06</td>\n",
       "    </tr>\n",
       "  </tbody>\n",
       "</table>\n",
       "</div>"
      ],
      "text/plain": [
       "                attributes   min        max      range     mean  median  \\\n",
       "1            gross_revenue  0.42  279138.02  279137.60  1774.24  613.20   \n",
       "2             recency_days  0.00     373.00     373.00   116.93   71.00   \n",
       "3            qtde_invoices  1.00     206.00     205.00     3.47    1.00   \n",
       "4               qtde_items  1.00  196844.00  196843.00   962.92  316.00   \n",
       "5            qtde_products  1.00    7837.00    7836.00    92.60   41.00   \n",
       "6               avg_ticket  0.42   77183.60   77183.18    44.75   15.86   \n",
       "7                frequency  0.01      17.00      16.99     0.55    1.00   \n",
       "8             qtde_returns  0.00   74215.00   74215.00    31.27    0.00   \n",
       "9          avg_basket_size  1.00   74215.00   74214.00   260.61  151.25   \n",
       "10  avg_unique_basket_size  0.20    1109.00    1108.80    37.25   15.00   \n",
       "\n",
       "        std     CV  \n",
       "1   7581.44   4.27  \n",
       "2    111.64   0.95  \n",
       "3      6.81   1.96  \n",
       "4   4296.37   4.46  \n",
       "5    210.52   2.27  \n",
       "6   1043.71  23.32  \n",
       "7      0.55   1.01  \n",
       "8   1004.23  32.12  \n",
       "9   1073.89   4.12  \n",
       "10    76.88   2.06  "
      ]
     },
     "execution_count": 146,
     "metadata": {},
     "output_type": "execute_result"
    }
   ],
   "source": [
    "#central tendency - mean, median\n",
    "ct1 = pd.DataFrame(round(df4.apply(np.mean),2)).T\n",
    "ct2 = pd.DataFrame(round(df4.apply(np.median),2)).T\n",
    "\n",
    "#dispersion \n",
    "d1 = pd.DataFrame(round(df4.apply(np.std),2)).T\n",
    "d2 = pd.DataFrame(round(df4.apply(np.min),2)).T\n",
    "d3 = pd.DataFrame(round(df4.apply(np.max),2)).T\n",
    "d4 = pd.DataFrame(round(df4.apply(lambda x: x.max() - x.min()),2)).T\n",
    "d5 = pd.DataFrame(round(df4.apply(lambda x: x.std()/x.mean()),2)).T\n",
    "\n",
    "\n",
    "#concatenate\n",
    "m = pd.concat([d2 ,d3, d4, ct1, ct2, d1, d5]).T.reset_index()\n",
    "m = m.drop([0])\n",
    "m.columns = ['attributes', 'min', 'max', 'range', 'mean', 'median', 'std', 'CV'  ]\n",
    "m"
   ]
  },
  {
   "cell_type": "markdown",
   "id": "1a3db040",
   "metadata": {},
   "source": [
    "#### 4.1.2 Gross Revenue"
   ]
  },
  {
   "cell_type": "code",
   "execution_count": 147,
   "id": "b38e8bac",
   "metadata": {},
   "outputs": [
    {
     "data": {
      "image/png": "[encoded data removed]",
      "text/plain": [
       "<Figure size 1008x288 with 2 Axes>"
      ]
     },
     "metadata": {
      "needs_background": "light"
     },
     "output_type": "display_data"
    }
   ],
   "source": [
    "plt.figure(figsize=(14, 4))\n",
    "plt.subplot(1, 2, 1)\n",
    "sns.boxplot(data=df4[df4['gross_revenue'] < 3000], x='gross_revenue')\n",
    "\n",
    "plt.subplot(1, 2, 2)\n",
    "sns.histplot(data=df4[df4['gross_revenue'] < 3000], x='gross_revenue')\n",
    "plt.show()"
   ]
  },
  {
   "cell_type": "code",
   "execution_count": 148,
   "id": "a0db154c",
   "metadata": {},
   "outputs": [
    {
     "data": {
      "text/html": [
       "<div>\n",
       "<style scoped>\n",
       "    .dataframe tbody tr th:only-of-type {\n",
       "        vertical-align: middle;\n",
       "    }\n",
       "\n",
       "    .dataframe tbody tr th {\n",
       "        vertical-align: top;\n",
       "    }\n",
       "\n",
       "    .dataframe thead th {\n",
       "        text-align: right;\n",
       "    }\n",
       "</style>\n",
       "<table border=\"1\" class=\"dataframe\">\n",
       "  <thead>\n",
       "    <tr style=\"text-align: right;\">\n",
       "      <th></th>\n",
       "      <th>customer_id</th>\n",
       "      <th>gross_revenue</th>\n",
       "      <th>recency_days</th>\n",
       "      <th>qtde_invoices</th>\n",
       "      <th>qtde_items</th>\n",
       "      <th>qtde_products</th>\n",
       "      <th>avg_ticket</th>\n",
       "      <th>frequency</th>\n",
       "      <th>qtde_returns</th>\n",
       "      <th>avg_basket_size</th>\n",
       "      <th>avg_unique_basket_size</th>\n",
       "    </tr>\n",
       "  </thead>\n",
       "  <tbody>\n",
       "    <tr>\n",
       "      <th>1017</th>\n",
       "      <td>14646</td>\n",
       "      <td>279138.02</td>\n",
       "      <td>1.0</td>\n",
       "      <td>72.0</td>\n",
       "      <td>196844.0</td>\n",
       "      <td>2060.0</td>\n",
       "      <td>135.503893</td>\n",
       "      <td>0.203390</td>\n",
       "      <td>288.0</td>\n",
       "      <td>2733.944444</td>\n",
       "      <td>9.708333</td>\n",
       "    </tr>\n",
       "    <tr>\n",
       "      <th>492</th>\n",
       "      <td>18102</td>\n",
       "      <td>259657.30</td>\n",
       "      <td>0.0</td>\n",
       "      <td>60.0</td>\n",
       "      <td>64124.0</td>\n",
       "      <td>431.0</td>\n",
       "      <td>602.453132</td>\n",
       "      <td>0.163043</td>\n",
       "      <td>0.0</td>\n",
       "      <td>1068.733333</td>\n",
       "      <td>2.500000</td>\n",
       "    </tr>\n",
       "    <tr>\n",
       "      <th>433</th>\n",
       "      <td>17450</td>\n",
       "      <td>194550.79</td>\n",
       "      <td>8.0</td>\n",
       "      <td>46.0</td>\n",
       "      <td>69993.0</td>\n",
       "      <td>337.0</td>\n",
       "      <td>577.302047</td>\n",
       "      <td>0.127778</td>\n",
       "      <td>952.0</td>\n",
       "      <td>1521.586957</td>\n",
       "      <td>2.695652</td>\n",
       "    </tr>\n",
       "    <tr>\n",
       "      <th>66</th>\n",
       "      <td>14911</td>\n",
       "      <td>140438.72</td>\n",
       "      <td>1.0</td>\n",
       "      <td>199.0</td>\n",
       "      <td>79963.0</td>\n",
       "      <td>5670.0</td>\n",
       "      <td>24.768734</td>\n",
       "      <td>0.533512</td>\n",
       "      <td>3332.0</td>\n",
       "      <td>401.824121</td>\n",
       "      <td>8.969849</td>\n",
       "    </tr>\n",
       "    <tr>\n",
       "      <th>1150</th>\n",
       "      <td>12415</td>\n",
       "      <td>124564.53</td>\n",
       "      <td>24.0</td>\n",
       "      <td>20.0</td>\n",
       "      <td>77373.0</td>\n",
       "      <td>713.0</td>\n",
       "      <td>174.704811</td>\n",
       "      <td>0.063694</td>\n",
       "      <td>427.0</td>\n",
       "      <td>3868.650000</td>\n",
       "      <td>22.150000</td>\n",
       "    </tr>\n",
       "  </tbody>\n",
       "</table>\n",
       "</div>"
      ],
      "text/plain": [
       "      customer_id  gross_revenue  recency_days  qtde_invoices  qtde_items  \\\n",
       "1017        14646      279138.02           1.0           72.0    196844.0   \n",
       "492         18102      259657.30           0.0           60.0     64124.0   \n",
       "433         17450      194550.79           8.0           46.0     69993.0   \n",
       "66          14911      140438.72           1.0          199.0     79963.0   \n",
       "1150        12415      124564.53          24.0           20.0     77373.0   \n",
       "\n",
       "      qtde_products  avg_ticket  frequency  qtde_returns  avg_basket_size  \\\n",
       "1017         2060.0  135.503893   0.203390         288.0      2733.944444   \n",
       "492           431.0  602.453132   0.163043           0.0      1068.733333   \n",
       "433           337.0  577.302047   0.127778         952.0      1521.586957   \n",
       "66           5670.0   24.768734   0.533512        3332.0       401.824121   \n",
       "1150          713.0  174.704811   0.063694         427.0      3868.650000   \n",
       "\n",
       "      avg_unique_basket_size  \n",
       "1017                9.708333  \n",
       "492                 2.500000  \n",
       "433                 2.695652  \n",
       "66                  8.969849  \n",
       "1150               22.150000  "
      ]
     },
     "execution_count": 148,
     "metadata": {},
     "output_type": "execute_result"
    }
   ],
   "source": [
    "df4.sort_values('gross_revenue', ascending=False).head()"
   ]
  },
  {
   "cell_type": "markdown",
   "id": "e8bab9db",
   "metadata": {},
   "source": [
    "#### 4.1.3 Recency days"
   ]
  },
  {
   "cell_type": "markdown",
   "id": "5e8323d1",
   "metadata": {},
   "source": [
    "- muitas pessoas que faz pouco tempo que elas compraram, muitos compram com uma recencia de 7 dias (olhando o histograma)\n",
    "- 50% dos clientes compraram em 30 dias (olhando a mediana)"
   ]
  },
  {
   "cell_type": "code",
   "execution_count": 149,
   "id": "e6b556d9",
   "metadata": {},
   "outputs": [
    {
     "data": {
      "image/png": "[encoded data removed]",
      "text/plain": [
       "<Figure size 1008x288 with 2 Axes>"
      ]
     },
     "metadata": {
      "needs_background": "light"
     },
     "output_type": "display_data"
    }
   ],
   "source": [
    "plt.figure(figsize=(14, 4))\n",
    "plt.subplot(1, 2, 1)\n",
    "sns.boxplot(data=df4, x='recency_days')\n",
    "\n",
    "plt.subplot(1, 2, 2)\n",
    "sns.histplot(data=df4, x='recency_days')\n",
    "plt.show()"
   ]
  },
  {
   "cell_type": "markdown",
   "id": "3af8c589",
   "metadata": {},
   "source": [
    "#### 4.1.4 Quantidade de invoices\n",
    " - muitas pessoas fizeram poucas compras, muitas pessoas só compraram 2 vezes"
   ]
  },
  {
   "cell_type": "markdown",
   "id": "b7b3c70b",
   "metadata": {},
   "source": [
    "#### Qtde Itens"
   ]
  },
  {
   "cell_type": "code",
   "execution_count": 150,
   "id": "24a32dd7",
   "metadata": {},
   "outputs": [
    {
     "data": {
      "text/html": [
       "<div>\n",
       "<style scoped>\n",
       "    .dataframe tbody tr th:only-of-type {\n",
       "        vertical-align: middle;\n",
       "    }\n",
       "\n",
       "    .dataframe tbody tr th {\n",
       "        vertical-align: top;\n",
       "    }\n",
       "\n",
       "    .dataframe thead th {\n",
       "        text-align: right;\n",
       "    }\n",
       "</style>\n",
       "<table border=\"1\" class=\"dataframe\">\n",
       "  <thead>\n",
       "    <tr style=\"text-align: right;\">\n",
       "      <th></th>\n",
       "      <th>customer_id</th>\n",
       "      <th>gross_revenue</th>\n",
       "      <th>recency_days</th>\n",
       "      <th>qtde_invoices</th>\n",
       "      <th>qtde_items</th>\n",
       "      <th>qtde_products</th>\n",
       "      <th>avg_ticket</th>\n",
       "      <th>frequency</th>\n",
       "      <th>qtde_returns</th>\n",
       "      <th>avg_basket_size</th>\n",
       "      <th>avg_unique_basket_size</th>\n",
       "    </tr>\n",
       "  </thead>\n",
       "  <tbody>\n",
       "    <tr>\n",
       "      <th>1017</th>\n",
       "      <td>14646</td>\n",
       "      <td>279138.02</td>\n",
       "      <td>1.0</td>\n",
       "      <td>72.0</td>\n",
       "      <td>196844.0</td>\n",
       "      <td>2060.0</td>\n",
       "      <td>135.503893</td>\n",
       "      <td>0.20339</td>\n",
       "      <td>288.0</td>\n",
       "      <td>2733.944444</td>\n",
       "      <td>9.708333</td>\n",
       "    </tr>\n",
       "  </tbody>\n",
       "</table>\n",
       "</div>"
      ],
      "text/plain": [
       "      customer_id  gross_revenue  recency_days  qtde_invoices  qtde_items  \\\n",
       "1017        14646      279138.02           1.0           72.0    196844.0   \n",
       "\n",
       "      qtde_products  avg_ticket  frequency  qtde_returns  avg_basket_size  \\\n",
       "1017         2060.0  135.503893    0.20339         288.0      2733.944444   \n",
       "\n",
       "      avg_unique_basket_size  \n",
       "1017                9.708333  "
      ]
     },
     "execution_count": 150,
     "metadata": {},
     "output_type": "execute_result"
    }
   ],
   "source": [
    "df4[df4['qtde_items'] == 196844]"
   ]
  },
  {
   "cell_type": "code",
   "execution_count": 151,
   "id": "a81af386",
   "metadata": {},
   "outputs": [
    {
     "data": {
      "text/html": [
       "<div>\n",
       "<style scoped>\n",
       "    .dataframe tbody tr th:only-of-type {\n",
       "        vertical-align: middle;\n",
       "    }\n",
       "\n",
       "    .dataframe tbody tr th {\n",
       "        vertical-align: top;\n",
       "    }\n",
       "\n",
       "    .dataframe thead th {\n",
       "        text-align: right;\n",
       "    }\n",
       "</style>\n",
       "<table border=\"1\" class=\"dataframe\">\n",
       "  <thead>\n",
       "    <tr style=\"text-align: right;\">\n",
       "      <th></th>\n",
       "      <th>invoice_no</th>\n",
       "      <th>stock_code</th>\n",
       "      <th>quantity</th>\n",
       "      <th>invoice_date</th>\n",
       "      <th>unit_price</th>\n",
       "      <th>country</th>\n",
       "      <th>customer_id</th>\n",
       "    </tr>\n",
       "  </thead>\n",
       "  <tbody>\n",
       "    <tr>\n",
       "      <th>37952</th>\n",
       "      <td>539491</td>\n",
       "      <td>21981</td>\n",
       "      <td>12</td>\n",
       "      <td>2016-12-18</td>\n",
       "      <td>0.29</td>\n",
       "      <td>Netherlands</td>\n",
       "      <td>14646</td>\n",
       "    </tr>\n",
       "    <tr>\n",
       "      <th>37953</th>\n",
       "      <td>539491</td>\n",
       "      <td>21986</td>\n",
       "      <td>12</td>\n",
       "      <td>2016-12-18</td>\n",
       "      <td>0.29</td>\n",
       "      <td>Netherlands</td>\n",
       "      <td>14646</td>\n",
       "    </tr>\n",
       "    <tr>\n",
       "      <th>37954</th>\n",
       "      <td>539491</td>\n",
       "      <td>22720</td>\n",
       "      <td>2</td>\n",
       "      <td>2016-12-18</td>\n",
       "      <td>4.95</td>\n",
       "      <td>Netherlands</td>\n",
       "      <td>14646</td>\n",
       "    </tr>\n",
       "    <tr>\n",
       "      <th>37955</th>\n",
       "      <td>539491</td>\n",
       "      <td>21931</td>\n",
       "      <td>1</td>\n",
       "      <td>2016-12-18</td>\n",
       "      <td>1.95</td>\n",
       "      <td>Netherlands</td>\n",
       "      <td>14646</td>\n",
       "    </tr>\n",
       "    <tr>\n",
       "      <th>37956</th>\n",
       "      <td>539491</td>\n",
       "      <td>22613</td>\n",
       "      <td>2</td>\n",
       "      <td>2016-12-18</td>\n",
       "      <td>0.85</td>\n",
       "      <td>Netherlands</td>\n",
       "      <td>14646</td>\n",
       "    </tr>\n",
       "  </tbody>\n",
       "</table>\n",
       "</div>"
      ],
      "text/plain": [
       "      invoice_no stock_code  quantity invoice_date  unit_price      country  \\\n",
       "37952     539491      21981        12   2016-12-18        0.29  Netherlands   \n",
       "37953     539491      21986        12   2016-12-18        0.29  Netherlands   \n",
       "37954     539491      22720         2   2016-12-18        4.95  Netherlands   \n",
       "37955     539491      21931         1   2016-12-18        1.95  Netherlands   \n",
       "37956     539491      22613         2   2016-12-18        0.85  Netherlands   \n",
       "\n",
       "       customer_id  \n",
       "37952        14646  \n",
       "37953        14646  \n",
       "37954        14646  \n",
       "37955        14646  \n",
       "37956        14646  "
      ]
     },
     "execution_count": 151,
     "metadata": {},
     "output_type": "execute_result"
    }
   ],
   "source": [
    "df3[df3['customer_id'] == 14646].head()"
   ]
  },
  {
   "cell_type": "markdown",
   "id": "410da17c",
   "metadata": {},
   "source": [
    "#### 4.1.4 Avg. Ticket"
   ]
  },
  {
   "cell_type": "code",
   "execution_count": 152,
   "id": "a195497e",
   "metadata": {},
   "outputs": [
    {
     "data": {
      "text/html": [
       "<div>\n",
       "<style scoped>\n",
       "    .dataframe tbody tr th:only-of-type {\n",
       "        vertical-align: middle;\n",
       "    }\n",
       "\n",
       "    .dataframe tbody tr th {\n",
       "        vertical-align: top;\n",
       "    }\n",
       "\n",
       "    .dataframe thead th {\n",
       "        text-align: right;\n",
       "    }\n",
       "</style>\n",
       "<table border=\"1\" class=\"dataframe\">\n",
       "  <thead>\n",
       "    <tr style=\"text-align: right;\">\n",
       "      <th></th>\n",
       "      <th>customer_id</th>\n",
       "      <th>gross_revenue</th>\n",
       "      <th>recency_days</th>\n",
       "      <th>qtde_invoices</th>\n",
       "      <th>qtde_items</th>\n",
       "      <th>qtde_products</th>\n",
       "      <th>avg_ticket</th>\n",
       "      <th>frequency</th>\n",
       "      <th>qtde_returns</th>\n",
       "      <th>avg_basket_size</th>\n",
       "      <th>avg_unique_basket_size</th>\n",
       "    </tr>\n",
       "  </thead>\n",
       "  <tbody>\n",
       "  </tbody>\n",
       "</table>\n",
       "</div>"
      ],
      "text/plain": [
       "Empty DataFrame\n",
       "Columns: [customer_id, gross_revenue, recency_days, qtde_invoices, qtde_items, qtde_products, avg_ticket, frequency, qtde_returns, avg_basket_size, avg_unique_basket_size]\n",
       "Index: []"
      ]
     },
     "execution_count": 152,
     "metadata": {},
     "output_type": "execute_result"
    }
   ],
   "source": [
    "df4[df4['avg_ticket'] == 56157.5]"
   ]
  },
  {
   "cell_type": "code",
   "execution_count": 153,
   "id": "918a30a1",
   "metadata": {},
   "outputs": [
    {
     "data": {
      "text/html": [
       "<div>\n",
       "<style scoped>\n",
       "    .dataframe tbody tr th:only-of-type {\n",
       "        vertical-align: middle;\n",
       "    }\n",
       "\n",
       "    .dataframe tbody tr th {\n",
       "        vertical-align: top;\n",
       "    }\n",
       "\n",
       "    .dataframe thead th {\n",
       "        text-align: right;\n",
       "    }\n",
       "</style>\n",
       "<table border=\"1\" class=\"dataframe\">\n",
       "  <thead>\n",
       "    <tr style=\"text-align: right;\">\n",
       "      <th></th>\n",
       "      <th>invoice_no</th>\n",
       "      <th>stock_code</th>\n",
       "      <th>quantity</th>\n",
       "      <th>invoice_date</th>\n",
       "      <th>unit_price</th>\n",
       "      <th>country</th>\n",
       "      <th>customer_id</th>\n",
       "    </tr>\n",
       "  </thead>\n",
       "  <tbody>\n",
       "  </tbody>\n",
       "</table>\n",
       "</div>"
      ],
      "text/plain": [
       "Empty DataFrame\n",
       "Columns: [invoice_no, stock_code, quantity, invoice_date, unit_price, country, customer_id]\n",
       "Index: []"
      ]
     },
     "execution_count": 153,
     "metadata": {},
     "output_type": "execute_result"
    }
   ],
   "source": [
    "df3[df3['customer_id'] == 16446]"
   ]
  },
  {
   "cell_type": "markdown",
   "id": "6f070144",
   "metadata": {},
   "source": [
    "## 4.2 Bivariate Analysis"
   ]
  },
  {
   "cell_type": "code",
   "execution_count": 154,
   "id": "7ae971a4",
   "metadata": {},
   "outputs": [],
   "source": [
    "#cols = ['customer_id']\n",
    "#df4_2 = df4.drop(cols, axis=1)"
   ]
  },
  {
   "cell_type": "code",
   "execution_count": 155,
   "id": "2804cf9b",
   "metadata": {
    "scrolled": true
   },
   "outputs": [],
   "source": [
    "#plt.figure(figsize=(25, 12))\n",
    "#sns.pairplot(df4_2);"
   ]
  },
  {
   "cell_type": "markdown",
   "id": "2ff246be",
   "metadata": {},
   "source": [
    "## 4.3 Estudo do Espaço"
   ]
  },
  {
   "cell_type": "code",
   "execution_count": 171,
   "id": "7697cf2d",
   "metadata": {},
   "outputs": [],
   "source": [
    "#selected dataset\n",
    "cols_selected = ['customer_id', 'gross_revenue', 'recency_days', 'qtde_products', 'frequency', 'qtde_returns']\n",
    "df43 = df4[cols_selected].drop(columns='customer_id', axis=1)"
   ]
  },
  {
   "cell_type": "code",
   "execution_count": 172,
   "id": "d5711940",
   "metadata": {},
   "outputs": [
    {
     "data": {
      "text/html": [
       "<div>\n",
       "<style scoped>\n",
       "    .dataframe tbody tr th:only-of-type {\n",
       "        vertical-align: middle;\n",
       "    }\n",
       "\n",
       "    .dataframe tbody tr th {\n",
       "        vertical-align: top;\n",
       "    }\n",
       "\n",
       "    .dataframe thead th {\n",
       "        text-align: right;\n",
       "    }\n",
       "</style>\n",
       "<table border=\"1\" class=\"dataframe\">\n",
       "  <thead>\n",
       "    <tr style=\"text-align: right;\">\n",
       "      <th></th>\n",
       "      <th>gross_revenue</th>\n",
       "      <th>recency_days</th>\n",
       "      <th>qtde_products</th>\n",
       "      <th>frequency</th>\n",
       "      <th>qtde_returns</th>\n",
       "    </tr>\n",
       "  </thead>\n",
       "  <tbody>\n",
       "    <tr>\n",
       "      <th>0</th>\n",
       "      <td>0.019312</td>\n",
       "      <td>0.997319</td>\n",
       "      <td>0.037774</td>\n",
       "      <td>1.000000</td>\n",
       "      <td>0.000539</td>\n",
       "    </tr>\n",
       "    <tr>\n",
       "      <th>1</th>\n",
       "      <td>0.011579</td>\n",
       "      <td>0.150134</td>\n",
       "      <td>0.021695</td>\n",
       "      <td>0.001345</td>\n",
       "      <td>0.000472</td>\n",
       "    </tr>\n",
       "    <tr>\n",
       "      <th>2</th>\n",
       "      <td>0.024020</td>\n",
       "      <td>0.005362</td>\n",
       "      <td>0.029479</td>\n",
       "      <td>0.002052</td>\n",
       "      <td>0.000674</td>\n",
       "    </tr>\n",
       "    <tr>\n",
       "      <th>3</th>\n",
       "      <td>0.003396</td>\n",
       "      <td>0.254692</td>\n",
       "      <td>0.003446</td>\n",
       "      <td>0.000734</td>\n",
       "      <td>0.000000</td>\n",
       "    </tr>\n",
       "    <tr>\n",
       "      <th>4</th>\n",
       "      <td>0.003137</td>\n",
       "      <td>0.892761</td>\n",
       "      <td>0.000255</td>\n",
       "      <td>0.003985</td>\n",
       "      <td>0.000296</td>\n",
       "    </tr>\n",
       "  </tbody>\n",
       "</table>\n",
       "</div>"
      ],
      "text/plain": [
       "   gross_revenue  recency_days  qtde_products  frequency  qtde_returns\n",
       "0       0.019312      0.997319       0.037774   1.000000      0.000539\n",
       "1       0.011579      0.150134       0.021695   0.001345      0.000472\n",
       "2       0.024020      0.005362       0.029479   0.002052      0.000674\n",
       "3       0.003396      0.254692       0.003446   0.000734      0.000000\n",
       "4       0.003137      0.892761       0.000255   0.003985      0.000296"
      ]
     },
     "execution_count": 172,
     "metadata": {},
     "output_type": "execute_result"
    }
   ],
   "source": [
    "mm = pp.MinMaxScaler()\n",
    "\n",
    "df43['gross_revenue']          = mm.fit_transform(df43[['gross_revenue']])\n",
    "df43['recency_days']            = mm.fit_transform(df43[['recency_days']])\n",
    "df43['qtde_products']          = mm.fit_transform(df43[['qtde_products']])\n",
    "df43['frequency']              = mm.fit_transform(df43[['frequency']])\n",
    "df43['qtde_returns']           = mm.fit_transform(df43[['qtde_returns']])\n",
    "\n",
    "X = df43.copy()\n",
    "X.head()"
   ]
  },
  {
   "cell_type": "markdown",
   "id": "bcb6091d",
   "metadata": {},
   "source": [
    "### 4.3.1 PCA "
   ]
  },
  {
   "cell_type": "code",
   "execution_count": 173,
   "id": "8c640abf",
   "metadata": {
    "cell_style": "center"
   },
   "outputs": [
    {
     "data": {
      "image/png": "[encoded data removed]",
      "text/plain": [
       "<Figure size 432x288 with 1 Axes>"
      ]
     },
     "metadata": {
      "needs_background": "light"
     },
     "output_type": "display_data"
    }
   ],
   "source": [
    "pca = dd.PCA(n_components = X.shape[1])\n",
    "\n",
    "principal_components = pca.fit_transform(X)\n",
    "\n",
    "#plot explained variables\n",
    "features = range(pca.n_components_)\n",
    "\n",
    "plt.bar(features, pca.explained_variance_ratio_, color='black')\n",
    "\n",
    "#pca component\n",
    "df_pca = pd.DataFrame(principal_components)"
   ]
  },
  {
   "cell_type": "code",
   "execution_count": 220,
   "id": "405892be",
   "metadata": {},
   "outputs": [
    {
     "data": {
      "image/png": "[encoded data removed]",
      "text/plain": [
       "<Figure size 432x288 with 1 Axes>"
      ]
     },
     "metadata": {
      "needs_background": "light"
     },
     "output_type": "display_data"
    }
   ],
   "source": [
    "sns.scatterplot(x=0, y=1, data=df_pca);"
   ]
  },
  {
   "cell_type": "markdown",
   "id": "a94b1a01",
   "metadata": {},
   "source": [
    "### 4.3.2 UMAP"
   ]
  },
  {
   "cell_type": "code",
   "execution_count": 174,
   "id": "f7969aad",
   "metadata": {},
   "outputs": [
    {
     "data": {
      "text/plain": [
       "<AxesSubplot:xlabel='embedding_x', ylabel='embedding_y'>"
      ]
     },
     "execution_count": 174,
     "metadata": {},
     "output_type": "execute_result"
    },
    {
     "data": {
      "image/png": "[encoded data removed]",
      "text/plain": [
       "<Figure size 432x288 with 1 Axes>"
      ]
     },
     "metadata": {
      "needs_background": "light"
     },
     "output_type": "display_data"
    }
   ],
   "source": [
    "reducer = umap.UMAP(random_state=42)\n",
    "embedding = reducer.fit_transform(X)\n",
    "\n",
    "#embedding\n",
    "df_umap = pd.DataFrame()\n",
    "df_umap['embedding_x'] = embedding[:, 0]\n",
    "df_umap['embedding_y'] = embedding[:, 1]\n",
    "\n",
    "#plot UMAP\n",
    "sns.scatterplot(x='embedding_x', y='embedding_y', data=df_umap)"
   ]
  },
  {
   "cell_type": "markdown",
   "id": "d14403d4",
   "metadata": {},
   "source": [
    "### 4.3.3 T-SNE"
   ]
  },
  {
   "cell_type": "code",
   "execution_count": 175,
   "id": "cc6a9b05",
   "metadata": {},
   "outputs": [
    {
     "name": "stderr",
     "output_type": "stream",
     "text": [
      "C:\\Users\\aline\\anaconda3\\lib\\site-packages\\sklearn\\manifold\\_t_sne.py:780: FutureWarning: The default initialization in TSNE will change from 'random' to 'pca' in 1.2.\n",
      "  warnings.warn(\n",
      "C:\\Users\\aline\\anaconda3\\lib\\site-packages\\sklearn\\manifold\\_t_sne.py:790: FutureWarning: The default learning rate in TSNE will change from 200.0 to 'auto' in 1.2.\n",
      "  warnings.warn(\n"
     ]
    },
    {
     "data": {
      "text/plain": [
       "<AxesSubplot:xlabel='embedding_x', ylabel='embedding_y'>"
      ]
     },
     "execution_count": 175,
     "metadata": {},
     "output_type": "execute_result"
    },
    {
     "data": {
      "image/png": "[encoded data removed]",
      "text/plain": [
       "<Figure size 432x288 with 1 Axes>"
      ]
     },
     "metadata": {
      "needs_background": "light"
     },
     "output_type": "display_data"
    }
   ],
   "source": [
    "reducer = mn.TSNE(n_components=2, n_jobs=-1, random_state=42) \n",
    "embedding = reducer.fit_transform(X)\n",
    "\n",
    "#embedding\n",
    "df_tsne = pd.DataFrame()\n",
    "df_tsne['embedding_x'] = embedding[:, 0]\n",
    "df_tsne['embedding_y'] = embedding[:, 1]\n",
    "\n",
    "#plot UMAP\n",
    "sns.scatterplot(x='embedding_x', y='embedding_y', data=df_tsne)"
   ]
  },
  {
   "cell_type": "markdown",
   "id": "e8b66424",
   "metadata": {},
   "source": [
    "### 4.3.4 Tree-Based Embedding"
   ]
  },
  {
   "cell_type": "code",
   "execution_count": 176,
   "id": "ff2e8f63",
   "metadata": {},
   "outputs": [],
   "source": [
    "X = df43.drop(columns=['gross_revenue'], axis=1)\n",
    "y = df43['gross_revenue']\n",
    "\n",
    "rf_model = en.RandomForestRegressor(n_estimators=100, random_state=42) #sao criadas 100 arvores \n",
    "\n",
    "rf_model.fit(X,y)\n",
    "\n",
    "df_leaf = pd.DataFrame(rf_model.apply(X))"
   ]
  },
  {
   "cell_type": "code",
   "execution_count": 177,
   "id": "9811035a",
   "metadata": {},
   "outputs": [
    {
     "data": {
      "text/html": [
       "<div>\n",
       "<style scoped>\n",
       "    .dataframe tbody tr th:only-of-type {\n",
       "        vertical-align: middle;\n",
       "    }\n",
       "\n",
       "    .dataframe tbody tr th {\n",
       "        vertical-align: top;\n",
       "    }\n",
       "\n",
       "    .dataframe thead th {\n",
       "        text-align: right;\n",
       "    }\n",
       "</style>\n",
       "<table border=\"1\" class=\"dataframe\">\n",
       "  <thead>\n",
       "    <tr style=\"text-align: right;\">\n",
       "      <th></th>\n",
       "      <th>0</th>\n",
       "      <th>1</th>\n",
       "      <th>2</th>\n",
       "      <th>3</th>\n",
       "      <th>4</th>\n",
       "      <th>5</th>\n",
       "      <th>6</th>\n",
       "      <th>7</th>\n",
       "      <th>8</th>\n",
       "      <th>9</th>\n",
       "      <th>...</th>\n",
       "      <th>90</th>\n",
       "      <th>91</th>\n",
       "      <th>92</th>\n",
       "      <th>93</th>\n",
       "      <th>94</th>\n",
       "      <th>95</th>\n",
       "      <th>96</th>\n",
       "      <th>97</th>\n",
       "      <th>98</th>\n",
       "      <th>99</th>\n",
       "    </tr>\n",
       "  </thead>\n",
       "  <tbody>\n",
       "    <tr>\n",
       "      <th>0</th>\n",
       "      <td>6432</td>\n",
       "      <td>6891</td>\n",
       "      <td>6931</td>\n",
       "      <td>6401</td>\n",
       "      <td>6582</td>\n",
       "      <td>6822</td>\n",
       "      <td>6858</td>\n",
       "      <td>6939</td>\n",
       "      <td>6955</td>\n",
       "      <td>6504</td>\n",
       "      <td>...</td>\n",
       "      <td>6925</td>\n",
       "      <td>6521</td>\n",
       "      <td>7008</td>\n",
       "      <td>6720</td>\n",
       "      <td>6705</td>\n",
       "      <td>6646</td>\n",
       "      <td>6497</td>\n",
       "      <td>6534</td>\n",
       "      <td>6568</td>\n",
       "      <td>6835</td>\n",
       "    </tr>\n",
       "    <tr>\n",
       "      <th>1</th>\n",
       "      <td>6402</td>\n",
       "      <td>6190</td>\n",
       "      <td>6372</td>\n",
       "      <td>6307</td>\n",
       "      <td>6367</td>\n",
       "      <td>6550</td>\n",
       "      <td>6344</td>\n",
       "      <td>5648</td>\n",
       "      <td>6862</td>\n",
       "      <td>6319</td>\n",
       "      <td>...</td>\n",
       "      <td>6336</td>\n",
       "      <td>6295</td>\n",
       "      <td>6889</td>\n",
       "      <td>6325</td>\n",
       "      <td>6201</td>\n",
       "      <td>6205</td>\n",
       "      <td>6326</td>\n",
       "      <td>6403</td>\n",
       "      <td>6404</td>\n",
       "      <td>6528</td>\n",
       "    </tr>\n",
       "    <tr>\n",
       "      <th>2</th>\n",
       "      <td>5392</td>\n",
       "      <td>6461</td>\n",
       "      <td>6831</td>\n",
       "      <td>6391</td>\n",
       "      <td>6528</td>\n",
       "      <td>6765</td>\n",
       "      <td>6312</td>\n",
       "      <td>6829</td>\n",
       "      <td>6820</td>\n",
       "      <td>6917</td>\n",
       "      <td>...</td>\n",
       "      <td>6437</td>\n",
       "      <td>6406</td>\n",
       "      <td>6908</td>\n",
       "      <td>5707</td>\n",
       "      <td>6302</td>\n",
       "      <td>6582</td>\n",
       "      <td>6451</td>\n",
       "      <td>6372</td>\n",
       "      <td>6538</td>\n",
       "      <td>6775</td>\n",
       "    </tr>\n",
       "    <tr>\n",
       "      <th>3</th>\n",
       "      <td>2788</td>\n",
       "      <td>498</td>\n",
       "      <td>891</td>\n",
       "      <td>547</td>\n",
       "      <td>412</td>\n",
       "      <td>630</td>\n",
       "      <td>990</td>\n",
       "      <td>510</td>\n",
       "      <td>930</td>\n",
       "      <td>679</td>\n",
       "      <td>...</td>\n",
       "      <td>1235</td>\n",
       "      <td>697</td>\n",
       "      <td>857</td>\n",
       "      <td>539</td>\n",
       "      <td>962</td>\n",
       "      <td>726</td>\n",
       "      <td>631</td>\n",
       "      <td>1088</td>\n",
       "      <td>541</td>\n",
       "      <td>339</td>\n",
       "    </tr>\n",
       "    <tr>\n",
       "      <th>4</th>\n",
       "      <td>526</td>\n",
       "      <td>207</td>\n",
       "      <td>512</td>\n",
       "      <td>844</td>\n",
       "      <td>595</td>\n",
       "      <td>1684</td>\n",
       "      <td>500</td>\n",
       "      <td>967</td>\n",
       "      <td>1323</td>\n",
       "      <td>471</td>\n",
       "      <td>...</td>\n",
       "      <td>411</td>\n",
       "      <td>956</td>\n",
       "      <td>456</td>\n",
       "      <td>782</td>\n",
       "      <td>530</td>\n",
       "      <td>74</td>\n",
       "      <td>541</td>\n",
       "      <td>82</td>\n",
       "      <td>688</td>\n",
       "      <td>1557</td>\n",
       "    </tr>\n",
       "  </tbody>\n",
       "</table>\n",
       "<p>5 rows × 100 columns</p>\n",
       "</div>"
      ],
      "text/plain": [
       "     0     1     2     3     4     5     6     7     8     9   ...    90  \\\n",
       "0  6432  6891  6931  6401  6582  6822  6858  6939  6955  6504  ...  6925   \n",
       "1  6402  6190  6372  6307  6367  6550  6344  5648  6862  6319  ...  6336   \n",
       "2  5392  6461  6831  6391  6528  6765  6312  6829  6820  6917  ...  6437   \n",
       "3  2788   498   891   547   412   630   990   510   930   679  ...  1235   \n",
       "4   526   207   512   844   595  1684   500   967  1323   471  ...   411   \n",
       "\n",
       "     91    92    93    94    95    96    97    98    99  \n",
       "0  6521  7008  6720  6705  6646  6497  6534  6568  6835  \n",
       "1  6295  6889  6325  6201  6205  6326  6403  6404  6528  \n",
       "2  6406  6908  5707  6302  6582  6451  6372  6538  6775  \n",
       "3   697   857   539   962   726   631  1088   541   339  \n",
       "4   956   456   782   530    74   541    82   688  1557  \n",
       "\n",
       "[5 rows x 100 columns]"
      ]
     },
     "execution_count": 177,
     "metadata": {},
     "output_type": "execute_result"
    }
   ],
   "source": [
    "df_leaf.head() "
   ]
  },
  {
   "cell_type": "code",
   "execution_count": 178,
   "id": "4fe0e9fa",
   "metadata": {},
   "outputs": [
    {
     "name": "stderr",
     "output_type": "stream",
     "text": [
      "C:\\Users\\aline\\anaconda3\\lib\\site-packages\\sklearn\\manifold\\_spectral_embedding.py:260: UserWarning: Graph is not fully connected, spectral embedding may not work as expected.\n",
      "  warnings.warn(\n"
     ]
    },
    {
     "data": {
      "text/plain": [
       "<AxesSubplot:xlabel='embedding_x', ylabel='embedding_y'>"
      ]
     },
     "execution_count": 178,
     "metadata": {},
     "output_type": "execute_result"
    },
    {
     "data": {
      "image/png": "[encoded data removed]",
      "text/plain": [
       "<Figure size 432x288 with 1 Axes>"
      ]
     },
     "metadata": {
      "needs_background": "light"
     },
     "output_type": "display_data"
    }
   ],
   "source": [
    "#reducer dimensionality\n",
    "reducer = umap.UMAP(random_state=42)\n",
    "embedding = reducer.fit_transform(df_leaf)\n",
    "\n",
    "#embedding\n",
    "df_tree = pd.DataFrame()\n",
    "df_tree['embedding_x'] = embedding[:, 0]\n",
    "df_tree['embedding_y'] = embedding[:, 1]\n",
    "\n",
    "#plot UMAP\n",
    "sns.scatterplot(x='embedding_x', y='embedding_y', data=df_tree)"
   ]
  },
  {
   "cell_type": "markdown",
   "id": "d9c55535",
   "metadata": {},
   "source": [
    "# 5.0 Data Preparation"
   ]
  },
  {
   "cell_type": "markdown",
   "id": "397d5ce6",
   "metadata": {},
   "source": [
    "# 7.0 Hypermarameter Fine-Tunning"
   ]
  },
  {
   "cell_type": "code",
   "execution_count": 181,
   "id": "e8323f55",
   "metadata": {},
   "outputs": [],
   "source": [
    "X = df_tree.copy()"
   ]
  },
  {
   "cell_type": "code",
   "execution_count": 182,
   "id": "f4c5148c",
   "metadata": {},
   "outputs": [
    {
     "data": {
      "text/html": [
       "<div>\n",
       "<style scoped>\n",
       "    .dataframe tbody tr th:only-of-type {\n",
       "        vertical-align: middle;\n",
       "    }\n",
       "\n",
       "    .dataframe tbody tr th {\n",
       "        vertical-align: top;\n",
       "    }\n",
       "\n",
       "    .dataframe thead th {\n",
       "        text-align: right;\n",
       "    }\n",
       "</style>\n",
       "<table border=\"1\" class=\"dataframe\">\n",
       "  <thead>\n",
       "    <tr style=\"text-align: right;\">\n",
       "      <th></th>\n",
       "      <th>embedding_x</th>\n",
       "      <th>embedding_y</th>\n",
       "    </tr>\n",
       "  </thead>\n",
       "  <tbody>\n",
       "    <tr>\n",
       "      <th>0</th>\n",
       "      <td>12.932047</td>\n",
       "      <td>14.670385</td>\n",
       "    </tr>\n",
       "    <tr>\n",
       "      <th>1</th>\n",
       "      <td>7.626834</td>\n",
       "      <td>11.938689</td>\n",
       "    </tr>\n",
       "    <tr>\n",
       "      <th>2</th>\n",
       "      <td>12.472446</td>\n",
       "      <td>14.325506</td>\n",
       "    </tr>\n",
       "    <tr>\n",
       "      <th>3</th>\n",
       "      <td>-3.743209</td>\n",
       "      <td>7.794079</td>\n",
       "    </tr>\n",
       "    <tr>\n",
       "      <th>4</th>\n",
       "      <td>20.547087</td>\n",
       "      <td>-8.334893</td>\n",
       "    </tr>\n",
       "  </tbody>\n",
       "</table>\n",
       "</div>"
      ],
      "text/plain": [
       "   embedding_x  embedding_y\n",
       "0    12.932047    14.670385\n",
       "1     7.626834    11.938689\n",
       "2    12.472446    14.325506\n",
       "3    -3.743209     7.794079\n",
       "4    20.547087    -8.334893"
      ]
     },
     "execution_count": 182,
     "metadata": {},
     "output_type": "execute_result"
    }
   ],
   "source": [
    "X.head()"
   ]
  },
  {
   "cell_type": "code",
   "execution_count": 183,
   "id": "4ad931e0",
   "metadata": {},
   "outputs": [],
   "source": [
    "clusters = np.arange(2,25,1)"
   ]
  },
  {
   "cell_type": "markdown",
   "id": "d535ccd3",
   "metadata": {},
   "source": [
    "## 7.1 K-Means"
   ]
  },
  {
   "cell_type": "code",
   "execution_count": 185,
   "id": "a340cb41",
   "metadata": {},
   "outputs": [],
   "source": [
    "kmeans_list = []\n",
    "\n",
    "for k in clusters:\n",
    "    #model definition\n",
    "    kmeans_model = c.KMeans(n_clusters=k, n_init = 100, random_state=42)\n",
    "\n",
    "    #model training\n",
    "    kmeans_model.fit(X)\n",
    "\n",
    "    #model predict\n",
    "    labels = kmeans_model.predict(X)\n",
    "\n",
    "    #model performance \n",
    "    sil = m.silhouette_score(X, labels, metric='euclidean')\n",
    "    kmeans_list.append(sil)"
   ]
  },
  {
   "cell_type": "code",
   "execution_count": 186,
   "id": "3142dfbe",
   "metadata": {},
   "outputs": [
    {
     "data": {
      "text/plain": [
       "Text(0.5, 1.0, 'Silhouete Score vs K')"
      ]
     },
     "execution_count": 186,
     "metadata": {},
     "output_type": "execute_result"
    },
    {
     "data": {
      "image/png": "[encoded data removed]",
      "text/plain": [
       "<Figure size 432x288 with 1 Axes>"
      ]
     },
     "metadata": {
      "needs_background": "light"
     },
     "output_type": "display_data"
    }
   ],
   "source": [
    "plt.plot(clusters, kmeans_list, linestyle='--', marker='o', color='b')\n",
    "plt.xlabel('Values of K')\n",
    "plt.ylabel('Silhouete Score')\n",
    "plt.title('Silhouete Score vs K')"
   ]
  },
  {
   "cell_type": "markdown",
   "id": "6b6d5a34",
   "metadata": {},
   "source": [
    "## 7.2 GMM"
   ]
  },
  {
   "cell_type": "code",
   "execution_count": 188,
   "id": "50511a67",
   "metadata": {},
   "outputs": [],
   "source": [
    "gmm_list = []\n",
    "\n",
    "for k in clusters:\n",
    "    #model definition\n",
    "    gmm_model = mx.GaussianMixture(n_components=k, random_state=42)  #define quantas guassianas eu quero\n",
    "\n",
    "\n",
    "    #model training\n",
    "    gmm_model.fit(X)\n",
    "\n",
    "    #model predict\n",
    "    labels = gmm_model.predict(X)\n",
    "\n",
    "    #model performance \n",
    "    sil = m.silhouette_score(X, labels, metric='euclidean')\n",
    "    gmm_list.append(sil)"
   ]
  },
  {
   "cell_type": "code",
   "execution_count": 189,
   "id": "57b3d266",
   "metadata": {},
   "outputs": [
    {
     "data": {
      "text/plain": [
       "Text(0.5, 1.0, 'Silhouete Score vs K')"
      ]
     },
     "execution_count": 189,
     "metadata": {},
     "output_type": "execute_result"
    },
    {
     "data": {
      "image/png": "[encoded data removed]",
      "text/plain": [
       "<Figure size 432x288 with 1 Axes>"
      ]
     },
     "metadata": {
      "needs_background": "light"
     },
     "output_type": "display_data"
    }
   ],
   "source": [
    "plt.plot(clusters, gmm_list, linestyle='--', marker='o', color='b')\n",
    "plt.xlabel('Values of K')\n",
    "plt.ylabel('Silhouete Score')\n",
    "plt.title('Silhouete Score vs K')"
   ]
  },
  {
   "cell_type": "markdown",
   "id": "3b22e7a1",
   "metadata": {},
   "source": [
    "## 7.3 Hierarchical Clustering"
   ]
  },
  {
   "cell_type": "code",
   "execution_count": 191,
   "id": "56c90655",
   "metadata": {},
   "outputs": [],
   "source": [
    "#model deinition and training\n",
    "hc_model = hc.linkage(X,'ward')"
   ]
  },
  {
   "cell_type": "code",
   "execution_count": 192,
   "id": "85177236",
   "metadata": {},
   "outputs": [],
   "source": [
    "#hc.dendrogram( hc_model, leaf_rotation=90, leaf_font_size=8)\n",
    "#plt.plot()"
   ]
  },
  {
   "cell_type": "code",
   "execution_count": 193,
   "id": "8f909b93",
   "metadata": {},
   "outputs": [],
   "source": [
    "hc_list = []\n",
    "for k in clusters:\n",
    "    #model definition and training\n",
    "    hc_model = hc.linkage(X,'ward')\n",
    "    \n",
    "    #model predict\n",
    "    labels = hc.fcluster(hc_model, k, criterion='maxclust')\n",
    "    \n",
    "    #metrics\n",
    "    sil = m.silhouette_score(X, labels, metric='euclidean')\n",
    "    hc_list.append(sil)"
   ]
  },
  {
   "cell_type": "code",
   "execution_count": 194,
   "id": "a666e56c",
   "metadata": {},
   "outputs": [
    {
     "data": {
      "text/plain": [
       "[<matplotlib.lines.Line2D at 0x2138ca22c10>]"
      ]
     },
     "execution_count": 194,
     "metadata": {},
     "output_type": "execute_result"
    },
    {
     "data": {
      "image/png": "[encoded data removed]",
      "text/plain": [
       "<Figure size 432x288 with 1 Axes>"
      ]
     },
     "metadata": {
      "needs_background": "light"
     },
     "output_type": "display_data"
    }
   ],
   "source": [
    "plt.plot(clusters, hc_list, linestyle='--', marker='o', color='b')"
   ]
  },
  {
   "cell_type": "markdown",
   "id": "203b8521",
   "metadata": {},
   "source": [
    "\n",
    "## 7.5 Results"
   ]
  },
  {
   "cell_type": "code",
   "execution_count": 195,
   "id": "44804034",
   "metadata": {},
   "outputs": [
    {
     "data": {
      "text/html": [
       "<style  type=\"text/css\" >\n",
       "#T_d78d9_row0_col22,#T_d78d9_row1_col12,#T_d78d9_row2_col21{\n",
       "            background-color:  lightgreen;\n",
       "        }</style><table id=\"T_d78d9_\" ><thead>    <tr>        <th class=\"blank level0\" ></th>        <th class=\"col_heading level0 col0\" >2</th>        <th class=\"col_heading level0 col1\" >3</th>        <th class=\"col_heading level0 col2\" >4</th>        <th class=\"col_heading level0 col3\" >5</th>        <th class=\"col_heading level0 col4\" >6</th>        <th class=\"col_heading level0 col5\" >7</th>        <th class=\"col_heading level0 col6\" >8</th>        <th class=\"col_heading level0 col7\" >9</th>        <th class=\"col_heading level0 col8\" >10</th>        <th class=\"col_heading level0 col9\" >11</th>        <th class=\"col_heading level0 col10\" >12</th>        <th class=\"col_heading level0 col11\" >13</th>        <th class=\"col_heading level0 col12\" >14</th>        <th class=\"col_heading level0 col13\" >15</th>        <th class=\"col_heading level0 col14\" >16</th>        <th class=\"col_heading level0 col15\" >17</th>        <th class=\"col_heading level0 col16\" >18</th>        <th class=\"col_heading level0 col17\" >19</th>        <th class=\"col_heading level0 col18\" >20</th>        <th class=\"col_heading level0 col19\" >21</th>        <th class=\"col_heading level0 col20\" >22</th>        <th class=\"col_heading level0 col21\" >23</th>        <th class=\"col_heading level0 col22\" >24</th>    </tr></thead><tbody>\n",
       "                <tr>\n",
       "                        <th id=\"T_d78d9_level0_row0\" class=\"row_heading level0 row0\" >KMeans</th>\n",
       "                        <td id=\"T_d78d9_row0_col0\" class=\"data row0 col0\" >0.392040</td>\n",
       "                        <td id=\"T_d78d9_row0_col1\" class=\"data row0 col1\" >0.414434</td>\n",
       "                        <td id=\"T_d78d9_row0_col2\" class=\"data row0 col2\" >0.415739</td>\n",
       "                        <td id=\"T_d78d9_row0_col3\" class=\"data row0 col3\" >0.436017</td>\n",
       "                        <td id=\"T_d78d9_row0_col4\" class=\"data row0 col4\" >0.464054</td>\n",
       "                        <td id=\"T_d78d9_row0_col5\" class=\"data row0 col5\" >0.482397</td>\n",
       "                        <td id=\"T_d78d9_row0_col6\" class=\"data row0 col6\" >0.474176</td>\n",
       "                        <td id=\"T_d78d9_row0_col7\" class=\"data row0 col7\" >0.479434</td>\n",
       "                        <td id=\"T_d78d9_row0_col8\" class=\"data row0 col8\" >0.494833</td>\n",
       "                        <td id=\"T_d78d9_row0_col9\" class=\"data row0 col9\" >0.496230</td>\n",
       "                        <td id=\"T_d78d9_row0_col10\" class=\"data row0 col10\" >0.493119</td>\n",
       "                        <td id=\"T_d78d9_row0_col11\" class=\"data row0 col11\" >0.509730</td>\n",
       "                        <td id=\"T_d78d9_row0_col12\" class=\"data row0 col12\" >0.518157</td>\n",
       "                        <td id=\"T_d78d9_row0_col13\" class=\"data row0 col13\" >0.526506</td>\n",
       "                        <td id=\"T_d78d9_row0_col14\" class=\"data row0 col14\" >0.516056</td>\n",
       "                        <td id=\"T_d78d9_row0_col15\" class=\"data row0 col15\" >0.529013</td>\n",
       "                        <td id=\"T_d78d9_row0_col16\" class=\"data row0 col16\" >0.536900</td>\n",
       "                        <td id=\"T_d78d9_row0_col17\" class=\"data row0 col17\" >0.533896</td>\n",
       "                        <td id=\"T_d78d9_row0_col18\" class=\"data row0 col18\" >0.539790</td>\n",
       "                        <td id=\"T_d78d9_row0_col19\" class=\"data row0 col19\" >0.546750</td>\n",
       "                        <td id=\"T_d78d9_row0_col20\" class=\"data row0 col20\" >0.546868</td>\n",
       "                        <td id=\"T_d78d9_row0_col21\" class=\"data row0 col21\" >0.544387</td>\n",
       "                        <td id=\"T_d78d9_row0_col22\" class=\"data row0 col22\" >0.552339</td>\n",
       "            </tr>\n",
       "            <tr>\n",
       "                        <th id=\"T_d78d9_level0_row1\" class=\"row_heading level0 row1\" >GMM</th>\n",
       "                        <td id=\"T_d78d9_row1_col0\" class=\"data row1 col0\" >0.389857</td>\n",
       "                        <td id=\"T_d78d9_row1_col1\" class=\"data row1 col1\" >0.393221</td>\n",
       "                        <td id=\"T_d78d9_row1_col2\" class=\"data row1 col2\" >0.390412</td>\n",
       "                        <td id=\"T_d78d9_row1_col3\" class=\"data row1 col3\" >0.412332</td>\n",
       "                        <td id=\"T_d78d9_row1_col4\" class=\"data row1 col4\" >0.377664</td>\n",
       "                        <td id=\"T_d78d9_row1_col5\" class=\"data row1 col5\" >0.441911</td>\n",
       "                        <td id=\"T_d78d9_row1_col6\" class=\"data row1 col6\" >0.434281</td>\n",
       "                        <td id=\"T_d78d9_row1_col7\" class=\"data row1 col7\" >0.463580</td>\n",
       "                        <td id=\"T_d78d9_row1_col8\" class=\"data row1 col8\" >0.429119</td>\n",
       "                        <td id=\"T_d78d9_row1_col9\" class=\"data row1 col9\" >0.394612</td>\n",
       "                        <td id=\"T_d78d9_row1_col10\" class=\"data row1 col10\" >0.424829</td>\n",
       "                        <td id=\"T_d78d9_row1_col11\" class=\"data row1 col11\" >0.476431</td>\n",
       "                        <td id=\"T_d78d9_row1_col12\" class=\"data row1 col12\" >0.494317</td>\n",
       "                        <td id=\"T_d78d9_row1_col13\" class=\"data row1 col13\" >0.481319</td>\n",
       "                        <td id=\"T_d78d9_row1_col14\" class=\"data row1 col14\" >0.466605</td>\n",
       "                        <td id=\"T_d78d9_row1_col15\" class=\"data row1 col15\" >0.448887</td>\n",
       "                        <td id=\"T_d78d9_row1_col16\" class=\"data row1 col16\" >0.463408</td>\n",
       "                        <td id=\"T_d78d9_row1_col17\" class=\"data row1 col17\" >0.448748</td>\n",
       "                        <td id=\"T_d78d9_row1_col18\" class=\"data row1 col18\" >0.432631</td>\n",
       "                        <td id=\"T_d78d9_row1_col19\" class=\"data row1 col19\" >0.476832</td>\n",
       "                        <td id=\"T_d78d9_row1_col20\" class=\"data row1 col20\" >0.465218</td>\n",
       "                        <td id=\"T_d78d9_row1_col21\" class=\"data row1 col21\" >0.464893</td>\n",
       "                        <td id=\"T_d78d9_row1_col22\" class=\"data row1 col22\" >0.472703</td>\n",
       "            </tr>\n",
       "            <tr>\n",
       "                        <th id=\"T_d78d9_level0_row2\" class=\"row_heading level0 row2\" >HC</th>\n",
       "                        <td id=\"T_d78d9_row2_col0\" class=\"data row2 col0\" >0.351220</td>\n",
       "                        <td id=\"T_d78d9_row2_col1\" class=\"data row2 col1\" >0.396719</td>\n",
       "                        <td id=\"T_d78d9_row2_col2\" class=\"data row2 col2\" >0.375998</td>\n",
       "                        <td id=\"T_d78d9_row2_col3\" class=\"data row2 col3\" >0.380294</td>\n",
       "                        <td id=\"T_d78d9_row2_col4\" class=\"data row2 col4\" >0.433638</td>\n",
       "                        <td id=\"T_d78d9_row2_col5\" class=\"data row2 col5\" >0.462655</td>\n",
       "                        <td id=\"T_d78d9_row2_col6\" class=\"data row2 col6\" >0.457264</td>\n",
       "                        <td id=\"T_d78d9_row2_col7\" class=\"data row2 col7\" >0.454711</td>\n",
       "                        <td id=\"T_d78d9_row2_col8\" class=\"data row2 col8\" >0.469823</td>\n",
       "                        <td id=\"T_d78d9_row2_col9\" class=\"data row2 col9\" >0.479593</td>\n",
       "                        <td id=\"T_d78d9_row2_col10\" class=\"data row2 col10\" >0.475395</td>\n",
       "                        <td id=\"T_d78d9_row2_col11\" class=\"data row2 col11\" >0.488732</td>\n",
       "                        <td id=\"T_d78d9_row2_col12\" class=\"data row2 col12\" >0.490180</td>\n",
       "                        <td id=\"T_d78d9_row2_col13\" class=\"data row2 col13\" >0.496378</td>\n",
       "                        <td id=\"T_d78d9_row2_col14\" class=\"data row2 col14\" >0.505378</td>\n",
       "                        <td id=\"T_d78d9_row2_col15\" class=\"data row2 col15\" >0.513563</td>\n",
       "                        <td id=\"T_d78d9_row2_col16\" class=\"data row2 col16\" >0.513351</td>\n",
       "                        <td id=\"T_d78d9_row2_col17\" class=\"data row2 col17\" >0.524551</td>\n",
       "                        <td id=\"T_d78d9_row2_col18\" class=\"data row2 col18\" >0.530033</td>\n",
       "                        <td id=\"T_d78d9_row2_col19\" class=\"data row2 col19\" >0.538812</td>\n",
       "                        <td id=\"T_d78d9_row2_col20\" class=\"data row2 col20\" >0.548608</td>\n",
       "                        <td id=\"T_d78d9_row2_col21\" class=\"data row2 col21\" >0.552632</td>\n",
       "                        <td id=\"T_d78d9_row2_col22\" class=\"data row2 col22\" >0.548118</td>\n",
       "            </tr>\n",
       "    </tbody></table>"
      ],
      "text/plain": [
       "<pandas.io.formats.style.Styler at 0x21390957eb0>"
      ]
     },
     "execution_count": 195,
     "metadata": {},
     "output_type": "execute_result"
    }
   ],
   "source": [
    "df_results = pd.DataFrame({'KMeans': kmeans_list, 'GMM': gmm_list, 'HC': hc_list}).T\n",
    "df_results.columns = clusters\n",
    "df_results.style.highlight_max(color='lightgreen', axis=1)"
   ]
  },
  {
   "cell_type": "markdown",
   "id": "57f307f3",
   "metadata": {},
   "source": [
    "# 8.0 Model Training"
   ]
  },
  {
   "cell_type": "markdown",
   "id": "1998f804",
   "metadata": {},
   "source": [
    "## 8.1 k-Means"
   ]
  },
  {
   "cell_type": "code",
   "execution_count": 202,
   "id": "420d46f8",
   "metadata": {},
   "outputs": [],
   "source": [
    "#model definition\n",
    "k = 7\n",
    "kmeans = c.KMeans(init='random', n_clusters=k, n_init=10, max_iter=300, random_state=42)\n",
    "\n",
    "#model trainning\n",
    "kmeans.fit(X)\n",
    "\n",
    "#clustering\n",
    "labels = kmeans.labels_\n",
    "#labels = kmeans.fit_predict(X) #tirar o fit de cima"
   ]
  },
  {
   "cell_type": "markdown",
   "id": "626dcba8",
   "metadata": {},
   "source": [
    "## 8.2 Cluster Validation"
   ]
  },
  {
   "cell_type": "code",
   "execution_count": 203,
   "id": "a0cd02aa",
   "metadata": {},
   "outputs": [
    {
     "name": "stdout",
     "output_type": "stream",
     "text": [
      "SS value: 0.4814896285533905\n"
     ]
    }
   ],
   "source": [
    "#SS\n",
    "print('SS value: {}'.format(m.silhouette_score(X, labels, metric='euclidean')))"
   ]
  },
  {
   "cell_type": "markdown",
   "id": "5b98922c",
   "metadata": {},
   "source": [
    "# 9.0 Cluster Analysis"
   ]
  },
  {
   "cell_type": "code",
   "execution_count": 204,
   "id": "4ca41641",
   "metadata": {},
   "outputs": [
    {
     "data": {
      "text/html": [
       "<div>\n",
       "<style scoped>\n",
       "    .dataframe tbody tr th:only-of-type {\n",
       "        vertical-align: middle;\n",
       "    }\n",
       "\n",
       "    .dataframe tbody tr th {\n",
       "        vertical-align: top;\n",
       "    }\n",
       "\n",
       "    .dataframe thead th {\n",
       "        text-align: right;\n",
       "    }\n",
       "</style>\n",
       "<table border=\"1\" class=\"dataframe\">\n",
       "  <thead>\n",
       "    <tr style=\"text-align: right;\">\n",
       "      <th></th>\n",
       "      <th>embedding_x</th>\n",
       "      <th>embedding_y</th>\n",
       "      <th>cluster</th>\n",
       "    </tr>\n",
       "  </thead>\n",
       "  <tbody>\n",
       "    <tr>\n",
       "      <th>0</th>\n",
       "      <td>12.932047</td>\n",
       "      <td>14.670385</td>\n",
       "      <td>6</td>\n",
       "    </tr>\n",
       "    <tr>\n",
       "      <th>1</th>\n",
       "      <td>7.626834</td>\n",
       "      <td>11.938689</td>\n",
       "      <td>6</td>\n",
       "    </tr>\n",
       "    <tr>\n",
       "      <th>2</th>\n",
       "      <td>12.472446</td>\n",
       "      <td>14.325506</td>\n",
       "      <td>6</td>\n",
       "    </tr>\n",
       "    <tr>\n",
       "      <th>3</th>\n",
       "      <td>-3.743209</td>\n",
       "      <td>7.794079</td>\n",
       "      <td>4</td>\n",
       "    </tr>\n",
       "    <tr>\n",
       "      <th>4</th>\n",
       "      <td>20.547087</td>\n",
       "      <td>-8.334893</td>\n",
       "      <td>2</td>\n",
       "    </tr>\n",
       "  </tbody>\n",
       "</table>\n",
       "</div>"
      ],
      "text/plain": [
       "   embedding_x  embedding_y  cluster\n",
       "0    12.932047    14.670385        6\n",
       "1     7.626834    11.938689        6\n",
       "2    12.472446    14.325506        6\n",
       "3    -3.743209     7.794079        4\n",
       "4    20.547087    -8.334893        2"
      ]
     },
     "execution_count": 204,
     "metadata": {},
     "output_type": "execute_result"
    }
   ],
   "source": [
    "df9 = X.copy()\n",
    "df9['cluster'] = labels\n",
    "df9.head()"
   ]
  },
  {
   "cell_type": "markdown",
   "id": "094434f2",
   "metadata": {},
   "source": [
    "## 9.1 Visualization Inspection"
   ]
  },
  {
   "cell_type": "code",
   "execution_count": 205,
   "id": "5672b281",
   "metadata": {},
   "outputs": [
    {
     "data": {
      "image/png": "[encoded data removed]",
      "text/plain": [
       "<Figure size 1008x576 with 1 Axes>"
      ]
     },
     "metadata": {
      "needs_background": "light"
     },
     "output_type": "display_data"
    }
   ],
   "source": [
    "plt.figure(figsize=(14, 8))\n",
    "sns.scatterplot(x='embedding_x', y='embedding_y', hue='cluster', data=df9, palette='deep');"
   ]
  },
  {
   "cell_type": "markdown",
   "id": "14595758",
   "metadata": {},
   "source": [
    "## 9.2 Cluster Profile"
   ]
  },
  {
   "cell_type": "code",
   "execution_count": 214,
   "id": "31925fb5",
   "metadata": {},
   "outputs": [
    {
     "data": {
      "text/html": [
       "<div>\n",
       "<style scoped>\n",
       "    .dataframe tbody tr th:only-of-type {\n",
       "        vertical-align: middle;\n",
       "    }\n",
       "\n",
       "    .dataframe tbody tr th {\n",
       "        vertical-align: top;\n",
       "    }\n",
       "\n",
       "    .dataframe thead th {\n",
       "        text-align: right;\n",
       "    }\n",
       "</style>\n",
       "<table border=\"1\" class=\"dataframe\">\n",
       "  <thead>\n",
       "    <tr style=\"text-align: right;\">\n",
       "      <th></th>\n",
       "      <th>customer_id</th>\n",
       "      <th>gross_revenue</th>\n",
       "      <th>recency_days</th>\n",
       "      <th>qtde_invoices</th>\n",
       "      <th>qtde_items</th>\n",
       "      <th>qtde_products</th>\n",
       "      <th>avg_ticket</th>\n",
       "      <th>frequency</th>\n",
       "      <th>qtde_returns</th>\n",
       "      <th>avg_basket_size</th>\n",
       "      <th>avg_unique_basket_size</th>\n",
       "    </tr>\n",
       "  </thead>\n",
       "  <tbody>\n",
       "    <tr>\n",
       "      <th>0</th>\n",
       "      <td>17850</td>\n",
       "      <td>5391.21</td>\n",
       "      <td>372.0</td>\n",
       "      <td>34.0</td>\n",
       "      <td>1733.0</td>\n",
       "      <td>297.0</td>\n",
       "      <td>18.152222</td>\n",
       "      <td>17.000000</td>\n",
       "      <td>40.0</td>\n",
       "      <td>50.970588</td>\n",
       "      <td>0.617647</td>\n",
       "    </tr>\n",
       "    <tr>\n",
       "      <th>1</th>\n",
       "      <td>13047</td>\n",
       "      <td>3232.59</td>\n",
       "      <td>56.0</td>\n",
       "      <td>9.0</td>\n",
       "      <td>1390.0</td>\n",
       "      <td>171.0</td>\n",
       "      <td>18.904035</td>\n",
       "      <td>0.028302</td>\n",
       "      <td>35.0</td>\n",
       "      <td>154.444444</td>\n",
       "      <td>11.666667</td>\n",
       "    </tr>\n",
       "    <tr>\n",
       "      <th>2</th>\n",
       "      <td>12583</td>\n",
       "      <td>6705.38</td>\n",
       "      <td>2.0</td>\n",
       "      <td>15.0</td>\n",
       "      <td>5028.0</td>\n",
       "      <td>232.0</td>\n",
       "      <td>28.902500</td>\n",
       "      <td>0.040323</td>\n",
       "      <td>50.0</td>\n",
       "      <td>335.200000</td>\n",
       "      <td>7.600000</td>\n",
       "    </tr>\n",
       "    <tr>\n",
       "      <th>3</th>\n",
       "      <td>13748</td>\n",
       "      <td>948.25</td>\n",
       "      <td>95.0</td>\n",
       "      <td>5.0</td>\n",
       "      <td>439.0</td>\n",
       "      <td>28.0</td>\n",
       "      <td>33.866071</td>\n",
       "      <td>0.017921</td>\n",
       "      <td>0.0</td>\n",
       "      <td>87.800000</td>\n",
       "      <td>4.800000</td>\n",
       "    </tr>\n",
       "    <tr>\n",
       "      <th>4</th>\n",
       "      <td>15100</td>\n",
       "      <td>876.00</td>\n",
       "      <td>333.0</td>\n",
       "      <td>3.0</td>\n",
       "      <td>80.0</td>\n",
       "      <td>3.0</td>\n",
       "      <td>292.000000</td>\n",
       "      <td>0.073171</td>\n",
       "      <td>22.0</td>\n",
       "      <td>26.666667</td>\n",
       "      <td>0.333333</td>\n",
       "    </tr>\n",
       "  </tbody>\n",
       "</table>\n",
       "</div>"
      ],
      "text/plain": [
       "   customer_id  gross_revenue  recency_days  qtde_invoices  qtde_items  \\\n",
       "0        17850        5391.21         372.0           34.0      1733.0   \n",
       "1        13047        3232.59          56.0            9.0      1390.0   \n",
       "2        12583        6705.38           2.0           15.0      5028.0   \n",
       "3        13748         948.25          95.0            5.0       439.0   \n",
       "4        15100         876.00         333.0            3.0        80.0   \n",
       "\n",
       "   qtde_products  avg_ticket  frequency  qtde_returns  avg_basket_size  \\\n",
       "0          297.0   18.152222  17.000000          40.0        50.970588   \n",
       "1          171.0   18.904035   0.028302          35.0       154.444444   \n",
       "2          232.0   28.902500   0.040323          50.0       335.200000   \n",
       "3           28.0   33.866071   0.017921           0.0        87.800000   \n",
       "4            3.0  292.000000   0.073171          22.0        26.666667   \n",
       "\n",
       "   avg_unique_basket_size  \n",
       "0                0.617647  \n",
       "1               11.666667  \n",
       "2                7.600000  \n",
       "3                4.800000  \n",
       "4                0.333333  "
      ]
     },
     "execution_count": 214,
     "metadata": {},
     "output_type": "execute_result"
    }
   ],
   "source": [
    "df4.head()"
   ]
  },
  {
   "cell_type": "code",
   "execution_count": 206,
   "id": "b340b537",
   "metadata": {},
   "outputs": [
    {
     "data": {
      "text/html": [
       "<div>\n",
       "<style scoped>\n",
       "    .dataframe tbody tr th:only-of-type {\n",
       "        vertical-align: middle;\n",
       "    }\n",
       "\n",
       "    .dataframe tbody tr th {\n",
       "        vertical-align: top;\n",
       "    }\n",
       "\n",
       "    .dataframe thead th {\n",
       "        text-align: right;\n",
       "    }\n",
       "</style>\n",
       "<table border=\"1\" class=\"dataframe\">\n",
       "  <thead>\n",
       "    <tr style=\"text-align: right;\">\n",
       "      <th></th>\n",
       "      <th>customer_id</th>\n",
       "      <th>gross_revenue</th>\n",
       "      <th>recency_days</th>\n",
       "      <th>qtde_products</th>\n",
       "      <th>frequency</th>\n",
       "      <th>qtde_returns</th>\n",
       "      <th>cluster</th>\n",
       "    </tr>\n",
       "  </thead>\n",
       "  <tbody>\n",
       "    <tr>\n",
       "      <th>0</th>\n",
       "      <td>17850</td>\n",
       "      <td>5391.21</td>\n",
       "      <td>372.0</td>\n",
       "      <td>297.0</td>\n",
       "      <td>17.000000</td>\n",
       "      <td>40.0</td>\n",
       "      <td>6</td>\n",
       "    </tr>\n",
       "    <tr>\n",
       "      <th>1</th>\n",
       "      <td>13047</td>\n",
       "      <td>3232.59</td>\n",
       "      <td>56.0</td>\n",
       "      <td>171.0</td>\n",
       "      <td>0.028302</td>\n",
       "      <td>35.0</td>\n",
       "      <td>6</td>\n",
       "    </tr>\n",
       "    <tr>\n",
       "      <th>2</th>\n",
       "      <td>12583</td>\n",
       "      <td>6705.38</td>\n",
       "      <td>2.0</td>\n",
       "      <td>232.0</td>\n",
       "      <td>0.040323</td>\n",
       "      <td>50.0</td>\n",
       "      <td>6</td>\n",
       "    </tr>\n",
       "    <tr>\n",
       "      <th>3</th>\n",
       "      <td>13748</td>\n",
       "      <td>948.25</td>\n",
       "      <td>95.0</td>\n",
       "      <td>28.0</td>\n",
       "      <td>0.017921</td>\n",
       "      <td>0.0</td>\n",
       "      <td>4</td>\n",
       "    </tr>\n",
       "    <tr>\n",
       "      <th>4</th>\n",
       "      <td>15100</td>\n",
       "      <td>876.00</td>\n",
       "      <td>333.0</td>\n",
       "      <td>3.0</td>\n",
       "      <td>0.073171</td>\n",
       "      <td>22.0</td>\n",
       "      <td>2</td>\n",
       "    </tr>\n",
       "  </tbody>\n",
       "</table>\n",
       "</div>"
      ],
      "text/plain": [
       "   customer_id  gross_revenue  recency_days  qtde_products  frequency  \\\n",
       "0        17850        5391.21         372.0          297.0  17.000000   \n",
       "1        13047        3232.59          56.0          171.0   0.028302   \n",
       "2        12583        6705.38           2.0          232.0   0.040323   \n",
       "3        13748         948.25          95.0           28.0   0.017921   \n",
       "4        15100         876.00         333.0            3.0   0.073171   \n",
       "\n",
       "   qtde_returns  cluster  \n",
       "0          40.0        6  \n",
       "1          35.0        6  \n",
       "2          50.0        6  \n",
       "3           0.0        4  \n",
       "4          22.0        2  "
      ]
     },
     "execution_count": 206,
     "metadata": {},
     "output_type": "execute_result"
    }
   ],
   "source": [
    "df92 = df4[cols_selected].copy()\n",
    "df92['cluster'] = labels\n",
    "df92.head()"
   ]
  },
  {
   "cell_type": "code",
   "execution_count": 207,
   "id": "c35ceebd",
   "metadata": {},
   "outputs": [
    {
     "data": {
      "text/html": [
       "<div>\n",
       "<style scoped>\n",
       "    .dataframe tbody tr th:only-of-type {\n",
       "        vertical-align: middle;\n",
       "    }\n",
       "\n",
       "    .dataframe tbody tr th {\n",
       "        vertical-align: top;\n",
       "    }\n",
       "\n",
       "    .dataframe thead th {\n",
       "        text-align: right;\n",
       "    }\n",
       "</style>\n",
       "<table border=\"1\" class=\"dataframe\">\n",
       "  <thead>\n",
       "    <tr style=\"text-align: right;\">\n",
       "      <th></th>\n",
       "      <th>cluster</th>\n",
       "      <th>customer_id</th>\n",
       "      <th>perc_customer</th>\n",
       "      <th>gross_revenue</th>\n",
       "      <th>recency_days</th>\n",
       "      <th>qtde_products</th>\n",
       "      <th>frequency</th>\n",
       "      <th>qtde_returns</th>\n",
       "    </tr>\n",
       "  </thead>\n",
       "  <tbody>\n",
       "    <tr>\n",
       "      <th>6</th>\n",
       "      <td>6</td>\n",
       "      <td>959</td>\n",
       "      <td>16.839333</td>\n",
       "      <td>6199.214442</td>\n",
       "      <td>63.728884</td>\n",
       "      <td>310.589155</td>\n",
       "      <td>0.287675</td>\n",
       "      <td>162.437956</td>\n",
       "    </tr>\n",
       "    <tr>\n",
       "      <th>1</th>\n",
       "      <td>1</td>\n",
       "      <td>882</td>\n",
       "      <td>15.487270</td>\n",
       "      <td>1898.699603</td>\n",
       "      <td>116.240363</td>\n",
       "      <td>117.566893</td>\n",
       "      <td>0.480708</td>\n",
       "      <td>2.614512</td>\n",
       "    </tr>\n",
       "    <tr>\n",
       "      <th>0</th>\n",
       "      <td>0</td>\n",
       "      <td>350</td>\n",
       "      <td>6.145742</td>\n",
       "      <td>1038.649571</td>\n",
       "      <td>84.488571</td>\n",
       "      <td>66.028571</td>\n",
       "      <td>0.290053</td>\n",
       "      <td>4.045714</td>\n",
       "    </tr>\n",
       "    <tr>\n",
       "      <th>4</th>\n",
       "      <td>4</td>\n",
       "      <td>679</td>\n",
       "      <td>11.922739</td>\n",
       "      <td>978.305744</td>\n",
       "      <td>76.977909</td>\n",
       "      <td>41.721649</td>\n",
       "      <td>0.224075</td>\n",
       "      <td>6.273932</td>\n",
       "    </tr>\n",
       "    <tr>\n",
       "      <th>5</th>\n",
       "      <td>5</td>\n",
       "      <td>866</td>\n",
       "      <td>15.206321</td>\n",
       "      <td>948.999607</td>\n",
       "      <td>130.284065</td>\n",
       "      <td>57.961894</td>\n",
       "      <td>0.755643</td>\n",
       "      <td>7.361432</td>\n",
       "    </tr>\n",
       "    <tr>\n",
       "      <th>2</th>\n",
       "      <td>2</td>\n",
       "      <td>848</td>\n",
       "      <td>14.890255</td>\n",
       "      <td>390.537182</td>\n",
       "      <td>135.020047</td>\n",
       "      <td>10.168632</td>\n",
       "      <td>0.491662</td>\n",
       "      <td>4.551887</td>\n",
       "    </tr>\n",
       "    <tr>\n",
       "      <th>3</th>\n",
       "      <td>3</td>\n",
       "      <td>1111</td>\n",
       "      <td>19.508341</td>\n",
       "      <td>273.455005</td>\n",
       "      <td>173.810981</td>\n",
       "      <td>13.986499</td>\n",
       "      <td>0.982890</td>\n",
       "      <td>3.670567</td>\n",
       "    </tr>\n",
       "  </tbody>\n",
       "</table>\n",
       "</div>"
      ],
      "text/plain": [
       "   cluster  customer_id  perc_customer  gross_revenue  recency_days  \\\n",
       "6        6          959      16.839333    6199.214442     63.728884   \n",
       "1        1          882      15.487270    1898.699603    116.240363   \n",
       "0        0          350       6.145742    1038.649571     84.488571   \n",
       "4        4          679      11.922739     978.305744     76.977909   \n",
       "5        5          866      15.206321     948.999607    130.284065   \n",
       "2        2          848      14.890255     390.537182    135.020047   \n",
       "3        3         1111      19.508341     273.455005    173.810981   \n",
       "\n",
       "   qtde_products  frequency  qtde_returns  \n",
       "6     310.589155   0.287675    162.437956  \n",
       "1     117.566893   0.480708      2.614512  \n",
       "0      66.028571   0.290053      4.045714  \n",
       "4      41.721649   0.224075      6.273932  \n",
       "5      57.961894   0.755643      7.361432  \n",
       "2      10.168632   0.491662      4.551887  \n",
       "3      13.986499   0.982890      3.670567  "
      ]
     },
     "execution_count": 207,
     "metadata": {},
     "output_type": "execute_result"
    }
   ],
   "source": [
    "#Number customer\n",
    "df_cluster = df92.groupby('cluster').customer_id.count().reset_index()\n",
    "df_cluster['perc_customer'] = 100*(df_cluster['customer_id'] / df_cluster['customer_id'].sum())\n",
    "\n",
    "#Avg Gross Revenue\n",
    "df_avg_gross_revenue = df92.groupby('cluster').gross_revenue.mean().reset_index()\n",
    "df_cluster = pd.merge(df_cluster, df_avg_gross_revenue, how='inner', on='cluster')\n",
    "\n",
    "#Avg Recency Days\n",
    "df_avg_recency_days = df92.groupby('cluster').recency_days.mean().reset_index()\n",
    "df_cluster = pd.merge(df_cluster, df_avg_recency_days, how='inner', on='cluster')\n",
    "\n",
    "#Avg invoice_no\n",
    "df_qtde_products = df92.groupby('cluster').qtde_products.mean().reset_index()\n",
    "df_cluster = pd.merge(df_cluster, df_qtde_products, how='inner', on='cluster')\n",
    "\n",
    "#Frequency\n",
    "df_frequency = df92.groupby('cluster').frequency.mean().reset_index()\n",
    "df_cluster = pd.merge(df_cluster, df_frequency, how='inner', on='cluster')\n",
    "\n",
    "#Returns\n",
    "df_qtde_returns = df92.groupby('cluster').qtde_returns.mean().reset_index()\n",
    "df_cluster = pd.merge(df_cluster, df_qtde_returns, how='inner', on='cluster')\n",
    "\n",
    "\n",
    "df_cluster.sort_values('gross_revenue', ascending=False)"
   ]
  },
  {
   "cell_type": "markdown",
   "id": "77a19a08",
   "metadata": {},
   "source": [
    "# 10.0 EDA"
   ]
  },
  {
   "cell_type": "code",
   "execution_count": 208,
   "id": "c6c90113",
   "metadata": {},
   "outputs": [],
   "source": [
    "df10 = df92.copy()"
   ]
  },
  {
   "cell_type": "markdown",
   "id": "0037d3df",
   "metadata": {},
   "source": [
    "### H1. Os clientes do cluster insiders possuem um volume de compra de produtos acima de 10% do totatl de compras\n",
    "verdadeiro: O cluster insider possui um volume de compra de 54%"
   ]
  },
  {
   "cell_type": "code",
   "execution_count": 210,
   "id": "57a8e92a",
   "metadata": {},
   "outputs": [
    {
     "name": "stdout",
     "output_type": "stream",
     "text": [
      "% Sales Insiders: 56.48\n"
     ]
    }
   ],
   "source": [
    "#df10[df10['cluster'] ==1].groupby('cluster').qtde_products.sum().reset_index()\n",
    "\n",
    "#sum the quantity of products of insiders\n",
    "df_sales_insiders = df10[df10['cluster'] == 6].qtde_products.sum() #substituir depois o cluster correspondente ao insiders\n",
    "df_sales_total = df10.qtde_products.sum()\n",
    "\n",
    "#percentage of sales of insiders by the total product sales\n",
    "print('% Sales Insiders: {:.2f}'.format(100*df_sales_insiders/df_sales_total))"
   ]
  },
  {
   "cell_type": "markdown",
   "id": "c37c2977",
   "metadata": {},
   "source": [
    "### H2. Os clientes do cluster insiders possuem um volume de faturamento de compras acima de 10% do total de compras\n",
    "verdadeiro: O cluster insider possui um volume de gmv de 52%"
   ]
  },
  {
   "cell_type": "code",
   "execution_count": 211,
   "id": "57ce60b9",
   "metadata": {},
   "outputs": [
    {
     "name": "stdout",
     "output_type": "stream",
     "text": [
      "% Sales Insiders: 58.84\n"
     ]
    }
   ],
   "source": [
    "#sum the gmv of insiders\n",
    "df_gmv_insiders = df10[df10['cluster'] == 6].gross_revenue.sum() #substituir depois o cluster correspondente ao insiders\n",
    "df_gmv_total = df10.gross_revenue.sum()\n",
    "\n",
    "#percentage of sales of insiders by the tot/al product sales\n",
    "print('% Sales Insiders: {:.2f}'.format(100*df_gmv_insiders/df_gmv_total))"
   ]
  },
  {
   "cell_type": "markdown",
   "id": "a0fb8de6",
   "metadata": {},
   "source": [
    "### H3. Os clientes do cluster insiders tem numero de devolução médio abaixo do media da base total de clientes\n",
    "Falso: O cluster insiders tem a média de devolução acima da média geral"
   ]
  },
  {
   "cell_type": "code",
   "execution_count": 212,
   "id": "782dffbe",
   "metadata": {},
   "outputs": [
    {
     "name": "stdout",
     "output_type": "stream",
     "text": [
      "Avg Return insiders: 162.0 vs Avg Returns total: 31.0\n"
     ]
    }
   ],
   "source": [
    "df_avg_return_insiders = df10[df10['cluster'] == 6].qtde_returns.mean()\n",
    "df_avg_return_total = df10.qtde_returns.mean()\n",
    "\n",
    "print('Avg Return insiders: {} vs Avg Returns total: {}'.format(np.round(df_avg_return_insiders, 0),\n",
    "                                                               np.round(df_avg_return_total, 0)))"
   ]
  },
  {
   "cell_type": "markdown",
   "id": "8c7b1a2d",
   "metadata": {},
   "source": [
    "### H4. A mediana do faturamento pelos clientes do cluster insider é 10% do que a mediana do faturamento geral\n",
    "verdadeiro: A mediana do faturamento é 279% acima da mediana"
   ]
  },
  {
   "cell_type": "code",
   "execution_count": 213,
   "id": "a5dfd216",
   "metadata": {},
   "outputs": [
    {
     "name": "stdout",
     "output_type": "stream",
     "text": [
      "Median Diff: 368.08%\n"
     ]
    }
   ],
   "source": [
    "#mediana de gmv do insiders\n",
    "df_median_gmv_insiders = df10[df10['cluster'] == 6].gross_revenue.median()\n",
    "\n",
    "#mediana de gmv do total\n",
    "df_median_gmv_total = df10.gross_revenue.median()\n",
    "\n",
    "gmv_diff = (df_median_gmv_insiders - df_median_gmv_total) / df_median_gmv_total\n",
    "print('Median Diff: {:.2f}%'.format(100*gmv_diff))"
   ]
  },
  {
   "cell_type": "markdown",
   "id": "48432347",
   "metadata": {},
   "source": [
    "### H5. O GMV dos clientes insiders está concentradas no 3 quartil \n",
    "Falso: O faturamento do cluster insiders esta concentrada no quartil 1 \n"
   ]
  },
  {
   "cell_type": "code",
   "execution_count": 201,
   "id": "2c7d007a",
   "metadata": {},
   "outputs": [
    {
     "data": {
      "text/plain": [
       "429.79439999999994"
      ]
     },
     "execution_count": 201,
     "metadata": {},
     "output_type": "execute_result"
    }
   ],
   "source": [
    "np.percentile(df10[df10['cluster'] == 3].gross_revenue, q=0.1)"
   ]
  },
  {
   "cell_type": "code",
   "execution_count": 202,
   "id": "fd8543f8",
   "metadata": {},
   "outputs": [
    {
     "data": {
      "text/plain": [
       "434.3448"
      ]
     },
     "execution_count": 202,
     "metadata": {},
     "output_type": "execute_result"
    }
   ],
   "source": [
    "np.percentile(df10[df10['cluster'] == 3].gross_revenue, q=0.9)"
   ]
  },
  {
   "cell_type": "code",
   "execution_count": 212,
   "id": "f322c725",
   "metadata": {
    "cell_style": "split"
   },
   "outputs": [
    {
     "data": {
      "text/plain": [
       "<AxesSubplot:xlabel='gross_revenue'>"
      ]
     },
     "execution_count": 212,
     "metadata": {},
     "output_type": "execute_result"
    },
    {
     "data": {
      "image/png": "[encoded data removed]",
      "text/plain": [
       "<Figure size 432x288 with 1 Axes>"
      ]
     },
     "metadata": {
      "needs_background": "light"
     },
     "output_type": "display_data"
    }
   ],
   "source": [
    "df_aux = (df10[(df10['cluster'] == 3) & \n",
    "               (df10['gross_revenue'] < 10000)]\n",
    "               .gross_revenue)\n",
    "sns.boxplot(x=df_aux)"
   ]
  },
  {
   "cell_type": "code",
   "execution_count": 211,
   "id": "b79a5f0d",
   "metadata": {
    "cell_style": "split"
   },
   "outputs": [
    {
     "data": {
      "text/plain": [
       "<AxesSubplot:xlabel='gross_revenue'>"
      ]
     },
     "execution_count": 211,
     "metadata": {},
     "output_type": "execute_result"
    },
    {
     "data": {
      "image/png": "[encoded data removed]",
      "text/plain": [
       "<Figure size 432x288 with 1 Axes>"
      ]
     },
     "metadata": {
      "needs_background": "light"
     },
     "output_type": "display_data"
    }
   ],
   "source": [
    "df_aux = (df10[(df10['cluster'] == 3) &\n",
    "               (df10['gross_revenue'] < 10000)]\n",
    "               .gross_revenue)\n",
    "sns.violinplot(x=df_aux)"
   ]
  }
 ],
 "metadata": {
  "hide_input": false,
  "kernelspec": {
   "display_name": "Python 3",
   "language": "python",
   "name": "python3"
  },
  "language_info": {
   "codemirror_mode": {
    "name": "ipython",
    "version": 3
   },
   "file_extension": ".py",
   "mimetype": "text/x-python",
   "name": "python",
   "nbconvert_exporter": "python",
   "pygments_lexer": "ipython3",
   "version": "3.8.8"
  }
 },
 "nbformat": 4,
 "nbformat_minor": 5
}
