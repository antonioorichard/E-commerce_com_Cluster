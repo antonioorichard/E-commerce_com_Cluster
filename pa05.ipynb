{
 "cells": [
  {
   "cell_type": "markdown",
   "id": "3bce92a2-4dbe-45dc-a263-917cdd8593fb",
   "metadata": {},
   "source": [
    "# 0.0 imports"
   ]
  },
  {
   "cell_type": "code",
   "execution_count": 135,
   "id": "f339a3f6-dec2-4cf0-918b-a4219282f860",
   "metadata": {},
   "outputs": [],
   "source": [
    "#dataprocess\n",
    "import pandas as pd\n",
    "import numpy  as np\n",
    "import re\n",
    "import inflection\n",
    "\n",
    "# Gráficos\n",
    "import seaborn as sns\n",
    "import matplotlib.pyplot as plt"
   ]
  },
  {
   "cell_type": "markdown",
   "id": "18625ab1-02e5-443e-b669-b44cdb2ccfaa",
   "metadata": {},
   "source": [
    "# 0.1 Help fucntion"
   ]
  },
  {
   "cell_type": "markdown",
   "id": "ecc184d8-4f8b-4e16-9d69-77590cbe96f2",
   "metadata": {},
   "source": [
    "# 1. Load Dataset "
   ]
  },
  {
   "cell_type": "code",
   "execution_count": 136,
   "id": "bb41bab1-8ab7-476e-a633-75acc25f52f3",
   "metadata": {},
   "outputs": [],
   "source": [
    "dff = pd.read_csv('/home/win/Documentos/pa05/data/Ecommerce.csv', encoding='latin1')\n"
   ]
  },
  {
   "cell_type": "code",
   "execution_count": 137,
   "id": "74415950-ad05-456c-aff9-022912334cb2",
   "metadata": {},
   "outputs": [],
   "source": [
    "df = dff"
   ]
  },
  {
   "cell_type": "code",
   "execution_count": 138,
   "id": "f2455fde-4b78-461d-957c-067def7d6381",
   "metadata": {},
   "outputs": [
    {
     "data": {
      "text/html": [
       "<div>\n",
       "<style scoped>\n",
       "    .dataframe tbody tr th:only-of-type {\n",
       "        vertical-align: middle;\n",
       "    }\n",
       "\n",
       "    .dataframe tbody tr th {\n",
       "        vertical-align: top;\n",
       "    }\n",
       "\n",
       "    .dataframe thead th {\n",
       "        text-align: right;\n",
       "    }\n",
       "</style>\n",
       "<table border=\"1\" class=\"dataframe\">\n",
       "  <thead>\n",
       "    <tr style=\"text-align: right;\">\n",
       "      <th></th>\n",
       "      <th>InvoiceNo</th>\n",
       "      <th>StockCode</th>\n",
       "      <th>Description</th>\n",
       "      <th>Quantity</th>\n",
       "      <th>InvoiceDate</th>\n",
       "      <th>UnitPrice</th>\n",
       "      <th>CustomerID</th>\n",
       "      <th>Country</th>\n",
       "      <th>Unnamed: 8</th>\n",
       "    </tr>\n",
       "  </thead>\n",
       "  <tbody>\n",
       "    <tr>\n",
       "      <th>0</th>\n",
       "      <td>536365</td>\n",
       "      <td>85123A</td>\n",
       "      <td>WHITE HANGING HEART T-LIGHT HOLDER</td>\n",
       "      <td>6</td>\n",
       "      <td>29-Nov-16</td>\n",
       "      <td>2.55</td>\n",
       "      <td>17850.0</td>\n",
       "      <td>United Kingdom</td>\n",
       "      <td>NaN</td>\n",
       "    </tr>\n",
       "    <tr>\n",
       "      <th>1</th>\n",
       "      <td>536365</td>\n",
       "      <td>71053</td>\n",
       "      <td>WHITE METAL LANTERN</td>\n",
       "      <td>6</td>\n",
       "      <td>29-Nov-16</td>\n",
       "      <td>3.39</td>\n",
       "      <td>17850.0</td>\n",
       "      <td>United Kingdom</td>\n",
       "      <td>NaN</td>\n",
       "    </tr>\n",
       "    <tr>\n",
       "      <th>2</th>\n",
       "      <td>536365</td>\n",
       "      <td>84406B</td>\n",
       "      <td>CREAM CUPID HEARTS COAT HANGER</td>\n",
       "      <td>8</td>\n",
       "      <td>29-Nov-16</td>\n",
       "      <td>2.75</td>\n",
       "      <td>17850.0</td>\n",
       "      <td>United Kingdom</td>\n",
       "      <td>NaN</td>\n",
       "    </tr>\n",
       "    <tr>\n",
       "      <th>3</th>\n",
       "      <td>536365</td>\n",
       "      <td>84029G</td>\n",
       "      <td>KNITTED UNION FLAG HOT WATER BOTTLE</td>\n",
       "      <td>6</td>\n",
       "      <td>29-Nov-16</td>\n",
       "      <td>3.39</td>\n",
       "      <td>17850.0</td>\n",
       "      <td>United Kingdom</td>\n",
       "      <td>NaN</td>\n",
       "    </tr>\n",
       "    <tr>\n",
       "      <th>4</th>\n",
       "      <td>536365</td>\n",
       "      <td>84029E</td>\n",
       "      <td>RED WOOLLY HOTTIE WHITE HEART.</td>\n",
       "      <td>6</td>\n",
       "      <td>29-Nov-16</td>\n",
       "      <td>3.39</td>\n",
       "      <td>17850.0</td>\n",
       "      <td>United Kingdom</td>\n",
       "      <td>NaN</td>\n",
       "    </tr>\n",
       "  </tbody>\n",
       "</table>\n",
       "</div>"
      ],
      "text/plain": [
       "  InvoiceNo StockCode                          Description  Quantity  \\\n",
       "0    536365    85123A   WHITE HANGING HEART T-LIGHT HOLDER         6   \n",
       "1    536365     71053                  WHITE METAL LANTERN         6   \n",
       "2    536365    84406B       CREAM CUPID HEARTS COAT HANGER         8   \n",
       "3    536365    84029G  KNITTED UNION FLAG HOT WATER BOTTLE         6   \n",
       "4    536365    84029E       RED WOOLLY HOTTIE WHITE HEART.         6   \n",
       "\n",
       "  InvoiceDate  UnitPrice  CustomerID         Country  Unnamed: 8  \n",
       "0   29-Nov-16       2.55     17850.0  United Kingdom         NaN  \n",
       "1   29-Nov-16       3.39     17850.0  United Kingdom         NaN  \n",
       "2   29-Nov-16       2.75     17850.0  United Kingdom         NaN  \n",
       "3   29-Nov-16       3.39     17850.0  United Kingdom         NaN  \n",
       "4   29-Nov-16       3.39     17850.0  United Kingdom         NaN  "
      ]
     },
     "execution_count": 138,
     "metadata": {},
     "output_type": "execute_result"
    }
   ],
   "source": [
    "# Analisando os dados \n",
    "df.head()\n"
   ]
  },
  {
   "cell_type": "code",
   "execution_count": 139,
   "id": "ee6e6fae-42d5-405c-8310-441dc1c15733",
   "metadata": {},
   "outputs": [
    {
     "data": {
      "text/plain": [
       "array([nan])"
      ]
     },
     "execution_count": 139,
     "metadata": {},
     "output_type": "execute_result"
    }
   ],
   "source": [
    "df['Unnamed: 8'].unique()"
   ]
  },
  {
   "cell_type": "markdown",
   "id": "ac10b4c8-5ae3-4a60-bffa-db670b92a3e3",
   "metadata": {},
   "source": [
    "* coluna 'Unnamed: 8' deve ser dropada!"
   ]
  },
  {
   "cell_type": "code",
   "execution_count": 140,
   "id": "1bf6b924-6bc0-48e0-8955-8097cc55019e",
   "metadata": {},
   "outputs": [],
   "source": [
    "df.drop(columns = 'Unnamed: 8',  inplace = True)"
   ]
  },
  {
   "cell_type": "markdown",
   "id": "2bf5d761-f2af-4f20-944f-28a56a457d0b",
   "metadata": {},
   "source": [
    "# 2. Data Description"
   ]
  },
  {
   "cell_type": "markdown",
   "id": "c379d885-1355-4f20-b98a-3cec53d0024b",
   "metadata": {},
   "source": [
    "**Contexto**\n",
    "\n",
    "Dados de comércio Eletrônico\n",
    "\n",
    "**Conteúdo**\n",
    "\n",
    "Este é um conjunto de dados transnacional que contém todas as transações que ocorrem entre 01/12/2010 e 09/12/2011 para um varejo on-line sem loja com sede no Reino Unido e registrado. A empresa vende principalmente presentes exclusivos de todas as ocasiões. Muitos clientes da empresa são atacadistas.\n",
    "\n",
    "fonte: https://archive.ics.uci.edu/dataset/502/online+retail+ii"
   ]
  },
  {
   "cell_type": "markdown",
   "id": "c8ceb2c5-b1cc-456f-be3f-c48d3fba4f9e",
   "metadata": {},
   "source": [
    "                            **Attribute Description**\n",
    "\n",
    "InvoiceNo:    Número da fatura (um número integral de 6 dígitos atribuído exclusivamente a cada transação)\n",
    "\n",
    "StockCode:    Código do produto (item)\n",
    "\n",
    "Description:  Product (item) name\n",
    "\n",
    "Quantity:     The quantities of each product (item) per transaction\n",
    "\n",
    "InvoiceDate:  The day when each transaction was generated\n",
    "\n",
    "UnitPrice:    Unit price (Product price per unit)\n",
    "\n",
    "CustomerID:   Customer number (Unique ID assigned to each customer)\n",
    "\n",
    "Country:      Country name (The name of the country where each customer resides)\n",
    "\n",
    "Analysis tasks to be performed:\n",
    "\n",
    "Use the clustering methodology to segment customers into groups:\n",
    "\n"
   ]
  },
  {
   "cell_type": "markdown",
   "id": "7df38b85-4e2b-4dd5-a0ca-2738af1fd54b",
   "metadata": {},
   "source": [
    "| Nome variável       | Papel     | Tipo | Descrião do produto | Unidades de Ações | Valores perdidos|\n",
    "|--------------|-----------|------------|------------|------------|------------|\n",
    "| InvoiceNo (em voz) | ID     | Categorial   | um número integral de 6 dígitos atribuído exclusivamente a cada transação. **Se este código começar com a letra 'c', indica um cancelamento**|| No|\n",
    "| Cod,o do stock     | ID     | Categorial       |um número integral de 5 dígitos atribuído exclusivamente a cada produto distinto|| No|\n",
    "|Description|\tFeature|\tCategorical|\tproduct name|\t\t|no|\n",
    "|Quantity\t|Feature|\tInteger|\tthe quantities of each product (item) per transaction|\t\t|no|\n",
    "|InvoiceDate\t|Feature\t|Date|\tthe day and time when each transaction was generated|\t\t|no|\n",
    "|UnitPrice\t|Feature\t|Continuous\t|product price per unit\t|sterling|\tno|\n",
    "|CustomerID|Feature|Categorical|um número integral de 5 dígitos atribuído exclusivamente a cada cliente|\t|no|\n",
    "|Country|\tFeature|\tCategorical|\tthe name of the country where each customer resides|\t\t|no|"
   ]
  },
  {
   "cell_type": "markdown",
   "id": "84005c7d-414f-4304-8572-dff8853d1a4e",
   "metadata": {},
   "source": [
    "| Item         | Price | # In stock |\n",
    "|--------------|:-----:|-----------:|\n",
    "| Juicy Apples |  1.99 |        739 |\n",
    "| Bananas      |  1.89 |          6 |"
   ]
  },
  {
   "cell_type": "markdown",
   "id": "e900d11a-116c-46a7-bbbe-b26cc2631c79",
   "metadata": {},
   "source": [
    "## 2.1 Rename Columns"
   ]
  },
  {
   "cell_type": "code",
   "execution_count": 141,
   "id": "942f28c6-3c48-49e6-b091-1d7669a02eee",
   "metadata": {},
   "outputs": [
    {
     "data": {
      "text/plain": [
       "['InvoiceNo',\n",
       " 'StockCode',\n",
       " 'Description',\n",
       " 'Quantity',\n",
       " 'InvoiceDate',\n",
       " 'UnitPrice',\n",
       " 'CustomerID',\n",
       " 'Country']"
      ]
     },
     "execution_count": 141,
     "metadata": {},
     "output_type": "execute_result"
    }
   ],
   "source": [
    "list(df.columns)"
   ]
  },
  {
   "cell_type": "code",
   "execution_count": 142,
   "id": "35ecb77f-ffb2-49cf-b621-54610580b28c",
   "metadata": {},
   "outputs": [],
   "source": [
    "cols_old = list(df.columns)\n",
    "\n",
    "snakecase = lambda x : inflection.underscore( x )\n",
    "cols_new = list(map(snakecase, cols_old))\n",
    "\n",
    "df.columns = cols_new\n"
   ]
  },
  {
   "cell_type": "markdown",
   "id": "103ef3f2-9036-4241-912f-77d7ba477401",
   "metadata": {},
   "source": [
    "## 2.2 Data Dimensions"
   ]
  },
  {
   "cell_type": "code",
   "execution_count": 143,
   "id": "12de1527-bc81-45fa-8f4d-59c4f6786ff9",
   "metadata": {},
   "outputs": [
    {
     "name": "stdout",
     "output_type": "stream",
     "text": [
      "Number of Rows: 541909\n",
      "Number of Cols: 8\n"
     ]
    }
   ],
   "source": [
    "print('Number of Rows: {}'.format( df.shape[0]))\n",
    "print( 'Number of Cols: {}'.format( df.shape[1] ) )"
   ]
  },
  {
   "cell_type": "markdown",
   "id": "18aaa17c-4bf7-421d-8d9e-088583611ebd",
   "metadata": {},
   "source": [
    "## 2.3 Data Types"
   ]
  },
  {
   "cell_type": "code",
   "execution_count": 144,
   "id": "6177eab7-464a-4fef-a429-392923a712d6",
   "metadata": {},
   "outputs": [
    {
     "data": {
      "text/plain": [
       "invoice_no       object\n",
       "stock_code       object\n",
       "description      object\n",
       "quantity          int64\n",
       "invoice_date     object\n",
       "unit_price      float64\n",
       "customer_id     float64\n",
       "country          object\n",
       "dtype: object"
      ]
     },
     "execution_count": 144,
     "metadata": {},
     "output_type": "execute_result"
    }
   ],
   "source": [
    "df.dtypes"
   ]
  },
  {
   "cell_type": "code",
   "execution_count": 145,
   "id": "7aaec92d-63e1-4d36-82ea-01777fee964a",
   "metadata": {},
   "outputs": [
    {
     "data": {
      "text/plain": [
       "array(['536365', '536366', '536367', ..., '581585', '581586', '581587'],\n",
       "      dtype=object)"
      ]
     },
     "execution_count": 145,
     "metadata": {},
     "output_type": "execute_result"
    }
   ],
   "source": [
    "df['invoice_no'].unique()"
   ]
  },
  {
   "cell_type": "markdown",
   "id": "a54468da-a0c3-4927-985c-f12c7fc591c3",
   "metadata": {},
   "source": [
    "* coluna invoice_no, deve mudar seu tipo para int64"
   ]
  },
  {
   "cell_type": "markdown",
   "id": "94c641db-69dd-4b01-895e-aa021f6a67b6",
   "metadata": {},
   "source": [
    "## 2.4 Check NA"
   ]
  },
  {
   "cell_type": "code",
   "execution_count": 146,
   "id": "86c8506b-2766-4fec-b769-b0adabb1a491",
   "metadata": {},
   "outputs": [
    {
     "data": {
      "text/plain": [
       "invoice_no           0\n",
       "stock_code           0\n",
       "description       1454\n",
       "quantity             0\n",
       "invoice_date         0\n",
       "unit_price           0\n",
       "customer_id     135080\n",
       "country              0\n",
       "dtype: int64"
      ]
     },
     "execution_count": 146,
     "metadata": {},
     "output_type": "execute_result"
    }
   ],
   "source": [
    "df.isna().sum() "
   ]
  },
  {
   "cell_type": "code",
   "execution_count": 147,
   "id": "e91cbf4d-c189-46ac-98d1-028bae10c5b0",
   "metadata": {},
   "outputs": [
    {
     "data": {
      "text/plain": [
       "invoice_no       0.000000\n",
       "stock_code       0.000000\n",
       "description      0.268311\n",
       "quantity         0.000000\n",
       "invoice_date     0.000000\n",
       "unit_price       0.000000\n",
       "customer_id     24.926694\n",
       "country          0.000000\n",
       "dtype: float64"
      ]
     },
     "execution_count": 147,
     "metadata": {},
     "output_type": "execute_result"
    }
   ],
   "source": [
    "(df.isna().sum() / 541909 ) *100"
   ]
  },
  {
   "cell_type": "markdown",
   "id": "3982a25b-7213-4ad9-b729-e777a434b424",
   "metadata": {},
   "source": [
    "REFLEXÃO p/ trabalhar com os NANs\n",
    "\n",
    "**Objetivo do trabalhoh:** Usa a metodologia de clustering para segmentar clientes em grupos! \n",
    "\n",
    "Formas de tratar os NAN:\n",
    "\n",
    "    * Deletar ( df.dropna() )\n",
    "        * + (vantagem        -  Simples\n",
    "        * - (Desvantagem )   -  Perda de informação\n",
    "        * Goal               -  Depende da quantidade \n",
    "   \n",
    "    * Preencher\n",
    "        * + (vantagem        -  Mantém o tamanho original dos dados\n",
    "        * - (Desvantagem )   -  Caso a distribuição n seja normal, pode fica com muito viés!\n",
    "        * Goal               -  Atrapalharia na segmentação e interpretação do cliente!\n",
    "    \n",
    "    * Interpolar\n",
    "        * + (vantagem        -  Mantém a integridade de seres temporais \n",
    "        * - (Desvantagem )   -  Pode distorcer com informações falsas\n",
    "        * Goal               -  Segmentar o cliente errado no grupo, pois o mesmo pode aparecer mais de uma vez, com uma pequenas  diferança nas suas características.\n",
    "    \n",
    "    * Modelos Estatísticos\n",
    "        * + (vantagem        -  Abordagem mais sofisticada \n",
    "        * - (Desvantagem )   -  Reque muito recurso do computador e pode ser impreciso\n",
    "        * Goal               -  Pode acumular muita informação incorreta!\n",
    "\n",
    "Conclusão: Melhor caminho, baseado na quantidade máximo de perda é 25% de perda de informação."
   ]
  },
  {
   "cell_type": "markdown",
   "id": "076e24d8-b5e9-442a-8da7-9f3992572bb9",
   "metadata": {},
   "source": [
    "## 2.5 Fillout NAN ou Null"
   ]
  },
  {
   "cell_type": "markdown",
   "id": "60562098-8e74-45bd-af5c-e8ee8746e172",
   "metadata": {},
   "source": [
    "colunas com NA description, customer_id"
   ]
  },
  {
   "cell_type": "code",
   "execution_count": 148,
   "id": "4c35f2eb-a0f5-41ac-afc8-2dc78f38d1f2",
   "metadata": {},
   "outputs": [
    {
     "data": {
      "text/html": [
       "<div>\n",
       "<style scoped>\n",
       "    .dataframe tbody tr th:only-of-type {\n",
       "        vertical-align: middle;\n",
       "    }\n",
       "\n",
       "    .dataframe tbody tr th {\n",
       "        vertical-align: top;\n",
       "    }\n",
       "\n",
       "    .dataframe thead th {\n",
       "        text-align: right;\n",
       "    }\n",
       "</style>\n",
       "<table border=\"1\" class=\"dataframe\">\n",
       "  <thead>\n",
       "    <tr style=\"text-align: right;\">\n",
       "      <th></th>\n",
       "      <th>invoice_no</th>\n",
       "      <th>stock_code</th>\n",
       "      <th>description</th>\n",
       "      <th>quantity</th>\n",
       "      <th>invoice_date</th>\n",
       "      <th>unit_price</th>\n",
       "      <th>customer_id</th>\n",
       "      <th>country</th>\n",
       "    </tr>\n",
       "  </thead>\n",
       "  <tbody>\n",
       "    <tr>\n",
       "      <th>0</th>\n",
       "      <td>536365</td>\n",
       "      <td>85123A</td>\n",
       "      <td>WHITE HANGING HEART T-LIGHT HOLDER</td>\n",
       "      <td>6</td>\n",
       "      <td>29-Nov-16</td>\n",
       "      <td>2.55</td>\n",
       "      <td>17850.0</td>\n",
       "      <td>United Kingdom</td>\n",
       "    </tr>\n",
       "    <tr>\n",
       "      <th>1</th>\n",
       "      <td>536365</td>\n",
       "      <td>71053</td>\n",
       "      <td>WHITE METAL LANTERN</td>\n",
       "      <td>6</td>\n",
       "      <td>29-Nov-16</td>\n",
       "      <td>3.39</td>\n",
       "      <td>17850.0</td>\n",
       "      <td>United Kingdom</td>\n",
       "    </tr>\n",
       "    <tr>\n",
       "      <th>2</th>\n",
       "      <td>536365</td>\n",
       "      <td>84406B</td>\n",
       "      <td>CREAM CUPID HEARTS COAT HANGER</td>\n",
       "      <td>8</td>\n",
       "      <td>29-Nov-16</td>\n",
       "      <td>2.75</td>\n",
       "      <td>17850.0</td>\n",
       "      <td>United Kingdom</td>\n",
       "    </tr>\n",
       "    <tr>\n",
       "      <th>3</th>\n",
       "      <td>536365</td>\n",
       "      <td>84029G</td>\n",
       "      <td>KNITTED UNION FLAG HOT WATER BOTTLE</td>\n",
       "      <td>6</td>\n",
       "      <td>29-Nov-16</td>\n",
       "      <td>3.39</td>\n",
       "      <td>17850.0</td>\n",
       "      <td>United Kingdom</td>\n",
       "    </tr>\n",
       "    <tr>\n",
       "      <th>4</th>\n",
       "      <td>536365</td>\n",
       "      <td>84029E</td>\n",
       "      <td>RED WOOLLY HOTTIE WHITE HEART.</td>\n",
       "      <td>6</td>\n",
       "      <td>29-Nov-16</td>\n",
       "      <td>3.39</td>\n",
       "      <td>17850.0</td>\n",
       "      <td>United Kingdom</td>\n",
       "    </tr>\n",
       "  </tbody>\n",
       "</table>\n",
       "</div>"
      ],
      "text/plain": [
       "  invoice_no stock_code                          description  quantity  \\\n",
       "0     536365     85123A   WHITE HANGING HEART T-LIGHT HOLDER         6   \n",
       "1     536365      71053                  WHITE METAL LANTERN         6   \n",
       "2     536365     84406B       CREAM CUPID HEARTS COAT HANGER         8   \n",
       "3     536365     84029G  KNITTED UNION FLAG HOT WATER BOTTLE         6   \n",
       "4     536365     84029E       RED WOOLLY HOTTIE WHITE HEART.         6   \n",
       "\n",
       "  invoice_date  unit_price  customer_id         country  \n",
       "0    29-Nov-16        2.55      17850.0  United Kingdom  \n",
       "1    29-Nov-16        3.39      17850.0  United Kingdom  \n",
       "2    29-Nov-16        2.75      17850.0  United Kingdom  \n",
       "3    29-Nov-16        3.39      17850.0  United Kingdom  \n",
       "4    29-Nov-16        3.39      17850.0  United Kingdom  "
      ]
     },
     "execution_count": 148,
     "metadata": {},
     "output_type": "execute_result"
    }
   ],
   "source": [
    "df.head()"
   ]
  },
  {
   "cell_type": "code",
   "execution_count": 149,
   "id": "4678db78-08f2-42df-bb2a-238ea5ae1eb8",
   "metadata": {},
   "outputs": [
    {
     "data": {
      "text/plain": [
       "array(['WHITE HANGING HEART T-LIGHT HOLDER', 'WHITE METAL LANTERN',\n",
       "       'CREAM CUPID HEARTS COAT HANGER', ..., 'lost',\n",
       "       'CREAM HANGING HEART T-LIGHT HOLDER',\n",
       "       'PAPER CRAFT , LITTLE BIRDIE'], dtype=object)"
      ]
     },
     "execution_count": 149,
     "metadata": {},
     "output_type": "execute_result"
    }
   ],
   "source": [
    "df['description'].unique()"
   ]
  },
  {
   "cell_type": "code",
   "execution_count": 150,
   "id": "b08a5e4e-9d1c-4fab-99ae-df433f569756",
   "metadata": {},
   "outputs": [
    {
     "data": {
      "text/plain": [
       "array([17850., 13047., 12583., ..., 13298., 14569., 12713.])"
      ]
     },
     "execution_count": 150,
     "metadata": {},
     "output_type": "execute_result"
    }
   ],
   "source": [
    "df['customer_id'].unique()"
   ]
  },
  {
   "cell_type": "markdown",
   "id": "db2368a3-9866-46c9-a747-f13f4e92f996",
   "metadata": {},
   "source": [
    "##### Qual seria o plano\n",
    "    * customer_id - O id, ele traz uma identificação do cliente, contudo\n",
    "    * description - pode subtituir por \"sem comentário\"\n",
    "\n"
   ]
  },
  {
   "cell_type": "markdown",
   "id": "c7a6e530-92d2-47dc-8804-a6dc26a259f1",
   "metadata": {},
   "source": [
    "###### Tentativa 1 ( X )"
   ]
  },
  {
   "cell_type": "code",
   "execution_count": 151,
   "id": "e8454794-eef7-4300-909e-17ebba3d1ce2",
   "metadata": {},
   "outputs": [],
   "source": [
    "df1 = df.dropna()"
   ]
  },
  {
   "cell_type": "code",
   "execution_count": 152,
   "id": "a9b6a5d4-434b-4fb3-8c6f-f9c69433c47d",
   "metadata": {},
   "outputs": [
    {
     "data": {
      "text/plain": [
       "invoice_no      0\n",
       "stock_code      0\n",
       "description     0\n",
       "quantity        0\n",
       "invoice_date    0\n",
       "unit_price      0\n",
       "customer_id     0\n",
       "country         0\n",
       "dtype: int64"
      ]
     },
     "execution_count": 152,
     "metadata": {},
     "output_type": "execute_result"
    }
   ],
   "source": [
    "df1.isnull().sum()"
   ]
  },
  {
   "cell_type": "markdown",
   "id": "113c8cd8-55b4-4b2d-a4c2-1f478d821066",
   "metadata": {},
   "source": [
    "###### Tentativa 2"
   ]
  },
  {
   "cell_type": "code",
   "execution_count": 153,
   "id": "7bf599b4-bd15-4fb4-82a5-33d6c015d822",
   "metadata": {},
   "outputs": [],
   "source": [
    "#df_missing     = df.loc[df1['customer_id'].isna(), :]\n",
    "#df_not_missing = df.loc[~df1['customer_id'].isna(), :]\n",
    "\n",
    "#create reference\n",
    "#df_backup = pd.DataFrame(df_missing['invoice_no']).drop_duplicates()\n",
    "#df_backup['customer_id'] = np.arange(19000, 19000 + len(df_backup), 1)\n",
    "\n",
    "#merge original with reference dataframe\n",
    "#df1 = pd.merge(df1, df_backup, on='invoice_no', how='left')\n",
    "\n",
    "#coalesce \n",
    "#df1['customer_id'] = df1['customer_id_x'].combine_first(df1['customer_id_y'])\n",
    "\n",
    "#drop extra columns\n",
    "#df1 = df1.drop(columns=['customer_id_x', 'customer_id_y'], axis=1)\n",
    "#df1.head()\n"
   ]
  },
  {
   "cell_type": "markdown",
   "id": "60e8cd2c-5a54-45b9-b521-51440ceb9f19",
   "metadata": {},
   "source": [
    "## 2.7 Change Type"
   ]
  },
  {
   "cell_type": "code",
   "execution_count": 154,
   "id": "8810601d-580a-48cb-ae2c-d0efa20e4407",
   "metadata": {},
   "outputs": [
    {
     "data": {
      "text/plain": [
       "invoice_no       object\n",
       "stock_code       object\n",
       "description      object\n",
       "quantity          int64\n",
       "invoice_date     object\n",
       "unit_price      float64\n",
       "customer_id     float64\n",
       "country          object\n",
       "dtype: object"
      ]
     },
     "execution_count": 154,
     "metadata": {},
     "output_type": "execute_result"
    }
   ],
   "source": [
    "df1.dtypes"
   ]
  },
  {
   "cell_type": "code",
   "execution_count": 155,
   "id": "a2961cb8-34a6-44d7-9129-6456cd160063",
   "metadata": {},
   "outputs": [
    {
     "data": {
      "text/html": [
       "<div>\n",
       "<style scoped>\n",
       "    .dataframe tbody tr th:only-of-type {\n",
       "        vertical-align: middle;\n",
       "    }\n",
       "\n",
       "    .dataframe tbody tr th {\n",
       "        vertical-align: top;\n",
       "    }\n",
       "\n",
       "    .dataframe thead th {\n",
       "        text-align: right;\n",
       "    }\n",
       "</style>\n",
       "<table border=\"1\" class=\"dataframe\">\n",
       "  <thead>\n",
       "    <tr style=\"text-align: right;\">\n",
       "      <th></th>\n",
       "      <th>invoice_no</th>\n",
       "      <th>stock_code</th>\n",
       "      <th>description</th>\n",
       "      <th>quantity</th>\n",
       "      <th>invoice_date</th>\n",
       "      <th>unit_price</th>\n",
       "      <th>customer_id</th>\n",
       "      <th>country</th>\n",
       "    </tr>\n",
       "  </thead>\n",
       "  <tbody>\n",
       "    <tr>\n",
       "      <th>0</th>\n",
       "      <td>536365</td>\n",
       "      <td>85123A</td>\n",
       "      <td>WHITE HANGING HEART T-LIGHT HOLDER</td>\n",
       "      <td>6</td>\n",
       "      <td>29-Nov-16</td>\n",
       "      <td>2.55</td>\n",
       "      <td>17850.0</td>\n",
       "      <td>United Kingdom</td>\n",
       "    </tr>\n",
       "    <tr>\n",
       "      <th>1</th>\n",
       "      <td>536365</td>\n",
       "      <td>71053</td>\n",
       "      <td>WHITE METAL LANTERN</td>\n",
       "      <td>6</td>\n",
       "      <td>29-Nov-16</td>\n",
       "      <td>3.39</td>\n",
       "      <td>17850.0</td>\n",
       "      <td>United Kingdom</td>\n",
       "    </tr>\n",
       "    <tr>\n",
       "      <th>2</th>\n",
       "      <td>536365</td>\n",
       "      <td>84406B</td>\n",
       "      <td>CREAM CUPID HEARTS COAT HANGER</td>\n",
       "      <td>8</td>\n",
       "      <td>29-Nov-16</td>\n",
       "      <td>2.75</td>\n",
       "      <td>17850.0</td>\n",
       "      <td>United Kingdom</td>\n",
       "    </tr>\n",
       "    <tr>\n",
       "      <th>3</th>\n",
       "      <td>536365</td>\n",
       "      <td>84029G</td>\n",
       "      <td>KNITTED UNION FLAG HOT WATER BOTTLE</td>\n",
       "      <td>6</td>\n",
       "      <td>29-Nov-16</td>\n",
       "      <td>3.39</td>\n",
       "      <td>17850.0</td>\n",
       "      <td>United Kingdom</td>\n",
       "    </tr>\n",
       "    <tr>\n",
       "      <th>4</th>\n",
       "      <td>536365</td>\n",
       "      <td>84029E</td>\n",
       "      <td>RED WOOLLY HOTTIE WHITE HEART.</td>\n",
       "      <td>6</td>\n",
       "      <td>29-Nov-16</td>\n",
       "      <td>3.39</td>\n",
       "      <td>17850.0</td>\n",
       "      <td>United Kingdom</td>\n",
       "    </tr>\n",
       "  </tbody>\n",
       "</table>\n",
       "</div>"
      ],
      "text/plain": [
       "  invoice_no stock_code                          description  quantity  \\\n",
       "0     536365     85123A   WHITE HANGING HEART T-LIGHT HOLDER         6   \n",
       "1     536365      71053                  WHITE METAL LANTERN         6   \n",
       "2     536365     84406B       CREAM CUPID HEARTS COAT HANGER         8   \n",
       "3     536365     84029G  KNITTED UNION FLAG HOT WATER BOTTLE         6   \n",
       "4     536365     84029E       RED WOOLLY HOTTIE WHITE HEART.         6   \n",
       "\n",
       "  invoice_date  unit_price  customer_id         country  \n",
       "0    29-Nov-16        2.55      17850.0  United Kingdom  \n",
       "1    29-Nov-16        3.39      17850.0  United Kingdom  \n",
       "2    29-Nov-16        2.75      17850.0  United Kingdom  \n",
       "3    29-Nov-16        3.39      17850.0  United Kingdom  \n",
       "4    29-Nov-16        3.39      17850.0  United Kingdom  "
      ]
     },
     "execution_count": 155,
     "metadata": {},
     "output_type": "execute_result"
    }
   ],
   "source": [
    "df1.head()"
   ]
  },
  {
   "cell_type": "code",
   "execution_count": 156,
   "id": "bd1ec0de-f849-4d49-a533-a4b617ec315f",
   "metadata": {},
   "outputs": [
    {
     "data": {
      "text/plain": [
       "invoice_no       object\n",
       "stock_code       object\n",
       "description      object\n",
       "quantity          int64\n",
       "invoice_date     object\n",
       "unit_price      float64\n",
       "customer_id     float64\n",
       "country          object\n",
       "dtype: object"
      ]
     },
     "execution_count": 156,
     "metadata": {},
     "output_type": "execute_result"
    }
   ],
   "source": [
    "# invoice_no\n",
    "#df1['invoice_no']   = df1['invoice_no'].astype( int ) \n",
    "\n",
    "#invoice date\n",
    "df1.loc[:, 'invoice_date'] = pd.to_datetime(df1.loc[:,'invoice_date'], format= '%d-%b-%y') \n",
    "\n",
    "#customer id\n",
    "df1.loc[:, 'customer_id'] = df1.loc[:, 'customer_id'].astype(int)\n",
    "df1.dtypes\n",
    "\n"
   ]
  },
  {
   "cell_type": "markdown",
   "id": "d5d5122b-a720-46f4-a193-a060ac8994a2",
   "metadata": {},
   "source": [
    " ## 2.7 Descriptive Statistics"
   ]
  },
  {
   "cell_type": "code",
   "execution_count": 157,
   "id": "bc7d0129-162d-4279-b3a2-ae4a461facca",
   "metadata": {},
   "outputs": [],
   "source": [
    "num_attributes = df1.select_dtypes( include = ['int64', 'int32', 'float64'] )\n",
    "cat_attributes = df1.select_dtypes( exclude = ['int64', 'int32', 'float64', 'datetime64[ns]'] )"
   ]
  },
  {
   "cell_type": "markdown",
   "id": "015042bd-c165-42cc-95bd-c082199eecdc",
   "metadata": {},
   "source": [
    "## 2.7.1 Numerical Attributes"
   ]
  },
  {
   "cell_type": "code",
   "execution_count": 158,
   "id": "22b0be51-a314-4589-94f5-115b4ca30883",
   "metadata": {},
   "outputs": [
    {
     "data": {
      "text/html": [
       "<div>\n",
       "<style scoped>\n",
       "    .dataframe tbody tr th:only-of-type {\n",
       "        vertical-align: middle;\n",
       "    }\n",
       "\n",
       "    .dataframe tbody tr th {\n",
       "        vertical-align: top;\n",
       "    }\n",
       "\n",
       "    .dataframe thead th {\n",
       "        text-align: right;\n",
       "    }\n",
       "</style>\n",
       "<table border=\"1\" class=\"dataframe\">\n",
       "  <thead>\n",
       "    <tr style=\"text-align: right;\">\n",
       "      <th></th>\n",
       "      <th>attributes</th>\n",
       "      <th>min</th>\n",
       "      <th>max</th>\n",
       "      <th>range</th>\n",
       "      <th>mean</th>\n",
       "      <th>median</th>\n",
       "      <th>std</th>\n",
       "      <th>skew</th>\n",
       "      <th>kurtosis</th>\n",
       "    </tr>\n",
       "  </thead>\n",
       "  <tbody>\n",
       "    <tr>\n",
       "      <th>0</th>\n",
       "      <td>quantity</td>\n",
       "      <td>-80995.0</td>\n",
       "      <td>80995.0</td>\n",
       "      <td>161990.0</td>\n",
       "      <td>12.061303</td>\n",
       "      <td>5.00</td>\n",
       "      <td>248.693064</td>\n",
       "      <td>0.182663</td>\n",
       "      <td>94317.563673</td>\n",
       "    </tr>\n",
       "    <tr>\n",
       "      <th>1</th>\n",
       "      <td>unit_price</td>\n",
       "      <td>0.0</td>\n",
       "      <td>38970.0</td>\n",
       "      <td>38970.0</td>\n",
       "      <td>3.460471</td>\n",
       "      <td>1.95</td>\n",
       "      <td>69.315077</td>\n",
       "      <td>452.219019</td>\n",
       "      <td>246924.542988</td>\n",
       "    </tr>\n",
       "  </tbody>\n",
       "</table>\n",
       "</div>"
      ],
      "text/plain": [
       "   attributes      min      max     range       mean  median         std  \\\n",
       "0    quantity -80995.0  80995.0  161990.0  12.061303    5.00  248.693064   \n",
       "1  unit_price      0.0  38970.0   38970.0   3.460471    1.95   69.315077   \n",
       "\n",
       "         skew       kurtosis  \n",
       "0    0.182663   94317.563673  \n",
       "1  452.219019  246924.542988  "
      ]
     },
     "execution_count": 158,
     "metadata": {},
     "output_type": "execute_result"
    }
   ],
   "source": [
    "#central tendency - mean, median\n",
    "ct1 = pd.DataFrame(num_attributes.apply(np.mean)).T\n",
    "ct2 = pd.DataFrame(num_attributes.apply(np.median)).T\n",
    "\n",
    "#dispersion \n",
    "d1 = pd.DataFrame(num_attributes.apply(np.std)).T\n",
    "d2 = pd.DataFrame(num_attributes.apply(np.min)).T\n",
    "d3 = pd.DataFrame(num_attributes.apply(np.max)).T\n",
    "d4 = pd.DataFrame(num_attributes.apply(lambda x: x.max() - x.min())).T\n",
    "d5 = pd.DataFrame(num_attributes.apply(lambda x: x.skew())).T\n",
    "d6 = pd.DataFrame(num_attributes.apply(lambda x: x.kurtosis())).T\n",
    "\n",
    "#concatenate\n",
    "m1 = pd.concat([d2 ,d3, d4, ct1, ct2, d1, d5, d6]).T.reset_index()\n",
    "m1 = m1.drop([2])\n",
    "m1.columns = ['attributes', 'min', 'max', 'range', 'mean', 'median', 'std', 'skew', 'kurtosis' ]\n",
    "m1\n"
   ]
  },
  {
   "cell_type": "markdown",
   "id": "d4c849eb-4f21-4946-939d-055ff4222e1a",
   "metadata": {},
   "source": [
    "## 2.7.2 Categorical Attributes"
   ]
  },
  {
   "cell_type": "code",
   "execution_count": 159,
   "id": "7e084288-eb08-40de-a45b-bd57a827511d",
   "metadata": {},
   "outputs": [
    {
     "data": {
      "text/html": [
       "<div>\n",
       "<style scoped>\n",
       "    .dataframe tbody tr th:only-of-type {\n",
       "        vertical-align: middle;\n",
       "    }\n",
       "\n",
       "    .dataframe tbody tr th {\n",
       "        vertical-align: top;\n",
       "    }\n",
       "\n",
       "    .dataframe thead th {\n",
       "        text-align: right;\n",
       "    }\n",
       "</style>\n",
       "<table border=\"1\" class=\"dataframe\">\n",
       "  <thead>\n",
       "    <tr style=\"text-align: right;\">\n",
       "      <th></th>\n",
       "      <th>invoice_no</th>\n",
       "      <th>stock_code</th>\n",
       "      <th>description</th>\n",
       "      <th>invoice_date</th>\n",
       "      <th>country</th>\n",
       "    </tr>\n",
       "  </thead>\n",
       "  <tbody>\n",
       "    <tr>\n",
       "      <th>0</th>\n",
       "      <td>536365</td>\n",
       "      <td>85123A</td>\n",
       "      <td>WHITE HANGING HEART T-LIGHT HOLDER</td>\n",
       "      <td>2016-11-29 00:00:00</td>\n",
       "      <td>United Kingdom</td>\n",
       "    </tr>\n",
       "    <tr>\n",
       "      <th>1</th>\n",
       "      <td>536365</td>\n",
       "      <td>71053</td>\n",
       "      <td>WHITE METAL LANTERN</td>\n",
       "      <td>2016-11-29 00:00:00</td>\n",
       "      <td>United Kingdom</td>\n",
       "    </tr>\n",
       "    <tr>\n",
       "      <th>2</th>\n",
       "      <td>536365</td>\n",
       "      <td>84406B</td>\n",
       "      <td>CREAM CUPID HEARTS COAT HANGER</td>\n",
       "      <td>2016-11-29 00:00:00</td>\n",
       "      <td>United Kingdom</td>\n",
       "    </tr>\n",
       "    <tr>\n",
       "      <th>3</th>\n",
       "      <td>536365</td>\n",
       "      <td>84029G</td>\n",
       "      <td>KNITTED UNION FLAG HOT WATER BOTTLE</td>\n",
       "      <td>2016-11-29 00:00:00</td>\n",
       "      <td>United Kingdom</td>\n",
       "    </tr>\n",
       "    <tr>\n",
       "      <th>4</th>\n",
       "      <td>536365</td>\n",
       "      <td>84029E</td>\n",
       "      <td>RED WOOLLY HOTTIE WHITE HEART.</td>\n",
       "      <td>2016-11-29 00:00:00</td>\n",
       "      <td>United Kingdom</td>\n",
       "    </tr>\n",
       "  </tbody>\n",
       "</table>\n",
       "</div>"
      ],
      "text/plain": [
       "  invoice_no stock_code                          description  \\\n",
       "0     536365     85123A   WHITE HANGING HEART T-LIGHT HOLDER   \n",
       "1     536365      71053                  WHITE METAL LANTERN   \n",
       "2     536365     84406B       CREAM CUPID HEARTS COAT HANGER   \n",
       "3     536365     84029G  KNITTED UNION FLAG HOT WATER BOTTLE   \n",
       "4     536365     84029E       RED WOOLLY HOTTIE WHITE HEART.   \n",
       "\n",
       "          invoice_date         country  \n",
       "0  2016-11-29 00:00:00  United Kingdom  \n",
       "1  2016-11-29 00:00:00  United Kingdom  \n",
       "2  2016-11-29 00:00:00  United Kingdom  \n",
       "3  2016-11-29 00:00:00  United Kingdom  \n",
       "4  2016-11-29 00:00:00  United Kingdom  "
      ]
     },
     "execution_count": 159,
     "metadata": {},
     "output_type": "execute_result"
    }
   ],
   "source": [
    "cat_attributes.head()"
   ]
  },
  {
   "cell_type": "code",
   "execution_count": 160,
   "id": "bacb675a-9227-42d1-86ce-93a78f862c3d",
   "metadata": {},
   "outputs": [
    {
     "name": "stdout",
     "output_type": "stream",
     "text": [
      "Total number of invoices: 8905\n",
      "Total number of negative quantity: 8905\n"
     ]
    }
   ],
   "source": [
    "df_letter_invoices = df1.loc[df1['invoice_no'].apply(lambda x: bool(re.search('[^0-9]+', x))), :]\n",
    "\n",
    "#check if the number of invoices that contains letters are igual with negative quantity\n",
    "print('Total number of invoices: {}'.format(len(df_letter_invoices)))\n",
    "print('Total number of negative quantity: {}'.format(len(df_letter_invoices[df_letter_invoices['quantity'] < 0])))\n",
    "\n"
   ]
  },
  {
   "cell_type": "markdown",
   "id": "fa9d1f7c-bfde-482a-88a3-fe16ec88ac69",
   "metadata": {},
   "source": [
    "**Stock code**"
   ]
  },
  {
   "cell_type": "code",
   "execution_count": 161,
   "id": "da452be3-602c-43d1-910d-8b2f756dac77",
   "metadata": {},
   "outputs": [
    {
     "data": {
      "text/plain": [
       "45        POST\n",
       "141          D\n",
       "386       POST\n",
       "1123      POST\n",
       "2239         M\n",
       "          ... \n",
       "541216    POST\n",
       "541541       M\n",
       "541730    POST\n",
       "541767    POST\n",
       "541768    POST\n",
       "Name: stock_code, Length: 1774, dtype: object"
      ]
     },
     "execution_count": 161,
     "metadata": {},
     "output_type": "execute_result"
    }
   ],
   "source": [
    "cat_attributes.loc[cat_attributes['stock_code'].apply(lambda x: bool(re.search('^[a-zA-Z]+$', x))), 'stock_code']"
   ]
  },
  {
   "cell_type": "code",
   "execution_count": 162,
   "id": "cc84390b-b262-4d9e-88aa-57615abe9829",
   "metadata": {},
   "outputs": [
    {
     "data": {
      "text/html": [
       "<div>\n",
       "<style scoped>\n",
       "    .dataframe tbody tr th:only-of-type {\n",
       "        vertical-align: middle;\n",
       "    }\n",
       "\n",
       "    .dataframe tbody tr th {\n",
       "        vertical-align: top;\n",
       "    }\n",
       "\n",
       "    .dataframe thead th {\n",
       "        text-align: right;\n",
       "    }\n",
       "</style>\n",
       "<table border=\"1\" class=\"dataframe\">\n",
       "  <thead>\n",
       "    <tr style=\"text-align: right;\">\n",
       "      <th></th>\n",
       "      <th>invoice_no</th>\n",
       "      <th>stock_code</th>\n",
       "      <th>description</th>\n",
       "      <th>quantity</th>\n",
       "      <th>invoice_date</th>\n",
       "      <th>unit_price</th>\n",
       "      <th>customer_id</th>\n",
       "      <th>country</th>\n",
       "    </tr>\n",
       "  </thead>\n",
       "  <tbody>\n",
       "    <tr>\n",
       "      <th>45</th>\n",
       "      <td>536370</td>\n",
       "      <td>POST</td>\n",
       "      <td>POSTAGE</td>\n",
       "      <td>3</td>\n",
       "      <td>2016-11-29 00:00:00</td>\n",
       "      <td>18.00</td>\n",
       "      <td>12583.0</td>\n",
       "      <td>France</td>\n",
       "    </tr>\n",
       "    <tr>\n",
       "      <th>141</th>\n",
       "      <td>C536379</td>\n",
       "      <td>D</td>\n",
       "      <td>Discount</td>\n",
       "      <td>-1</td>\n",
       "      <td>2016-11-29 00:00:00</td>\n",
       "      <td>27.50</td>\n",
       "      <td>14527.0</td>\n",
       "      <td>United Kingdom</td>\n",
       "    </tr>\n",
       "    <tr>\n",
       "      <th>386</th>\n",
       "      <td>536403</td>\n",
       "      <td>POST</td>\n",
       "      <td>POSTAGE</td>\n",
       "      <td>1</td>\n",
       "      <td>2016-11-29 00:00:00</td>\n",
       "      <td>15.00</td>\n",
       "      <td>12791.0</td>\n",
       "      <td>Netherlands</td>\n",
       "    </tr>\n",
       "    <tr>\n",
       "      <th>1123</th>\n",
       "      <td>536527</td>\n",
       "      <td>POST</td>\n",
       "      <td>POSTAGE</td>\n",
       "      <td>1</td>\n",
       "      <td>2016-11-29 00:00:00</td>\n",
       "      <td>18.00</td>\n",
       "      <td>12662.0</td>\n",
       "      <td>Germany</td>\n",
       "    </tr>\n",
       "    <tr>\n",
       "      <th>2239</th>\n",
       "      <td>536569</td>\n",
       "      <td>M</td>\n",
       "      <td>Manual</td>\n",
       "      <td>1</td>\n",
       "      <td>2016-11-29 00:00:00</td>\n",
       "      <td>1.25</td>\n",
       "      <td>16274.0</td>\n",
       "      <td>United Kingdom</td>\n",
       "    </tr>\n",
       "  </tbody>\n",
       "</table>\n",
       "</div>"
      ],
      "text/plain": [
       "     invoice_no stock_code description  quantity         invoice_date  \\\n",
       "45       536370       POST     POSTAGE         3  2016-11-29 00:00:00   \n",
       "141     C536379          D    Discount        -1  2016-11-29 00:00:00   \n",
       "386      536403       POST     POSTAGE         1  2016-11-29 00:00:00   \n",
       "1123     536527       POST     POSTAGE         1  2016-11-29 00:00:00   \n",
       "2239     536569          M      Manual         1  2016-11-29 00:00:00   \n",
       "\n",
       "      unit_price  customer_id         country  \n",
       "45         18.00      12583.0          France  \n",
       "141        27.50      14527.0  United Kingdom  \n",
       "386        15.00      12791.0     Netherlands  \n",
       "1123       18.00      12662.0         Germany  \n",
       "2239        1.25      16274.0  United Kingdom  "
      ]
     },
     "execution_count": 162,
     "metadata": {},
     "output_type": "execute_result"
    }
   ],
   "source": [
    "df1.loc[cat_attributes['stock_code'].apply(lambda x: bool(re.search('^[a-zA-Z]+$', x))), :].head()"
   ]
  },
  {
   "cell_type": "markdown",
   "id": "291333bb-118f-46b3-8ce4-144f5bb13092",
   "metadata": {},
   "source": [
    "## 3.0 Filter Variables"
   ]
  },
  {
   "cell_type": "code",
   "execution_count": 163,
   "id": "29a2a7a5-6666-4d05-ac3e-b6ef05a0fca8",
   "metadata": {},
   "outputs": [],
   "source": [
    "df2 = df1"
   ]
  },
  {
   "cell_type": "code",
   "execution_count": 164,
   "id": "e103b011-3014-4668-85ee-bc3be13a799e",
   "metadata": {},
   "outputs": [
    {
     "data": {
      "text/html": [
       "<div>\n",
       "<style scoped>\n",
       "    .dataframe tbody tr th:only-of-type {\n",
       "        vertical-align: middle;\n",
       "    }\n",
       "\n",
       "    .dataframe tbody tr th {\n",
       "        vertical-align: top;\n",
       "    }\n",
       "\n",
       "    .dataframe thead th {\n",
       "        text-align: right;\n",
       "    }\n",
       "</style>\n",
       "<table border=\"1\" class=\"dataframe\">\n",
       "  <thead>\n",
       "    <tr style=\"text-align: right;\">\n",
       "      <th></th>\n",
       "      <th>quantity</th>\n",
       "      <th>unit_price</th>\n",
       "      <th>customer_id</th>\n",
       "    </tr>\n",
       "  </thead>\n",
       "  <tbody>\n",
       "    <tr>\n",
       "      <th>count</th>\n",
       "      <td>406829.000000</td>\n",
       "      <td>406829.000000</td>\n",
       "      <td>406829.000000</td>\n",
       "    </tr>\n",
       "    <tr>\n",
       "      <th>mean</th>\n",
       "      <td>12.061303</td>\n",
       "      <td>3.460471</td>\n",
       "      <td>15287.690570</td>\n",
       "    </tr>\n",
       "    <tr>\n",
       "      <th>std</th>\n",
       "      <td>248.693370</td>\n",
       "      <td>69.315162</td>\n",
       "      <td>1713.600303</td>\n",
       "    </tr>\n",
       "    <tr>\n",
       "      <th>min</th>\n",
       "      <td>-80995.000000</td>\n",
       "      <td>0.000000</td>\n",
       "      <td>12346.000000</td>\n",
       "    </tr>\n",
       "    <tr>\n",
       "      <th>25%</th>\n",
       "      <td>2.000000</td>\n",
       "      <td>1.250000</td>\n",
       "      <td>13953.000000</td>\n",
       "    </tr>\n",
       "    <tr>\n",
       "      <th>50%</th>\n",
       "      <td>5.000000</td>\n",
       "      <td>1.950000</td>\n",
       "      <td>15152.000000</td>\n",
       "    </tr>\n",
       "    <tr>\n",
       "      <th>75%</th>\n",
       "      <td>12.000000</td>\n",
       "      <td>3.750000</td>\n",
       "      <td>16791.000000</td>\n",
       "    </tr>\n",
       "    <tr>\n",
       "      <th>max</th>\n",
       "      <td>80995.000000</td>\n",
       "      <td>38970.000000</td>\n",
       "      <td>18287.000000</td>\n",
       "    </tr>\n",
       "  </tbody>\n",
       "</table>\n",
       "</div>"
      ],
      "text/plain": [
       "            quantity     unit_price    customer_id\n",
       "count  406829.000000  406829.000000  406829.000000\n",
       "mean       12.061303       3.460471   15287.690570\n",
       "std       248.693370      69.315162    1713.600303\n",
       "min    -80995.000000       0.000000   12346.000000\n",
       "25%         2.000000       1.250000   13953.000000\n",
       "50%         5.000000       1.950000   15152.000000\n",
       "75%        12.000000       3.750000   16791.000000\n",
       "max     80995.000000   38970.000000   18287.000000"
      ]
     },
     "execution_count": 164,
     "metadata": {},
     "output_type": "execute_result"
    }
   ],
   "source": [
    "df2.describe()"
   ]
  },
  {
   "cell_type": "code",
   "execution_count": 165,
   "id": "d5fdcbbf-0c51-4b3f-af8c-012bf4214122",
   "metadata": {},
   "outputs": [
    {
     "name": "stderr",
     "output_type": "stream",
     "text": [
      "/tmp/ipykernel_26412/2185533012.py:8: SettingWithCopyWarning: \n",
      "A value is trying to be set on a copy of a slice from a DataFrame\n",
      "\n",
      "See the caveats in the documentation: https://pandas.pydata.org/pandas-docs/stable/user_guide/indexing.html#returning-a-view-versus-a-copy\n",
      "  df2.drop(columns='description', axis=1, inplace = True)\n"
     ]
    }
   ],
   "source": [
    "#unit price > 0.0\n",
    "#df2 = df2.loc[df2['unit_price'] > 0.04, :]\n",
    "\n",
    "#stock code different of ['POST', 'D', 'M', 'PADS', 'DOT', 'CRUK']\n",
    "#df2 = df2[~df2['stock_code'].isin(['POST', 'D', 'DOT', 'M', 'S', 'AMAZONFEE', 'm', 'DCGSSBOY','DCGSSGIRL', 'PADS', 'B', 'CRUK'])]\n",
    "\n",
    "#description\n",
    "df2.drop(columns='description', axis=1, inplace = True)\n",
    "\n",
    "#map New Feacture\n",
    "#df2 = df2[~df2['country'].isin(['European Community', 'Unspecified'])] # isin(comparado) se comparado for igual ao de fora retorna True\n",
    "#A ideia nesse código de cima está mal feito, a ideia ao que parece é pegar \n",
    "#todos os paídes da europa e subtituir por 'European Community' e fora por 'Unspecified'\n",
    "# uma forma de fazer isso é criar uma lista country_europa, depois é só \n",
    "# df2['europeu'] = df2['country'].apply(lambda x : 1 if x is in country_europa else 0 )\n",
    "\n",
    "#bad users\n",
    "#df2 = df2[~df2['customer_id'].isin([16446])] #user com numero muito grande de retornos \n",
    "\n",
    "#quantity - dividing in return and purchase \n",
    "returns = df2.loc[df2['quantity'] < 0, :]\n",
    "purchases = df2.loc[df2['quantity'] >= 0, :]"
   ]
  },
  {
   "cell_type": "markdown",
   "id": "2a645ccd-5998-47e1-a6b0-451259067eb6",
   "metadata": {},
   "source": [
    "# 4.0 Features Engineering"
   ]
  },
  {
   "cell_type": "code",
   "execution_count": 166,
   "id": "16c271f3-3539-4f66-99f6-ecbe4cb51512",
   "metadata": {},
   "outputs": [],
   "source": [
    "df3 = df2"
   ]
  },
  {
   "cell_type": "code",
   "execution_count": 167,
   "id": "445b491e-b8ba-4ffb-a50d-7968a5befe28",
   "metadata": {},
   "outputs": [],
   "source": [
    "# Image map mental"
   ]
  },
  {
   "cell_type": "markdown",
   "id": "a13b4370-ac9a-42ae-ae98-8104a0dfeb4b",
   "metadata": {},
   "source": [
    "**Conjunto New Features**"
   ]
  },
  {
   "cell_type": "code",
   "execution_count": 168,
   "id": "4f2fb9ca-a7f7-4056-942d-a7adb525f891",
   "metadata": {},
   "outputs": [
    {
     "data": {
      "text/html": [
       "<div>\n",
       "<style scoped>\n",
       "    .dataframe tbody tr th:only-of-type {\n",
       "        vertical-align: middle;\n",
       "    }\n",
       "\n",
       "    .dataframe tbody tr th {\n",
       "        vertical-align: top;\n",
       "    }\n",
       "\n",
       "    .dataframe thead th {\n",
       "        text-align: right;\n",
       "    }\n",
       "</style>\n",
       "<table border=\"1\" class=\"dataframe\">\n",
       "  <thead>\n",
       "    <tr style=\"text-align: right;\">\n",
       "      <th></th>\n",
       "      <th>customer_id</th>\n",
       "    </tr>\n",
       "  </thead>\n",
       "  <tbody>\n",
       "    <tr>\n",
       "      <th>0</th>\n",
       "      <td>17850.0</td>\n",
       "    </tr>\n",
       "    <tr>\n",
       "      <th>1</th>\n",
       "      <td>13047.0</td>\n",
       "    </tr>\n",
       "    <tr>\n",
       "      <th>2</th>\n",
       "      <td>12583.0</td>\n",
       "    </tr>\n",
       "    <tr>\n",
       "      <th>3</th>\n",
       "      <td>13748.0</td>\n",
       "    </tr>\n",
       "    <tr>\n",
       "      <th>4</th>\n",
       "      <td>15100.0</td>\n",
       "    </tr>\n",
       "  </tbody>\n",
       "</table>\n",
       "</div>"
      ],
      "text/plain": [
       "   customer_id\n",
       "0      17850.0\n",
       "1      13047.0\n",
       "2      12583.0\n",
       "3      13748.0\n",
       "4      15100.0"
      ]
     },
     "execution_count": 168,
     "metadata": {},
     "output_type": "execute_result"
    }
   ],
   "source": [
    "# Conjunto New Features\n",
    "# Nesse conjunto alguma alterações personalizadas ficaram disponível, pois pode conter linhas a menos do que o geral\n",
    "df_ref = df3.drop(['invoice_no', 'stock_code', 'quantity', 'invoice_date','unit_price', \n",
    "                   'country'], axis=1).drop_duplicates(ignore_index=True)\n",
    "df_ref.head()"
   ]
  },
  {
   "cell_type": "markdown",
   "id": "a770d317-d647-4e5e-93f9-9c80a722044b",
   "metadata": {},
   "source": [
    "## 4.1 Create Engineering "
   ]
  },
  {
   "cell_type": "markdown",
   "id": "5b729d8b-0b83-4fdd-bedb-58e372de212d",
   "metadata": {},
   "source": [
    "### 4.1.1 Time"
   ]
  },
  {
   "cell_type": "code",
   "execution_count": 169,
   "id": "334e9f38-c9dd-497e-b731-527934450d9e",
   "metadata": {},
   "outputs": [
    {
     "name": "stderr",
     "output_type": "stream",
     "text": [
      "/tmp/ipykernel_26412/819043007.py:5: SettingWithCopyWarning: \n",
      "A value is trying to be set on a copy of a slice from a DataFrame.\n",
      "Try using .loc[row_indexer,col_indexer] = value instead\n",
      "\n",
      "See the caveats in the documentation: https://pandas.pydata.org/pandas-docs/stable/user_guide/indexing.html#returning-a-view-versus-a-copy\n",
      "  df3['invoice_date'] = pd.to_datetime(df3['invoice_date'])\n",
      "/tmp/ipykernel_26412/819043007.py:8: SettingWithCopyWarning: \n",
      "A value is trying to be set on a copy of a slice from a DataFrame.\n",
      "Try using .loc[row_indexer,col_indexer] = value instead\n",
      "\n",
      "See the caveats in the documentation: https://pandas.pydata.org/pandas-docs/stable/user_guide/indexing.html#returning-a-view-versus-a-copy\n",
      "  df3['year'] = df3['invoice_date'].dt.year\n",
      "/tmp/ipykernel_26412/819043007.py:11: SettingWithCopyWarning: \n",
      "A value is trying to be set on a copy of a slice from a DataFrame.\n",
      "Try using .loc[row_indexer,col_indexer] = value instead\n",
      "\n",
      "See the caveats in the documentation: https://pandas.pydata.org/pandas-docs/stable/user_guide/indexing.html#returning-a-view-versus-a-copy\n",
      "  df3['year'] = df3['invoice_date'].dt.year\n",
      "/tmp/ipykernel_26412/819043007.py:14: SettingWithCopyWarning: \n",
      "A value is trying to be set on a copy of a slice from a DataFrame.\n",
      "Try using .loc[row_indexer,col_indexer] = value instead\n",
      "\n",
      "See the caveats in the documentation: https://pandas.pydata.org/pandas-docs/stable/user_guide/indexing.html#returning-a-view-versus-a-copy\n",
      "  df3['month'] = df3['invoice_date'].dt.month\n",
      "/tmp/ipykernel_26412/819043007.py:16: SettingWithCopyWarning: \n",
      "A value is trying to be set on a copy of a slice from a DataFrame.\n",
      "Try using .loc[row_indexer,col_indexer] = value instead\n",
      "\n",
      "See the caveats in the documentation: https://pandas.pydata.org/pandas-docs/stable/user_guide/indexing.html#returning-a-view-versus-a-copy\n",
      "  df3['month_sin'] = df3['month'].apply(lambda x: np.sin( x* (2. * np.pi/12) ) )\n",
      "/tmp/ipykernel_26412/819043007.py:17: SettingWithCopyWarning: \n",
      "A value is trying to be set on a copy of a slice from a DataFrame.\n",
      "Try using .loc[row_indexer,col_indexer] = value instead\n",
      "\n",
      "See the caveats in the documentation: https://pandas.pydata.org/pandas-docs/stable/user_guide/indexing.html#returning-a-view-versus-a-copy\n",
      "  df3['month_cos'] = df3['month'].apply(lambda x: np.cos( x* (2. * np.pi/12) ) )\n"
     ]
    }
   ],
   "source": [
    "#year\n",
    "\n",
    "\n",
    "# Convertendo a coluna para o formato datetime\n",
    "df3['invoice_date'] = pd.to_datetime(df3['invoice_date'])\n",
    "\n",
    "# Agora você pode usar o acessor .dt para extrair o ano\n",
    "df3['year'] = df3['invoice_date'].dt.year\n",
    "\n",
    "\n",
    "df3['year'] = df3['invoice_date'].dt.year\n",
    "\n",
    "# month\n",
    "df3['month'] = df3['invoice_date'].dt.month\n",
    "\n",
    "df3['month_sin'] = df3['month'].apply(lambda x: np.sin( x* (2. * np.pi/12) ) )\n",
    "df3['month_cos'] = df3['month'].apply(lambda x: np.cos( x* (2. * np.pi/12) ) )"
   ]
  },
  {
   "cell_type": "markdown",
   "id": "c956e88e-f98e-488b-a602-3cc701c4e506",
   "metadata": {},
   "source": [
    "### 4.1.2 Gross Revenue"
   ]
  },
  {
   "cell_type": "code",
   "execution_count": 170,
   "id": "50595701-65c8-49d7-b1bb-1123599793e3",
   "metadata": {},
   "outputs": [
    {
     "data": {
      "text/html": [
       "<div>\n",
       "<style scoped>\n",
       "    .dataframe tbody tr th:only-of-type {\n",
       "        vertical-align: middle;\n",
       "    }\n",
       "\n",
       "    .dataframe tbody tr th {\n",
       "        vertical-align: top;\n",
       "    }\n",
       "\n",
       "    .dataframe thead th {\n",
       "        text-align: right;\n",
       "    }\n",
       "</style>\n",
       "<table border=\"1\" class=\"dataframe\">\n",
       "  <thead>\n",
       "    <tr style=\"text-align: right;\">\n",
       "      <th></th>\n",
       "      <th>invoice_no</th>\n",
       "      <th>stock_code</th>\n",
       "      <th>quantity</th>\n",
       "      <th>invoice_date</th>\n",
       "      <th>unit_price</th>\n",
       "      <th>customer_id</th>\n",
       "      <th>country</th>\n",
       "      <th>year</th>\n",
       "      <th>month</th>\n",
       "      <th>month_sin</th>\n",
       "      <th>month_cos</th>\n",
       "    </tr>\n",
       "  </thead>\n",
       "  <tbody>\n",
       "    <tr>\n",
       "      <th>0</th>\n",
       "      <td>536365</td>\n",
       "      <td>85123A</td>\n",
       "      <td>6</td>\n",
       "      <td>2016-11-29</td>\n",
       "      <td>2.55</td>\n",
       "      <td>17850.0</td>\n",
       "      <td>United Kingdom</td>\n",
       "      <td>2016</td>\n",
       "      <td>11</td>\n",
       "      <td>-0.5</td>\n",
       "      <td>0.866025</td>\n",
       "    </tr>\n",
       "    <tr>\n",
       "      <th>1</th>\n",
       "      <td>536365</td>\n",
       "      <td>71053</td>\n",
       "      <td>6</td>\n",
       "      <td>2016-11-29</td>\n",
       "      <td>3.39</td>\n",
       "      <td>17850.0</td>\n",
       "      <td>United Kingdom</td>\n",
       "      <td>2016</td>\n",
       "      <td>11</td>\n",
       "      <td>-0.5</td>\n",
       "      <td>0.866025</td>\n",
       "    </tr>\n",
       "    <tr>\n",
       "      <th>2</th>\n",
       "      <td>536365</td>\n",
       "      <td>84406B</td>\n",
       "      <td>8</td>\n",
       "      <td>2016-11-29</td>\n",
       "      <td>2.75</td>\n",
       "      <td>17850.0</td>\n",
       "      <td>United Kingdom</td>\n",
       "      <td>2016</td>\n",
       "      <td>11</td>\n",
       "      <td>-0.5</td>\n",
       "      <td>0.866025</td>\n",
       "    </tr>\n",
       "    <tr>\n",
       "      <th>3</th>\n",
       "      <td>536365</td>\n",
       "      <td>84029G</td>\n",
       "      <td>6</td>\n",
       "      <td>2016-11-29</td>\n",
       "      <td>3.39</td>\n",
       "      <td>17850.0</td>\n",
       "      <td>United Kingdom</td>\n",
       "      <td>2016</td>\n",
       "      <td>11</td>\n",
       "      <td>-0.5</td>\n",
       "      <td>0.866025</td>\n",
       "    </tr>\n",
       "    <tr>\n",
       "      <th>4</th>\n",
       "      <td>536365</td>\n",
       "      <td>84029E</td>\n",
       "      <td>6</td>\n",
       "      <td>2016-11-29</td>\n",
       "      <td>3.39</td>\n",
       "      <td>17850.0</td>\n",
       "      <td>United Kingdom</td>\n",
       "      <td>2016</td>\n",
       "      <td>11</td>\n",
       "      <td>-0.5</td>\n",
       "      <td>0.866025</td>\n",
       "    </tr>\n",
       "  </tbody>\n",
       "</table>\n",
       "</div>"
      ],
      "text/plain": [
       "  invoice_no stock_code  quantity invoice_date  unit_price  customer_id  \\\n",
       "0     536365     85123A         6   2016-11-29        2.55      17850.0   \n",
       "1     536365      71053         6   2016-11-29        3.39      17850.0   \n",
       "2     536365     84406B         8   2016-11-29        2.75      17850.0   \n",
       "3     536365     84029G         6   2016-11-29        3.39      17850.0   \n",
       "4     536365     84029E         6   2016-11-29        3.39      17850.0   \n",
       "\n",
       "          country  year  month  month_sin  month_cos  \n",
       "0  United Kingdom  2016     11       -0.5   0.866025  \n",
       "1  United Kingdom  2016     11       -0.5   0.866025  \n",
       "2  United Kingdom  2016     11       -0.5   0.866025  \n",
       "3  United Kingdom  2016     11       -0.5   0.866025  \n",
       "4  United Kingdom  2016     11       -0.5   0.866025  "
      ]
     },
     "execution_count": 170,
     "metadata": {},
     "output_type": "execute_result"
    }
   ],
   "source": [
    "df3.head()"
   ]
  },
  {
   "cell_type": "code",
   "execution_count": 171,
   "id": "e9d12b0f-3573-4249-9352-1d1704c7499f",
   "metadata": {},
   "outputs": [
    {
     "data": {
      "text/html": [
       "<div>\n",
       "<style scoped>\n",
       "    .dataframe tbody tr th:only-of-type {\n",
       "        vertical-align: middle;\n",
       "    }\n",
       "\n",
       "    .dataframe tbody tr th {\n",
       "        vertical-align: top;\n",
       "    }\n",
       "\n",
       "    .dataframe thead th {\n",
       "        text-align: right;\n",
       "    }\n",
       "</style>\n",
       "<table border=\"1\" class=\"dataframe\">\n",
       "  <thead>\n",
       "    <tr style=\"text-align: right;\">\n",
       "      <th></th>\n",
       "      <th>invoice_no</th>\n",
       "      <th>stock_code</th>\n",
       "      <th>quantity</th>\n",
       "      <th>invoice_date</th>\n",
       "      <th>unit_price</th>\n",
       "      <th>customer_id</th>\n",
       "      <th>country</th>\n",
       "      <th>year</th>\n",
       "      <th>month</th>\n",
       "      <th>month_sin</th>\n",
       "      <th>month_cos</th>\n",
       "    </tr>\n",
       "  </thead>\n",
       "  <tbody>\n",
       "    <tr>\n",
       "      <th>141</th>\n",
       "      <td>C536379</td>\n",
       "      <td>D</td>\n",
       "      <td>-1</td>\n",
       "      <td>2016-11-29</td>\n",
       "      <td>27.50</td>\n",
       "      <td>14527.0</td>\n",
       "      <td>United Kingdom</td>\n",
       "      <td>2016</td>\n",
       "      <td>11</td>\n",
       "      <td>-0.5</td>\n",
       "      <td>0.866025</td>\n",
       "    </tr>\n",
       "    <tr>\n",
       "      <th>154</th>\n",
       "      <td>C536383</td>\n",
       "      <td>35004C</td>\n",
       "      <td>-1</td>\n",
       "      <td>2016-11-29</td>\n",
       "      <td>4.65</td>\n",
       "      <td>15311.0</td>\n",
       "      <td>United Kingdom</td>\n",
       "      <td>2016</td>\n",
       "      <td>11</td>\n",
       "      <td>-0.5</td>\n",
       "      <td>0.866025</td>\n",
       "    </tr>\n",
       "    <tr>\n",
       "      <th>235</th>\n",
       "      <td>C536391</td>\n",
       "      <td>22556</td>\n",
       "      <td>-12</td>\n",
       "      <td>2016-11-29</td>\n",
       "      <td>1.65</td>\n",
       "      <td>17548.0</td>\n",
       "      <td>United Kingdom</td>\n",
       "      <td>2016</td>\n",
       "      <td>11</td>\n",
       "      <td>-0.5</td>\n",
       "      <td>0.866025</td>\n",
       "    </tr>\n",
       "    <tr>\n",
       "      <th>236</th>\n",
       "      <td>C536391</td>\n",
       "      <td>21984</td>\n",
       "      <td>-24</td>\n",
       "      <td>2016-11-29</td>\n",
       "      <td>0.29</td>\n",
       "      <td>17548.0</td>\n",
       "      <td>United Kingdom</td>\n",
       "      <td>2016</td>\n",
       "      <td>11</td>\n",
       "      <td>-0.5</td>\n",
       "      <td>0.866025</td>\n",
       "    </tr>\n",
       "    <tr>\n",
       "      <th>237</th>\n",
       "      <td>C536391</td>\n",
       "      <td>21983</td>\n",
       "      <td>-24</td>\n",
       "      <td>2016-11-29</td>\n",
       "      <td>0.29</td>\n",
       "      <td>17548.0</td>\n",
       "      <td>United Kingdom</td>\n",
       "      <td>2016</td>\n",
       "      <td>11</td>\n",
       "      <td>-0.5</td>\n",
       "      <td>0.866025</td>\n",
       "    </tr>\n",
       "  </tbody>\n",
       "</table>\n",
       "</div>"
      ],
      "text/plain": [
       "    invoice_no stock_code  quantity invoice_date  unit_price  customer_id  \\\n",
       "141    C536379          D        -1   2016-11-29       27.50      14527.0   \n",
       "154    C536383     35004C        -1   2016-11-29        4.65      15311.0   \n",
       "235    C536391      22556       -12   2016-11-29        1.65      17548.0   \n",
       "236    C536391      21984       -24   2016-11-29        0.29      17548.0   \n",
       "237    C536391      21983       -24   2016-11-29        0.29      17548.0   \n",
       "\n",
       "            country  year  month  month_sin  month_cos  \n",
       "141  United Kingdom  2016     11       -0.5   0.866025  \n",
       "154  United Kingdom  2016     11       -0.5   0.866025  \n",
       "235  United Kingdom  2016     11       -0.5   0.866025  \n",
       "236  United Kingdom  2016     11       -0.5   0.866025  \n",
       "237  United Kingdom  2016     11       -0.5   0.866025  "
      ]
     },
     "execution_count": 171,
     "metadata": {},
     "output_type": "execute_result"
    }
   ],
   "source": [
    "cancelled = df3[df3['quantity'] < 0]\n",
    "cancelled.head()"
   ]
  },
  {
   "cell_type": "code",
   "execution_count": 172,
   "id": "c0183ecf-5051-4686-8c33-d17eced3a87f",
   "metadata": {},
   "outputs": [
    {
     "name": "stderr",
     "output_type": "stream",
     "text": [
      "/tmp/ipykernel_26412/2654996688.py:5: SettingWithCopyWarning: \n",
      "A value is trying to be set on a copy of a slice from a DataFrame.\n",
      "Try using .loc[row_indexer,col_indexer] = value instead\n",
      "\n",
      "See the caveats in the documentation: https://pandas.pydata.org/pandas-docs/stable/user_guide/indexing.html#returning-a-view-versus-a-copy\n",
      "  df3['gross_revenue'] = np.where(df3['quantity'] > 0, df3['quantity'] * df3['unit_price'], 0)\n"
     ]
    }
   ],
   "source": [
    "\n",
    "\n",
    "#df3['gross_revenue'] = df3['quantity'].apply(lambda x: df3.loc[:,'quantity'] * df3.loc[:,'unit_price'] if x > 0 else 0)\n",
    "# Observe que se produto retorna de algum lugar claro que tem um custo, mas não tenho informação para estimar,\n",
    "#por isso ele é zero!\n",
    "\n",
    "df3['gross_revenue'] = np.where(df3['quantity'] > 0, df3['quantity'] * df3['unit_price'], 0)\n"
   ]
  },
  {
   "cell_type": "markdown",
   "id": "49007dd4-b4fa-427e-941e-a413bd781bff",
   "metadata": {},
   "source": [
    "**Conjunto New Features**"
   ]
  },
  {
   "cell_type": "code",
   "execution_count": 173,
   "id": "e91a8fbd-c273-41a1-9ef0-09cb84b9824e",
   "metadata": {},
   "outputs": [
    {
     "data": {
      "text/html": [
       "<div>\n",
       "<style scoped>\n",
       "    .dataframe tbody tr th:only-of-type {\n",
       "        vertical-align: middle;\n",
       "    }\n",
       "\n",
       "    .dataframe tbody tr th {\n",
       "        vertical-align: top;\n",
       "    }\n",
       "\n",
       "    .dataframe thead th {\n",
       "        text-align: right;\n",
       "    }\n",
       "</style>\n",
       "<table border=\"1\" class=\"dataframe\">\n",
       "  <thead>\n",
       "    <tr style=\"text-align: right;\">\n",
       "      <th></th>\n",
       "      <th>customer_id</th>\n",
       "      <th>gross_revenue</th>\n",
       "    </tr>\n",
       "  </thead>\n",
       "  <tbody>\n",
       "    <tr>\n",
       "      <th>0</th>\n",
       "      <td>12346.0</td>\n",
       "      <td>77183.60</td>\n",
       "    </tr>\n",
       "    <tr>\n",
       "      <th>1</th>\n",
       "      <td>12347.0</td>\n",
       "      <td>4310.00</td>\n",
       "    </tr>\n",
       "    <tr>\n",
       "      <th>2</th>\n",
       "      <td>12348.0</td>\n",
       "      <td>1797.24</td>\n",
       "    </tr>\n",
       "    <tr>\n",
       "      <th>3</th>\n",
       "      <td>12349.0</td>\n",
       "      <td>1757.55</td>\n",
       "    </tr>\n",
       "    <tr>\n",
       "      <th>4</th>\n",
       "      <td>12350.0</td>\n",
       "      <td>334.40</td>\n",
       "    </tr>\n",
       "    <tr>\n",
       "      <th>...</th>\n",
       "      <td>...</td>\n",
       "      <td>...</td>\n",
       "    </tr>\n",
       "    <tr>\n",
       "      <th>4334</th>\n",
       "      <td>18280.0</td>\n",
       "      <td>180.60</td>\n",
       "    </tr>\n",
       "    <tr>\n",
       "      <th>4335</th>\n",
       "      <td>18281.0</td>\n",
       "      <td>80.82</td>\n",
       "    </tr>\n",
       "    <tr>\n",
       "      <th>4336</th>\n",
       "      <td>18282.0</td>\n",
       "      <td>178.05</td>\n",
       "    </tr>\n",
       "    <tr>\n",
       "      <th>4337</th>\n",
       "      <td>18283.0</td>\n",
       "      <td>2094.88</td>\n",
       "    </tr>\n",
       "    <tr>\n",
       "      <th>4338</th>\n",
       "      <td>18287.0</td>\n",
       "      <td>1837.28</td>\n",
       "    </tr>\n",
       "  </tbody>\n",
       "</table>\n",
       "<p>4339 rows × 2 columns</p>\n",
       "</div>"
      ],
      "text/plain": [
       "      customer_id  gross_revenue\n",
       "0         12346.0       77183.60\n",
       "1         12347.0        4310.00\n",
       "2         12348.0        1797.24\n",
       "3         12349.0        1757.55\n",
       "4         12350.0         334.40\n",
       "...           ...            ...\n",
       "4334      18280.0         180.60\n",
       "4335      18281.0          80.82\n",
       "4336      18282.0         178.05\n",
       "4337      18283.0        2094.88\n",
       "4338      18287.0        1837.28\n",
       "\n",
       "[4339 rows x 2 columns]"
      ]
     },
     "execution_count": 173,
     "metadata": {},
     "output_type": "execute_result"
    }
   ],
   "source": [
    "# Cojunto New Features\n",
    "purchases = df3[df3['quantity'] > 0]\n",
    "#Monetary\n",
    "df_monetary = purchases.loc[:, ['customer_id', 'gross_revenue']].groupby('customer_id').sum().reset_index()\n",
    "df_monetary "
   ]
  },
  {
   "cell_type": "code",
   "execution_count": 174,
   "id": "63faac64-8516-4df9-aa78-3c2026420a04",
   "metadata": {},
   "outputs": [
    {
     "data": {
      "text/html": [
       "<div>\n",
       "<style scoped>\n",
       "    .dataframe tbody tr th:only-of-type {\n",
       "        vertical-align: middle;\n",
       "    }\n",
       "\n",
       "    .dataframe tbody tr th {\n",
       "        vertical-align: top;\n",
       "    }\n",
       "\n",
       "    .dataframe thead th {\n",
       "        text-align: right;\n",
       "    }\n",
       "</style>\n",
       "<table border=\"1\" class=\"dataframe\">\n",
       "  <thead>\n",
       "    <tr style=\"text-align: right;\">\n",
       "      <th></th>\n",
       "      <th>customer_id</th>\n",
       "      <th>gross_revenue</th>\n",
       "    </tr>\n",
       "  </thead>\n",
       "  <tbody>\n",
       "    <tr>\n",
       "      <th>0</th>\n",
       "      <td>17850.0</td>\n",
       "      <td>5391.21</td>\n",
       "    </tr>\n",
       "    <tr>\n",
       "      <th>1</th>\n",
       "      <td>13047.0</td>\n",
       "      <td>3237.54</td>\n",
       "    </tr>\n",
       "    <tr>\n",
       "      <th>2</th>\n",
       "      <td>12583.0</td>\n",
       "      <td>7281.38</td>\n",
       "    </tr>\n",
       "    <tr>\n",
       "      <th>3</th>\n",
       "      <td>13748.0</td>\n",
       "      <td>948.25</td>\n",
       "    </tr>\n",
       "    <tr>\n",
       "      <th>4</th>\n",
       "      <td>15100.0</td>\n",
       "      <td>876.00</td>\n",
       "    </tr>\n",
       "    <tr>\n",
       "      <th>...</th>\n",
       "      <td>...</td>\n",
       "      <td>...</td>\n",
       "    </tr>\n",
       "    <tr>\n",
       "      <th>4367</th>\n",
       "      <td>13436.0</td>\n",
       "      <td>196.89</td>\n",
       "    </tr>\n",
       "    <tr>\n",
       "      <th>4368</th>\n",
       "      <td>15520.0</td>\n",
       "      <td>343.50</td>\n",
       "    </tr>\n",
       "    <tr>\n",
       "      <th>4369</th>\n",
       "      <td>13298.0</td>\n",
       "      <td>360.00</td>\n",
       "    </tr>\n",
       "    <tr>\n",
       "      <th>4370</th>\n",
       "      <td>14569.0</td>\n",
       "      <td>227.39</td>\n",
       "    </tr>\n",
       "    <tr>\n",
       "      <th>4371</th>\n",
       "      <td>12713.0</td>\n",
       "      <td>848.55</td>\n",
       "    </tr>\n",
       "  </tbody>\n",
       "</table>\n",
       "<p>4372 rows × 2 columns</p>\n",
       "</div>"
      ],
      "text/plain": [
       "      customer_id  gross_revenue\n",
       "0         17850.0        5391.21\n",
       "1         13047.0        3237.54\n",
       "2         12583.0        7281.38\n",
       "3         13748.0         948.25\n",
       "4         15100.0         876.00\n",
       "...           ...            ...\n",
       "4367      13436.0         196.89\n",
       "4368      15520.0         343.50\n",
       "4369      13298.0         360.00\n",
       "4370      14569.0         227.39\n",
       "4371      12713.0         848.55\n",
       "\n",
       "[4372 rows x 2 columns]"
      ]
     },
     "execution_count": 174,
     "metadata": {},
     "output_type": "execute_result"
    }
   ],
   "source": [
    "df_ref = pd.merge(df_ref, df_monetary, on='customer_id', how='left')\n",
    "df_ref"
   ]
  },
  {
   "cell_type": "markdown",
   "id": "ed00ffdb-8578-4921-a871-06bcf76e0ab3",
   "metadata": {},
   "source": [
    "### 4.1.3 Returned"
   ]
  },
  {
   "cell_type": "code",
   "execution_count": 175,
   "id": "3fb73e1c-b274-46f3-907b-d8b1eef349e2",
   "metadata": {},
   "outputs": [
    {
     "name": "stderr",
     "output_type": "stream",
     "text": [
      "/tmp/ipykernel_26412/471871448.py:1: SettingWithCopyWarning: \n",
      "A value is trying to be set on a copy of a slice from a DataFrame.\n",
      "Try using .loc[row_indexer,col_indexer] = value instead\n",
      "\n",
      "See the caveats in the documentation: https://pandas.pydata.org/pandas-docs/stable/user_guide/indexing.html#returning-a-view-versus-a-copy\n",
      "  df3['returned'] = np.where(df3['quantity'] < 0, 1, 0)\n"
     ]
    }
   ],
   "source": [
    "df3['returned'] = np.where(df3['quantity'] < 0, 1, 0)"
   ]
  },
  {
   "cell_type": "code",
   "execution_count": 176,
   "id": "9172ec9e-4ce2-4cde-b615-d56c80159a5b",
   "metadata": {},
   "outputs": [
    {
     "data": {
      "text/html": [
       "<div>\n",
       "<style scoped>\n",
       "    .dataframe tbody tr th:only-of-type {\n",
       "        vertical-align: middle;\n",
       "    }\n",
       "\n",
       "    .dataframe tbody tr th {\n",
       "        vertical-align: top;\n",
       "    }\n",
       "\n",
       "    .dataframe thead th {\n",
       "        text-align: right;\n",
       "    }\n",
       "</style>\n",
       "<table border=\"1\" class=\"dataframe\">\n",
       "  <thead>\n",
       "    <tr style=\"text-align: right;\">\n",
       "      <th></th>\n",
       "      <th>invoice_no</th>\n",
       "      <th>stock_code</th>\n",
       "      <th>quantity</th>\n",
       "      <th>invoice_date</th>\n",
       "      <th>unit_price</th>\n",
       "      <th>customer_id</th>\n",
       "      <th>country</th>\n",
       "      <th>year</th>\n",
       "      <th>month</th>\n",
       "      <th>month_sin</th>\n",
       "      <th>month_cos</th>\n",
       "      <th>gross_revenue</th>\n",
       "      <th>returned</th>\n",
       "    </tr>\n",
       "  </thead>\n",
       "  <tbody>\n",
       "    <tr>\n",
       "      <th>0</th>\n",
       "      <td>536365</td>\n",
       "      <td>85123A</td>\n",
       "      <td>6</td>\n",
       "      <td>2016-11-29</td>\n",
       "      <td>2.55</td>\n",
       "      <td>17850.0</td>\n",
       "      <td>United Kingdom</td>\n",
       "      <td>2016</td>\n",
       "      <td>11</td>\n",
       "      <td>-0.5</td>\n",
       "      <td>0.866025</td>\n",
       "      <td>15.30</td>\n",
       "      <td>0</td>\n",
       "    </tr>\n",
       "    <tr>\n",
       "      <th>1</th>\n",
       "      <td>536365</td>\n",
       "      <td>71053</td>\n",
       "      <td>6</td>\n",
       "      <td>2016-11-29</td>\n",
       "      <td>3.39</td>\n",
       "      <td>17850.0</td>\n",
       "      <td>United Kingdom</td>\n",
       "      <td>2016</td>\n",
       "      <td>11</td>\n",
       "      <td>-0.5</td>\n",
       "      <td>0.866025</td>\n",
       "      <td>20.34</td>\n",
       "      <td>0</td>\n",
       "    </tr>\n",
       "    <tr>\n",
       "      <th>2</th>\n",
       "      <td>536365</td>\n",
       "      <td>84406B</td>\n",
       "      <td>8</td>\n",
       "      <td>2016-11-29</td>\n",
       "      <td>2.75</td>\n",
       "      <td>17850.0</td>\n",
       "      <td>United Kingdom</td>\n",
       "      <td>2016</td>\n",
       "      <td>11</td>\n",
       "      <td>-0.5</td>\n",
       "      <td>0.866025</td>\n",
       "      <td>22.00</td>\n",
       "      <td>0</td>\n",
       "    </tr>\n",
       "    <tr>\n",
       "      <th>3</th>\n",
       "      <td>536365</td>\n",
       "      <td>84029G</td>\n",
       "      <td>6</td>\n",
       "      <td>2016-11-29</td>\n",
       "      <td>3.39</td>\n",
       "      <td>17850.0</td>\n",
       "      <td>United Kingdom</td>\n",
       "      <td>2016</td>\n",
       "      <td>11</td>\n",
       "      <td>-0.5</td>\n",
       "      <td>0.866025</td>\n",
       "      <td>20.34</td>\n",
       "      <td>0</td>\n",
       "    </tr>\n",
       "    <tr>\n",
       "      <th>4</th>\n",
       "      <td>536365</td>\n",
       "      <td>84029E</td>\n",
       "      <td>6</td>\n",
       "      <td>2016-11-29</td>\n",
       "      <td>3.39</td>\n",
       "      <td>17850.0</td>\n",
       "      <td>United Kingdom</td>\n",
       "      <td>2016</td>\n",
       "      <td>11</td>\n",
       "      <td>-0.5</td>\n",
       "      <td>0.866025</td>\n",
       "      <td>20.34</td>\n",
       "      <td>0</td>\n",
       "    </tr>\n",
       "  </tbody>\n",
       "</table>\n",
       "</div>"
      ],
      "text/plain": [
       "  invoice_no stock_code  quantity invoice_date  unit_price  customer_id  \\\n",
       "0     536365     85123A         6   2016-11-29        2.55      17850.0   \n",
       "1     536365      71053         6   2016-11-29        3.39      17850.0   \n",
       "2     536365     84406B         8   2016-11-29        2.75      17850.0   \n",
       "3     536365     84029G         6   2016-11-29        3.39      17850.0   \n",
       "4     536365     84029E         6   2016-11-29        3.39      17850.0   \n",
       "\n",
       "          country  year  month  month_sin  month_cos  gross_revenue  returned  \n",
       "0  United Kingdom  2016     11       -0.5   0.866025          15.30         0  \n",
       "1  United Kingdom  2016     11       -0.5   0.866025          20.34         0  \n",
       "2  United Kingdom  2016     11       -0.5   0.866025          22.00         0  \n",
       "3  United Kingdom  2016     11       -0.5   0.866025          20.34         0  \n",
       "4  United Kingdom  2016     11       -0.5   0.866025          20.34         0  "
      ]
     },
     "execution_count": 176,
     "metadata": {},
     "output_type": "execute_result"
    }
   ],
   "source": [
    "df3.head()"
   ]
  },
  {
   "cell_type": "markdown",
   "id": "aeb3a4d3-210e-4430-8b95-9211e7379863",
   "metadata": {},
   "source": [
    "### 4.1.4 Recency - Days from last purchase"
   ]
  },
  {
   "cell_type": "code",
   "execution_count": null,
   "id": "3daccf65-3c9b-4fa0-a564-30726392632e",
   "metadata": {},
   "outputs": [],
   "source": [
    " df3.invoice_date.max()"
   ]
  },
  {
   "cell_type": "markdown",
   "id": "6ecf37d9-ce62-4ae4-8fb4-519db0ec74ad",
   "metadata": {},
   "source": [
    "#O calculo será feito com referência a linha temporal dentro do dataset \n",
    " Para calcular a diferença em dias entre uma data em seu conjunto de dados e a data atual, você pode seguir estes passos:\n",
    "\n",
    "\n",
    "import pandas as pd\n",
    "from datetime import datetime\n",
    "\n",
    "#Defina a data presente\n",
    "data_atual = pd.Timestamp.now()\n",
    "\n",
    "#Data do conjunto de dados\n",
    "data_do_dataset = pd.Timestamp('2017-12-07 00:00:00')\n",
    "\n",
    "#Calcular a diferença em dias\n",
    "diferenca_em_dias = (data_atual - data_do_dataset).days\n",
    "\n",
    "print(f'A diferença em dias entre {data_do_dataset} e a data de hoje é de {diferenca_em_dias} dias.')\n",
    "\n",
    "\n"
   ]
  },
  {
   "cell_type": "code",
   "execution_count": 182,
   "id": "7cdf1879-6c0f-4c2e-9b01-7e55846ea31d",
   "metadata": {},
   "outputs": [
    {
     "name": "stderr",
     "output_type": "stream",
     "text": [
      "/tmp/ipykernel_26412/2077048300.py:1: SettingWithCopyWarning: \n",
      "A value is trying to be set on a copy of a slice from a DataFrame.\n",
      "Try using .loc[row_indexer,col_indexer] = value instead\n",
      "\n",
      "See the caveats in the documentation: https://pandas.pydata.org/pandas-docs/stable/user_guide/indexing.html#returning-a-view-versus-a-copy\n",
      "  df3['recency_days'] = (df3.invoice_date.max()- df3.invoice_date).dt.days\n"
     ]
    }
   ],
   "source": [
    "df3['recency_days'] = (df3.invoice_date.max()- df3.invoice_date).dt.days\n"
   ]
  },
  {
   "cell_type": "markdown",
   "id": "1ef66168-5453-4d01-b81b-1e2fb6a50e0b",
   "metadata": {},
   "source": [
    "**Conjunto New Features**"
   ]
  },
  {
   "cell_type": "code",
   "execution_count": null,
   "id": "ac5fb971-2fcd-4588-9479-5c708cf34222",
   "metadata": {},
   "outputs": [],
   "source": [
    "# Conjunto New Features\n",
    "filtro =  df3[df3['quantity'] > 0]\n",
    "df_recency = filtro.loc[:,['customer_id', 'invoice_date']].groupby('customer_id').max().reset_index() # pegando a maior data de cada cliente, que também em linha temporal é \n",
    "# mais recente\n",
    "df_recency['recency_days'] =  (df3.invoice_date.max() - df_recency.invoice_date).dt.days\n",
    "df_recency"
   ]
  },
  {
   "cell_type": "code",
   "execution_count": 183,
   "id": "602f5042-08e0-4443-aaf8-84b8de008850",
   "metadata": {},
   "outputs": [
    {
     "data": {
      "text/html": [
       "<div>\n",
       "<style scoped>\n",
       "    .dataframe tbody tr th:only-of-type {\n",
       "        vertical-align: middle;\n",
       "    }\n",
       "\n",
       "    .dataframe tbody tr th {\n",
       "        vertical-align: top;\n",
       "    }\n",
       "\n",
       "    .dataframe thead th {\n",
       "        text-align: right;\n",
       "    }\n",
       "</style>\n",
       "<table border=\"1\" class=\"dataframe\">\n",
       "  <thead>\n",
       "    <tr style=\"text-align: right;\">\n",
       "      <th></th>\n",
       "      <th>customer_id</th>\n",
       "      <th>gross_revenue</th>\n",
       "      <th>recency_days</th>\n",
       "    </tr>\n",
       "  </thead>\n",
       "  <tbody>\n",
       "    <tr>\n",
       "      <th>0</th>\n",
       "      <td>17850.0</td>\n",
       "      <td>5391.21</td>\n",
       "      <td>372.0</td>\n",
       "    </tr>\n",
       "    <tr>\n",
       "      <th>1</th>\n",
       "      <td>13047.0</td>\n",
       "      <td>3237.54</td>\n",
       "      <td>31.0</td>\n",
       "    </tr>\n",
       "    <tr>\n",
       "      <th>2</th>\n",
       "      <td>12583.0</td>\n",
       "      <td>7281.38</td>\n",
       "      <td>2.0</td>\n",
       "    </tr>\n",
       "    <tr>\n",
       "      <th>3</th>\n",
       "      <td>13748.0</td>\n",
       "      <td>948.25</td>\n",
       "      <td>95.0</td>\n",
       "    </tr>\n",
       "    <tr>\n",
       "      <th>4</th>\n",
       "      <td>15100.0</td>\n",
       "      <td>876.00</td>\n",
       "      <td>333.0</td>\n",
       "    </tr>\n",
       "    <tr>\n",
       "      <th>...</th>\n",
       "      <td>...</td>\n",
       "      <td>...</td>\n",
       "      <td>...</td>\n",
       "    </tr>\n",
       "    <tr>\n",
       "      <th>4367</th>\n",
       "      <td>13436.0</td>\n",
       "      <td>196.89</td>\n",
       "      <td>1.0</td>\n",
       "    </tr>\n",
       "    <tr>\n",
       "      <th>4368</th>\n",
       "      <td>15520.0</td>\n",
       "      <td>343.50</td>\n",
       "      <td>1.0</td>\n",
       "    </tr>\n",
       "    <tr>\n",
       "      <th>4369</th>\n",
       "      <td>13298.0</td>\n",
       "      <td>360.00</td>\n",
       "      <td>1.0</td>\n",
       "    </tr>\n",
       "    <tr>\n",
       "      <th>4370</th>\n",
       "      <td>14569.0</td>\n",
       "      <td>227.39</td>\n",
       "      <td>1.0</td>\n",
       "    </tr>\n",
       "    <tr>\n",
       "      <th>4371</th>\n",
       "      <td>12713.0</td>\n",
       "      <td>848.55</td>\n",
       "      <td>0.0</td>\n",
       "    </tr>\n",
       "  </tbody>\n",
       "</table>\n",
       "<p>4372 rows × 3 columns</p>\n",
       "</div>"
      ],
      "text/plain": [
       "      customer_id  gross_revenue  recency_days\n",
       "0         17850.0        5391.21         372.0\n",
       "1         13047.0        3237.54          31.0\n",
       "2         12583.0        7281.38           2.0\n",
       "3         13748.0         948.25          95.0\n",
       "4         15100.0         876.00         333.0\n",
       "...           ...            ...           ...\n",
       "4367      13436.0         196.89           1.0\n",
       "4368      15520.0         343.50           1.0\n",
       "4369      13298.0         360.00           1.0\n",
       "4370      14569.0         227.39           1.0\n",
       "4371      12713.0         848.55           0.0\n",
       "\n",
       "[4372 rows x 3 columns]"
      ]
     },
     "execution_count": 183,
     "metadata": {},
     "output_type": "execute_result"
    }
   ],
   "source": [
    "df_recency = df_recency[['customer_id', 'recency_days']].copy()\n",
    "df_ref = pd.merge(df_ref, df_recency, on='customer_id', how='left')\n",
    "df_ref"
   ]
  },
  {
   "cell_type": "markdown",
   "id": "06d21ff3-1e12-486d-a152-4040780ddc5f",
   "metadata": {},
   "source": [
    "### 4.1.5 Quantity purchased "
   ]
  },
  {
   "cell_type": "code",
   "execution_count": 191,
   "id": "2e8488bb-2017-40f8-b7ee-f0bb4cca12c6",
   "metadata": {},
   "outputs": [
    {
     "data": {
      "text/plain": [
       "(406829, 14)"
      ]
     },
     "execution_count": 191,
     "metadata": {},
     "output_type": "execute_result"
    }
   ],
   "source": [
    "df3.shape"
   ]
  },
  {
   "cell_type": "code",
   "execution_count": 201,
   "id": "37aadcb9-d01b-47f6-8143-534a44d02fd8",
   "metadata": {},
   "outputs": [
    {
     "data": {
      "text/html": [
       "<div>\n",
       "<style scoped>\n",
       "    .dataframe tbody tr th:only-of-type {\n",
       "        vertical-align: middle;\n",
       "    }\n",
       "\n",
       "    .dataframe tbody tr th {\n",
       "        vertical-align: top;\n",
       "    }\n",
       "\n",
       "    .dataframe thead th {\n",
       "        text-align: right;\n",
       "    }\n",
       "</style>\n",
       "<table border=\"1\" class=\"dataframe\">\n",
       "  <thead>\n",
       "    <tr style=\"text-align: right;\">\n",
       "      <th></th>\n",
       "      <th>customer_id</th>\n",
       "      <th>invoice_no</th>\n",
       "    </tr>\n",
       "  </thead>\n",
       "  <tbody>\n",
       "    <tr>\n",
       "      <th>0</th>\n",
       "      <td>12346.0</td>\n",
       "      <td>2</td>\n",
       "    </tr>\n",
       "    <tr>\n",
       "      <th>1</th>\n",
       "      <td>12347.0</td>\n",
       "      <td>7</td>\n",
       "    </tr>\n",
       "    <tr>\n",
       "      <th>2</th>\n",
       "      <td>12348.0</td>\n",
       "      <td>4</td>\n",
       "    </tr>\n",
       "    <tr>\n",
       "      <th>3</th>\n",
       "      <td>12349.0</td>\n",
       "      <td>1</td>\n",
       "    </tr>\n",
       "    <tr>\n",
       "      <th>4</th>\n",
       "      <td>12350.0</td>\n",
       "      <td>1</td>\n",
       "    </tr>\n",
       "  </tbody>\n",
       "</table>\n",
       "</div>"
      ],
      "text/plain": [
       "   customer_id  invoice_no\n",
       "0      12346.0           2\n",
       "1      12347.0           7\n",
       "2      12348.0           4\n",
       "3      12349.0           1\n",
       "4      12350.0           1"
      ]
     },
     "execution_count": 201,
     "metadata": {},
     "output_type": "execute_result"
    }
   ],
   "source": [
    "aux = df3\n",
    "aux = df3.loc[:, ['customer_id', 'invoice_no']].drop_duplicates().groupby('customer_id').count().reset_index()\n",
    "aux.head()"
   ]
  },
  {
   "cell_type": "code",
   "execution_count": null,
   "id": "017103dd-152b-4df1-8788-f0bc5fe402cb",
   "metadata": {},
   "outputs": [],
   "source": [
    "test = df3\n",
    "test['n_invoice'] = test[''].apply(map(,))"
   ]
  },
  {
   "cell_type": "code",
   "execution_count": 188,
   "id": "79432306-0393-4c7e-8b9a-d45e611d6833",
   "metadata": {},
   "outputs": [
    {
     "data": {
      "text/html": [
       "<div>\n",
       "<style scoped>\n",
       "    .dataframe tbody tr th:only-of-type {\n",
       "        vertical-align: middle;\n",
       "    }\n",
       "\n",
       "    .dataframe tbody tr th {\n",
       "        vertical-align: top;\n",
       "    }\n",
       "\n",
       "    .dataframe thead th {\n",
       "        text-align: right;\n",
       "    }\n",
       "</style>\n",
       "<table border=\"1\" class=\"dataframe\">\n",
       "  <thead>\n",
       "    <tr style=\"text-align: right;\">\n",
       "      <th></th>\n",
       "      <th>customer_id</th>\n",
       "      <th>gross_revenue</th>\n",
       "      <th>recency_days</th>\n",
       "      <th>qtde_invoices_x</th>\n",
       "      <th>qtde_invoices_y</th>\n",
       "    </tr>\n",
       "  </thead>\n",
       "  <tbody>\n",
       "    <tr>\n",
       "      <th>0</th>\n",
       "      <td>17850.0</td>\n",
       "      <td>5391.21</td>\n",
       "      <td>372.0</td>\n",
       "      <td>34.0</td>\n",
       "      <td>34.0</td>\n",
       "    </tr>\n",
       "    <tr>\n",
       "      <th>1</th>\n",
       "      <td>13047.0</td>\n",
       "      <td>3237.54</td>\n",
       "      <td>31.0</td>\n",
       "      <td>10.0</td>\n",
       "      <td>10.0</td>\n",
       "    </tr>\n",
       "    <tr>\n",
       "      <th>2</th>\n",
       "      <td>12583.0</td>\n",
       "      <td>7281.38</td>\n",
       "      <td>2.0</td>\n",
       "      <td>15.0</td>\n",
       "      <td>15.0</td>\n",
       "    </tr>\n",
       "    <tr>\n",
       "      <th>3</th>\n",
       "      <td>13748.0</td>\n",
       "      <td>948.25</td>\n",
       "      <td>95.0</td>\n",
       "      <td>5.0</td>\n",
       "      <td>5.0</td>\n",
       "    </tr>\n",
       "    <tr>\n",
       "      <th>4</th>\n",
       "      <td>15100.0</td>\n",
       "      <td>876.00</td>\n",
       "      <td>333.0</td>\n",
       "      <td>3.0</td>\n",
       "      <td>3.0</td>\n",
       "    </tr>\n",
       "    <tr>\n",
       "      <th>...</th>\n",
       "      <td>...</td>\n",
       "      <td>...</td>\n",
       "      <td>...</td>\n",
       "      <td>...</td>\n",
       "      <td>...</td>\n",
       "    </tr>\n",
       "    <tr>\n",
       "      <th>4367</th>\n",
       "      <td>13436.0</td>\n",
       "      <td>196.89</td>\n",
       "      <td>1.0</td>\n",
       "      <td>1.0</td>\n",
       "      <td>1.0</td>\n",
       "    </tr>\n",
       "    <tr>\n",
       "      <th>4368</th>\n",
       "      <td>15520.0</td>\n",
       "      <td>343.50</td>\n",
       "      <td>1.0</td>\n",
       "      <td>1.0</td>\n",
       "      <td>1.0</td>\n",
       "    </tr>\n",
       "    <tr>\n",
       "      <th>4369</th>\n",
       "      <td>13298.0</td>\n",
       "      <td>360.00</td>\n",
       "      <td>1.0</td>\n",
       "      <td>1.0</td>\n",
       "      <td>1.0</td>\n",
       "    </tr>\n",
       "    <tr>\n",
       "      <th>4370</th>\n",
       "      <td>14569.0</td>\n",
       "      <td>227.39</td>\n",
       "      <td>1.0</td>\n",
       "      <td>1.0</td>\n",
       "      <td>1.0</td>\n",
       "    </tr>\n",
       "    <tr>\n",
       "      <th>4371</th>\n",
       "      <td>12713.0</td>\n",
       "      <td>848.55</td>\n",
       "      <td>0.0</td>\n",
       "      <td>1.0</td>\n",
       "      <td>1.0</td>\n",
       "    </tr>\n",
       "  </tbody>\n",
       "</table>\n",
       "<p>4372 rows × 5 columns</p>\n",
       "</div>"
      ],
      "text/plain": [
       "      customer_id  gross_revenue  recency_days  qtde_invoices_x  \\\n",
       "0         17850.0        5391.21         372.0             34.0   \n",
       "1         13047.0        3237.54          31.0             10.0   \n",
       "2         12583.0        7281.38           2.0             15.0   \n",
       "3         13748.0         948.25          95.0              5.0   \n",
       "4         15100.0         876.00         333.0              3.0   \n",
       "...           ...            ...           ...              ...   \n",
       "4367      13436.0         196.89           1.0              1.0   \n",
       "4368      15520.0         343.50           1.0              1.0   \n",
       "4369      13298.0         360.00           1.0              1.0   \n",
       "4370      14569.0         227.39           1.0              1.0   \n",
       "4371      12713.0         848.55           0.0              1.0   \n",
       "\n",
       "      qtde_invoices_y  \n",
       "0                34.0  \n",
       "1                10.0  \n",
       "2                15.0  \n",
       "3                 5.0  \n",
       "4                 3.0  \n",
       "...               ...  \n",
       "4367              1.0  \n",
       "4368              1.0  \n",
       "4369              1.0  \n",
       "4370              1.0  \n",
       "4371              1.0  \n",
       "\n",
       "[4372 rows x 5 columns]"
      ]
     },
     "execution_count": 188,
     "metadata": {},
     "output_type": "execute_result"
    }
   ],
   "source": [
    "# Quantidade de vezes que o cliente realizou a compra\n",
    "df_freq = filtro.loc[:, ['customer_id', 'invoice_no']].drop_duplicates().groupby('customer_id').count().reset_index().rename(columns = { 'invoice_no': 'qtde_invoices'})\n",
    "df_ref = pd.merge( df_ref, df_freq, on = 'customer_id', how = 'left')\n",
    "df_ref"
   ]
  },
  {
   "cell_type": "code",
   "execution_count": 186,
   "id": "94bd352f-ff19-4044-b7c9-cf9edae855f9",
   "metadata": {},
   "outputs": [],
   "source": [
    "df_freq = filtro.loc[:, ['customer_id', 'invoice_no']].drop_duplicates().groupby('customer_id').count().reset_index().rename(columns={'invoice_no':'qtde_invoices'})\n",
    "df_ref = pd.merge(df_ref, df_freq, on='customer_id', how='left')"
   ]
  },
  {
   "cell_type": "markdown",
   "id": "dedc3e06-de46-49eb-bf2b-f5c617b09a84",
   "metadata": {},
   "source": [
    "# 5.0 Exploratory Data Analysis"
   ]
  },
  {
   "cell_type": "code",
   "execution_count": null,
   "id": "a3f46953-7414-49f0-b807-b65065696ccc",
   "metadata": {},
   "outputs": [],
   "source": [
    "df4 = df3"
   ]
  },
  {
   "cell_type": "code",
   "execution_count": null,
   "id": "f4a5cbd2-1ceb-4caa-878b-c27d0f751b7e",
   "metadata": {},
   "outputs": [],
   "source": [
    "# Image map mental"
   ]
  },
  {
   "cell_type": "markdown",
   "id": "ac587120-085f-4588-9af6-f0bdbf31fac5",
   "metadata": {},
   "source": [
    "## 5.1 Creating of hypotheses"
   ]
  },
  {
   "cell_type": "markdown",
   "id": "357bcdf5-aa88-4f76-9dc0-d805042e0a10",
   "metadata": {},
   "source": [
    "Embora a validação de hipóteses seja feito em Analise exploratória de dados, realizada aqui para aumentar familiariadade com dados "
   ]
  },
  {
   "cell_type": "markdown",
   "id": "60433214-b0b7-4d55-8708-b41a2ce49075",
   "metadata": {},
   "source": [
    "### H1 - O país sede de origem do site é o que mais vende!\n",
    "\n",
    "**TRUE**"
   ]
  },
  {
   "cell_type": "code",
   "execution_count": null,
   "id": "d8058ae4-ba04-4e0b-b362-97d27c07a8c7",
   "metadata": {},
   "outputs": [],
   "source": [
    "aux = df4.loc[:,['country', 'quantity']].groupby('country').sum().sort_values('quantity', ascending = False)\n"
   ]
  },
  {
   "cell_type": "code",
   "execution_count": null,
   "id": "82be7f9b-51c6-427f-ac0e-5940c25d07d8",
   "metadata": {},
   "outputs": [],
   "source": [
    "aux = df4.loc[:,['country', 'quantity']].groupby('country').sum().sort_values('quantity', ascending = False)\n",
    "sns.barplot(x = 'country', y = 'quantity', data = aux)\n",
    "\n",
    "plt.xticks( rotation = 90)\n",
    "\n",
    "plt.show()"
   ]
  },
  {
   "cell_type": "code",
   "execution_count": null,
   "id": "a6c73e28-f7d6-4259-b2a7-ae5e27fcf5ae",
   "metadata": {},
   "outputs": [],
   "source": [
    "df4[['customer_id', 'country']].drop_duplicates().groupby('country').count().sort_values('customer_id',ascending = False )"
   ]
  },
  {
   "cell_type": "code",
   "execution_count": null,
   "id": "878a5aa2-f112-463a-9e19-36e3e160cb76",
   "metadata": {},
   "outputs": [],
   "source": [
    "# Em porcentagem\n",
    "df4['country'].value_counts(normalize = True).head()"
   ]
  },
  {
   "cell_type": "markdown",
   "id": "e836c19d-997e-4593-b4ed-475a11e049b3",
   "metadata": {},
   "source": [
    "### H2 - Qual produto que mais vende"
   ]
  },
  {
   "cell_type": "code",
   "execution_count": null,
   "id": "e3fea099-9699-42b1-9fa0-66f9db0dfde9",
   "metadata": {},
   "outputs": [],
   "source": [
    "aux = df4.loc[df4['quantity']>= 0]\n",
    "aux = aux.loc[:, ['stock_code', 'quantity']].groupby('stock_code').sum().sort_values('quantity', ascending = False)\n",
    "aux"
   ]
  },
  {
   "cell_type": "markdown",
   "id": "37186d12-75cc-4d03-b4fb-84ed4403a862",
   "metadata": {},
   "source": [
    "| Produto     | Description|    \n",
    "|--------------|-----------|\n",
    "|23843\t|PAPER CRAFT , LITTLE BIRDIE|\n",
    "|23166\t|MEDIUM CERAMIC TOP STORAGE JAR|\n",
    "|84077\t|WORLD WAR 2 GLIDERS ASSTD DESIGNS|\n",
    "|22197\t|SMALL POPCORN HOLDER|\t\n",
    "|85099B\t|JUMBO BAG RED RETROSPOT|\n"
   ]
  },
  {
   "cell_type": "markdown",
   "id": "307f4563-d94f-4efe-ace7-35bf65bbbc86",
   "metadata": {},
   "source": [
    "### H3 - De qual país é o cliente que mais compra\n",
    "\n",
    "**o Cliente que mais compra é da United Kingdom**"
   ]
  },
  {
   "cell_type": "code",
   "execution_count": null,
   "id": "3569558e-8b4c-41da-b578-214bcbbef06a",
   "metadata": {},
   "outputs": [],
   "source": [
    "df4.head()"
   ]
  },
  {
   "cell_type": "code",
   "execution_count": null,
   "id": "10941dc4-7a50-49f8-bdf3-8d04d629d3b3",
   "metadata": {},
   "outputs": [],
   "source": [
    "aux = df4.loc[:,['country', 'customer_id', 'quantity']].groupby(['country', 'customer_id']).count().sort_values('quantity', ascending = False)\n",
    "aux"
   ]
  },
  {
   "cell_type": "markdown",
   "id": "12080c20-69ca-4071-9b99-9865cc9f8ba9",
   "metadata": {},
   "source": [
    "### H4 - Qual o periodo do ano que mais vende ?\n",
    "\n",
    "Do mễs de outubro ao dezembro"
   ]
  },
  {
   "cell_type": "code",
   "execution_count": null,
   "id": "b2f1f4a7-281c-4519-a1f8-6486d63f2305",
   "metadata": {},
   "outputs": [],
   "source": [
    "df4.head()"
   ]
  },
  {
   "cell_type": "code",
   "execution_count": null,
   "id": "14e575b1-e033-4b72-99de-a42ce582c2fb",
   "metadata": {},
   "outputs": [],
   "source": [
    "\n",
    "\n",
    "# Converta a coluna 'Timestamp' para o formato datetime\n",
    "df4['invoice_date'] = pd.to_datetime(df4['invoice_date'])\n",
    "\n",
    "# Crie um filtro para selecionar os valores antes de 2017\n",
    "filtro = df4[df4['invoice_date'].dt.year < 2017]\n",
    "filtro"
   ]
  },
  {
   "cell_type": "code",
   "execution_count": null,
   "id": "d89a99a2-ac29-4924-8e55-da05d24e02e9",
   "metadata": {},
   "outputs": [],
   "source": [
    "# 2016\n",
    "aux =  filtro.loc[:,['invoice_date', 'quantity']].groupby('invoice_date').sum().sort_values('quantity', ascending = False)\n",
    "aux.head()"
   ]
  },
  {
   "cell_type": "code",
   "execution_count": null,
   "id": "2ab456d7-d99a-42b6-9b31-42d5816e3636",
   "metadata": {},
   "outputs": [],
   "source": [
    "# 2017\n",
    "\n",
    "\n",
    "# Converta a coluna 'Timestamp' para o formato datetime\n",
    "df4['invoice_date'] = pd.to_datetime(df4['invoice_date'])\n",
    "\n",
    "# Crie um filtro para selecionar os valores antes de 2017\n",
    "filtro = df4[df4['invoice_date'].dt.year > 2016]\n",
    "filtro\n",
    "aux =  filtro.loc[:,['invoice_date', 'quantity']].groupby('invoice_date').sum().sort_values('quantity', ascending = False)\n",
    "aux.head()"
   ]
  },
  {
   "cell_type": "markdown",
   "id": "eb0746fb-2fc4-44f7-91b6-5ff0ed425295",
   "metadata": {},
   "source": [
    "### H5 - Qual o periodo do ano que menos vende?\n",
    "Fevereiro e Março"
   ]
  },
  {
   "cell_type": "code",
   "execution_count": null,
   "id": "809bdfcd-de04-4b9f-909a-f0c7f8f165e1",
   "metadata": {},
   "outputs": [],
   "source": [
    "# 2016\n",
    "\n",
    "\n",
    "# Converta a coluna 'Timestamp' para o formato datetime\n",
    "df4['invoice_date'] = pd.to_datetime(df4['invoice_date'])\n",
    "\n",
    "# Crie um filtro para selecionar os valores antes de 2017\n",
    "filtro = df4[df4['invoice_date'].dt.year > 2016]\n",
    "filtro\n",
    "aux =  filtro.loc[:,['invoice_date', 'quantity']].groupby('invoice_date').sum().sort_values('quantity', ascending = True)\n",
    "aux.head()"
   ]
  },
  {
   "cell_type": "code",
   "execution_count": null,
   "id": "e5156b08-99ed-4b2b-9e5c-be53b670225c",
   "metadata": {},
   "outputs": [],
   "source": [
    "# 2017\n",
    "\n",
    "\n",
    "# Converta a coluna 'Timestamp' para o formato datetime\n",
    "df4['invoice_date'] = pd.to_datetime(df4['invoice_date'])\n",
    "\n",
    "# Crie um filtro para selecionar os valores antes de 2017\n",
    "filtro = df4[df4['invoice_date'].dt.year > 2016]\n",
    "filtro\n",
    "aux =  filtro.loc[:,['invoice_date', 'quantity']].groupby('invoice_date').sum().sort_values('quantity', ascending = True)\n",
    "aux.head()"
   ]
  },
  {
   "cell_type": "markdown",
   "id": "4c2cb12d-37b6-4cfb-b5fa-a582f84441ed",
   "metadata": {},
   "source": [
    "## 5.2 Analise Univariada"
   ]
  },
  {
   "cell_type": "markdown",
   "id": "64e3f97b-a910-4692-961e-22532fb9af26",
   "metadata": {},
   "source": [
    "Analise univariada, não será possível já que não uma coluna predição ainda, a não ser que faça. \n",
    "Seria 1 para vendido, -1 ou 0 para cancelado. Como a ideia é segmentar em grupo, ter uma coluna desta não\n",
    "severia muito em primeira analise."
   ]
  },
  {
   "cell_type": "markdown",
   "id": "20e8da00-7c0c-481f-80f2-9733890bbf7b",
   "metadata": {},
   "source": [
    "### 5.2.1 invoice_no"
   ]
  },
  {
   "cell_type": "markdown",
   "id": "c715ea97-ae9b-4181-9227-3c3066e43f4e",
   "metadata": {},
   "source": [
    "### 5.2.2 stock_code"
   ]
  },
  {
   "cell_type": "markdown",
   "id": "096493e0-5dc3-45c8-a948-8ec6de0582bf",
   "metadata": {},
   "source": [
    "### 5.2.3 quantity"
   ]
  },
  {
   "cell_type": "markdown",
   "id": "0c3d2dfe-37dd-4e11-a00e-9de257cf811e",
   "metadata": {},
   "source": [
    "### 5.2.4 invoice_date"
   ]
  },
  {
   "cell_type": "markdown",
   "id": "0e96324a-bd57-4ca0-ba0b-033e76f985cf",
   "metadata": {},
   "source": [
    "### 5.2.5 unit_price"
   ]
  },
  {
   "cell_type": "markdown",
   "id": "f18ad226-76c4-4e17-a010-8d2b6f9c8594",
   "metadata": {},
   "source": [
    "### 5.2.5 customer_id"
   ]
  },
  {
   "cell_type": "markdown",
   "id": "f3398794-cd9b-4e44-88b6-fb2b2114d693",
   "metadata": {},
   "source": [
    "### 5.2.5 country"
   ]
  },
  {
   "cell_type": "code",
   "execution_count": null,
   "id": "2760b3c1-4028-436b-9215-766acec66993",
   "metadata": {},
   "outputs": [],
   "source": []
  }
 ],
 "metadata": {
  "kernelspec": {
   "display_name": "Python 3 (ipykernel)",
   "language": "python",
   "name": "python3"
  },
  "language_info": {
   "codemirror_mode": {
    "name": "ipython",
    "version": 3
   },
   "file_extension": ".py",
   "mimetype": "text/x-python",
   "name": "python",
   "nbconvert_exporter": "python",
   "pygments_lexer": "ipython3",
   "version": "3.10.12"
  }
 },
 "nbformat": 4,
 "nbformat_minor": 5
}
